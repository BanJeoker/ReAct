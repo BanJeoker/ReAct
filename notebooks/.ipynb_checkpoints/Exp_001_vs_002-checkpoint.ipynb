{
 "cells": [
  {
   "cell_type": "markdown",
   "id": "36a5ed1c-8510-440d-832b-b83622e071ac",
   "metadata": {
    "tags": []
   },
   "source": [
    "# This notebook test the difference of Gemini pro 001 and 002"
   ]
  },
  {
   "cell_type": "code",
   "execution_count": 6,
   "id": "6a0bacb7-926f-420b-905c-2e4387500208",
   "metadata": {
    "tags": []
   },
   "outputs": [],
   "source": [
    "from vertexai.generative_models import GenerationConfig, GenerativeModel, Content, Part  \n",
    "# from google.cloud import aiplatform  "
   ]
  },
  {
   "cell_type": "markdown",
   "id": "3952b2d4-2035-4cef-8cf1-f3228a2528ce",
   "metadata": {
    "tags": []
   },
   "source": [
    "## Simple question answering"
   ]
  },
  {
   "cell_type": "code",
   "execution_count": 3,
   "id": "5805b474-5ee9-4eb0-bc27-732c11df73e8",
   "metadata": {
    "tags": []
   },
   "outputs": [
    {
     "name": "stdout",
     "output_type": "stream",
     "text": [
      "The Los Angeles Rams have won **two** Super Bowls:\n",
      "\n",
      "* **Super Bowl XXXIV (2000):** Defeated the Tennessee Titans 23-16\n",
      "* **Super Bowl LVI (2022):** Defeated the Cincinnati Bengals 23-20 \n",
      "\n",
      "It's worth noting that one of their Super Bowl victories (XXXIV) was when the team was based in St. Louis. \n",
      "\n"
     ]
    }
   ],
   "source": [
    "# 001\n",
    "question='how many superbowls has Los Angeles Rams won?'\n",
    "model = GenerativeModel(\"gemini-1.5-pro-001\")\n",
    "response = model.generate_content([question], generation_config={\"temperature\":0})\n",
    "print(response.text)"
   ]
  },
  {
   "cell_type": "markdown",
   "id": "19f05e3f-55fd-433d-84ea-a6923e414ce5",
   "metadata": {},
   "source": [
    "<font color='green'><b>correct</b></font>"
   ]
  },
  {
   "cell_type": "code",
   "execution_count": 2,
   "id": "e289f88f-38d8-4960-8aec-61b3f423adb7",
   "metadata": {
    "tags": []
   },
   "outputs": [
    {
     "name": "stdout",
     "output_type": "stream",
     "text": [
      "The Los Angeles Rams have won **three** Super Bowls:\n",
      "\n",
      "* **Super Bowl XXXIV (2000):** Defeated the Tennessee Titans\n",
      "* **Super Bowl LVI (2022):** Defeated the Cincinnati Bengals\n",
      "* **Super Bowl XIV (1980) when they were located in Los Angeles** Defeated the Pittsburgh Steelers.  They also won one championship prior to the Super Bowl era (1951) when they were located in Cleveland.\n",
      "\n"
     ]
    }
   ],
   "source": [
    "# 002\n",
    "question='how many superbowls has Los Angeles Rams won?'\n",
    "model = GenerativeModel(\"gemini-1.5-pro-002\")\n",
    "response = model.generate_content([question], generation_config={\"temperature\":0})\n",
    "print(response.text)"
   ]
  },
  {
   "cell_type": "markdown",
   "id": "a06fd08c-11e0-4b79-819b-ba90ea460d16",
   "metadata": {
    "tags": []
   },
   "source": [
    "<font color='red'><b>incorrect, the winner is Pittsburgh in 1980, the source of Gemini-pro-002 is in doubt</b></font> "
   ]
  },
  {
   "cell_type": "code",
   "execution_count": 5,
   "id": "7d04ade0-428a-4a43-a002-57732ab4b00d",
   "metadata": {
    "tags": []
   },
   "outputs": [
    {
     "name": "stdout",
     "output_type": "stream",
     "text": [
      "The Los Angeles Rams have won **two** Super Bowls since becoming the Los Angeles Rams (they also won one as the St. Louis Rams):\n",
      "\n",
      "* **Super Bowl XXXIV (2000):** St. Louis Rams 23, Tennessee Titans 16\n",
      "* **Super Bowl LVI (2022):** Los Angeles Rams 23, Cincinnati Bengals 20\n",
      "\n"
     ]
    }
   ],
   "source": [
    "# 002\n",
    "question='how many superbowls has Los Angeles Rams won, and what are the score?'\n",
    "model = GenerativeModel(\"gemini-1.5-pro-002\")\n",
    "response = model.generate_content([question], generation_config={\"temperature\":0})\n",
    "print(response.text)"
   ]
  },
  {
   "cell_type": "markdown",
   "id": "8a83fcd4-3337-4898-bb02-eef45f76dcb3",
   "metadata": {},
   "source": [
    "<font color='green'><b>correct, but only with proper guidance</b></font>"
   ]
  },
  {
   "cell_type": "code",
   "execution_count": 39,
   "id": "b4d0a422-3369-465f-9f5f-f6d9b05b79d7",
   "metadata": {
    "tags": []
   },
   "outputs": [
    {
     "name": "stdout",
     "output_type": "stream",
     "text": [
      "I do not have access to real-time information, including financial data like Wells Fargo's net income. \n",
      "\n",
      "To find this information, I recommend checking these resources:\n",
      "\n",
      "* **Wells Fargo's Investor Relations Website:** This is the most reliable source for official financial data. Look for their quarterly earnings reports (usually labeled as 10-Q) or annual reports (10-K).\n",
      "* **Financial News Websites:** Websites like Yahoo Finance, Google Finance, Bloomberg, and Reuters will publish financial results for publicly traded companies like Wells Fargo shortly after they are announced.\n",
      "* **SEC EDGAR Database:** You can find official company filings, including financial statements, on the U.S. Securities and Exchange Commission's EDGAR database.\n",
      "\n",
      "Please note that Wells Fargo, like most companies, releases financial results on a quarterly and annual basis. So, you'll likely find the most up-to-date information a few weeks after each quarter ends. \n",
      "\n"
     ]
    }
   ],
   "source": [
    "# 001\n",
    "question=\"What is the Well Fargo's net income in 2023\"\n",
    "model = GenerativeModel(\"gemini-1.5-pro-001\")\n",
    "response = model.generate_content([question], generation_config={\"temperature\":0})\n",
    "print(response.text)"
   ]
  },
  {
   "cell_type": "markdown",
   "id": "d56b84b9-b919-4b06-835f-61f5b1f4fa67",
   "metadata": {
    "tags": []
   },
   "source": [
    "<font color='red'><b>do not have real-time info</b></font> "
   ]
  },
  {
   "cell_type": "code",
   "execution_count": 40,
   "id": "00303cf5-7839-4307-8003-99b6ce27d53e",
   "metadata": {
    "tags": []
   },
   "outputs": [
    {
     "name": "stdout",
     "output_type": "stream",
     "text": [
      "Wells Fargo's full-year 2023 net income was **$14.431 billion**.\n",
      "\n"
     ]
    }
   ],
   "source": [
    "# 002\n",
    "question=\"What is the Well Fargo's net income in 2023\"\n",
    "model = GenerativeModel(\"gemini-1.5-pro-002\")\n",
    "response = model.generate_content([question], generation_config={\"temperature\":0})\n",
    "print(response.text)"
   ]
  },
  {
   "cell_type": "markdown",
   "id": "bd2554cc-bdd1-4fd6-9176-f23ddf2bf0b3",
   "metadata": {
    "tags": []
   },
   "source": [
    "<font color='red'><b>incorrect. In 2023, Wells Fargo generated $19.1 billion in net income</b></font> "
   ]
  },
  {
   "cell_type": "markdown",
   "id": "cf6023f3-4ede-4967-b437-876401571a97",
   "metadata": {},
   "source": [
    "* 002 has more online info retrieval, but the source info might be incorrect"
   ]
  },
  {
   "cell_type": "markdown",
   "id": "d4963c2e-8f26-4a11-bf8f-79c3f5586bdd",
   "metadata": {
    "jp-MarkdownHeadingCollapsed": true,
    "tags": []
   },
   "source": [
    "## Financial question answering using one big prompt"
   ]
  },
  {
   "cell_type": "code",
   "execution_count": 8,
   "id": "f3afb4d6-71e5-40a1-ae2c-ec6a774e9896",
   "metadata": {
    "tags": []
   },
   "outputs": [],
   "source": [
    "import sys\n",
    "import os\n",
    "import importlib\n",
    "sys.path.append(os.path.abspath('../utils'))\n",
    "import big_prompt_agent\n",
    "importlib.reload(big_prompt_agent)\n",
    "from big_prompt_agent import BigPromptAgent"
   ]
  },
  {
   "cell_type": "code",
   "execution_count": null,
   "id": "619d79ea-8930-4dd7-a1d8-1804831f3291",
   "metadata": {},
   "outputs": [],
   "source": []
  },
  {
   "cell_type": "code",
   "execution_count": 13,
   "id": "c28db9c2-e53c-4d4a-a904-7b09871a0cd6",
   "metadata": {},
   "outputs": [
    {
     "name": "stdout",
     "output_type": "stream",
     "text": [
      "The provided auditor's report does not contain the information needed to answer your question. Therefore, I cannot answer your question. \n"
     ]
    }
   ],
   "source": [
    "agent_001=BigPromptAgent(pdf_path='../data/naf23.pdf', model='gemini-1.5-pro-001')\n",
    "query=\"what is National Ataxia Foundation's total revenue in 2023?\"\n",
    "\n",
    "answer=agent_001.run(query=query)\n",
    "print(answer)"
   ]
  },
  {
   "cell_type": "markdown",
   "id": "7158f772-b5bd-48be-94b0-8d198d0a4943",
   "metadata": {
    "tags": []
   },
   "source": [
    "<font color='red'><b>incorrect, cannot find the answer</b></font> "
   ]
  },
  {
   "cell_type": "code",
   "execution_count": 11,
   "id": "6edc235f-a4b1-4294-9c81-3d260d2c26bb",
   "metadata": {},
   "outputs": [
    {
     "name": "stdout",
     "output_type": "stream",
     "text": [
      "The provided financial statements are for the years ended December 31, 2023 *and* 2022.  The Statement of Activities shows the following total support and revenue for 2023:\n",
      "\n",
      "* **Total Support:** $3,205,136\n",
      "* **Total Revenue:** $979,651\n",
      "* **Net Assets Released from Restrictions:** ($975,954) - Note that this is a *decrease* in temporarily restricted net assets.\n",
      "* **Total Support and Revenue:** $4,184,787\n"
     ]
    }
   ],
   "source": [
    "agent_002=BigPromptAgent(pdf_path='../data/naf23.pdf', model='gemini-1.5-pro-002')\n",
    "query=\"what is National Ataxia Foundation's total revenue in 2023?\"\n",
    "\n",
    "answer=agent_002.run(query=query)\n",
    "print(answer)"
   ]
  },
  {
   "cell_type": "markdown",
   "id": "468f9cf0-31fa-4f4a-9d75-31e7ef2bda52",
   "metadata": {},
   "source": [
    "<font color='green'><b>correct</b></font>"
   ]
  },
  {
   "cell_type": "code",
   "execution_count": 14,
   "id": "e658fe46-bc2d-4959-adff-ecdd05f374c1",
   "metadata": {},
   "outputs": [
    {
     "name": "stdout",
     "output_type": "stream",
     "text": [
      "The provided document is an annual report of National Ataxia Foundation. It does not contain the information about the makeup of the expense. \n",
      "\n"
     ]
    }
   ],
   "source": [
    "query=\"what is National Ataxia Foundation's expense made of \"\n",
    "answer=agent_001.run(query=query)\n",
    "print(answer)"
   ]
  },
  {
   "cell_type": "markdown",
   "id": "063355c7-ad59-4b62-8167-833e6aa43057",
   "metadata": {
    "tags": []
   },
   "source": [
    "<font color='red'><b>incorrect, cannot find the answer</b></font> "
   ]
  },
  {
   "cell_type": "code",
   "execution_count": 15,
   "id": "a3ec852f-b207-408b-96bb-96d4608f3e28",
   "metadata": {
    "tags": []
   },
   "outputs": [
    {
     "name": "stdout",
     "output_type": "stream",
     "text": [
      "The Statement of Functional Expenses on page 9 of the provided financial report shows the breakdown of the National Ataxia Foundation's expenses for the year ended December 31, 2023.  The expenses are categorized as Program Services and Supporting Services.\n",
      "\n",
      "**Program Services:**\n",
      "\n",
      "* **Research:** $1,574,354\n",
      "* **Education and Service:** $1,146,980\n",
      "* **Drug Development Collaborative:** $1,188,427\n",
      "* **Total Program Services:** $3,909,761\n",
      "\n",
      "**Supporting Services:**\n",
      "\n",
      "* **Management and General:** $538,079\n",
      "* **Fundraising:** $548,618\n",
      "* **Total Supporting Services:** $1,086,697\n",
      "\n",
      "**Total Expenses:** $4,996,458\n",
      "\n",
      "\n",
      "Further details on the composition of each expense category (salaries, payroll taxes, fringe benefits, bank fees, etc.) can be found within the Statement of Functional Expenses itself.\n"
     ]
    }
   ],
   "source": [
    "query=\"what is National Ataxia Foundation's expense made of \"\n",
    "answer=agent_002.run(query=query)\n",
    "print(answer)"
   ]
  },
  {
   "cell_type": "markdown",
   "id": "79e342ad-3646-455c-8f66-040a1d6657ad",
   "metadata": {},
   "source": [
    "<font color='green'><b>correct</b></font>"
   ]
  },
  {
   "cell_type": "code",
   "execution_count": 16,
   "id": "04a17821-43fd-45f9-ab52-3f6ea214f923",
   "metadata": {
    "tags": []
   },
   "outputs": [
    {
     "name": "stdout",
     "output_type": "stream",
     "text": [
      "The provided document is an annual financial report of the National Ataxia Foundation. There is no information about what the foundation does in the provided excerpt. \n",
      "\n"
     ]
    }
   ],
   "source": [
    "query=\"what does National Ataxia Foundation do \"\n",
    "answer=agent_001.run(query=query)\n",
    "print(answer)"
   ]
  },
  {
   "cell_type": "code",
   "execution_count": 17,
   "id": "975152bf-5316-4b3e-af4e-a1bce4823b12",
   "metadata": {
    "tags": []
   },
   "outputs": [
    {
     "name": "stdout",
     "output_type": "stream",
     "text": [
      "The provided document is the annual financial report of the National Ataxia Foundation. It does not contain information about the foundation itself, but rather its financial position as of December 31, 2023, and 2022. \n",
      "\n"
     ]
    }
   ],
   "source": [
    "query=\"what do you know about National Ataxia Foudnation\"\n",
    "answer=agent_001.run(query=query)\n",
    "print(answer)"
   ]
  },
  {
   "cell_type": "markdown",
   "id": "26b92245-1fb6-4f52-9374-a98baa346544",
   "metadata": {
    "tags": []
   },
   "source": [
    "<font color='red'><b>incorrect, couldn't answer simple questions</b></font> "
   ]
  },
  {
   "cell_type": "markdown",
   "id": "d2f603d3-ae73-41be-bc41-a1f6c94accc4",
   "metadata": {},
   "source": [
    "## ReAct with RAG"
   ]
  },
  {
   "cell_type": "code",
   "execution_count": 18,
   "id": "72c22023-1faa-4852-b77c-2ddafbca37ef",
   "metadata": {},
   "outputs": [],
   "source": [
    "from IPython.display import Markdown,display,HTML\n",
    "\n",
    "\n",
    "import sys\n",
    "import json\n",
    "import os\n",
    "import importlib\n",
    "import math\n",
    "import html\n",
    "\n",
    "sys.path.append(os.path.abspath('../utils'))\n",
    "\n",
    "import tool_functions\n",
    "importlib.reload(tool_functions)\n",
    "from tool_functions import convert_to_tool # convert self-defined functions to Tool objects\n",
    "\n",
    "import rag\n",
    "importlib.reload(rag)\n",
    "from rag import RAG # RAG search function\n",
    "\n",
    "import react_agent\n",
    "importlib.reload(react_agent)\n",
    "from react_agent import ReactAgent"
   ]
  },
  {
   "cell_type": "code",
   "execution_count": 19,
   "id": "78f27899-de10-420b-877e-0b7939b1e017",
   "metadata": {
    "tags": []
   },
   "outputs": [
    {
     "name": "stderr",
     "output_type": "stream",
     "text": [
      "/opt/conda/lib/python3.10/site-packages/sentence_transformers/cross_encoder/CrossEncoder.py:13: TqdmExperimentalWarning: Using `tqdm.autonotebook.tqdm` in notebook mode. Use `tqdm.tqdm` instead to force console mode (e.g. in jupyter console)\n",
      "  from tqdm.autonotebook import tqdm, trange\n",
      "/opt/conda/lib/python3.10/site-packages/transformers/tokenization_utils_base.py:1617: FutureWarning: `clean_up_tokenization_spaces` was not set. It will be set to `True` by default. This behavior will be deprecated in transformers v4.45, and will be then set to `False` by default. For more details check this issue: https://github.com/huggingface/transformers/issues/31884\n",
      "  warnings.warn(\n"
     ]
    }
   ],
   "source": [
    "# read the data, create an RAG class on that data, create the search function\n",
    "data_path='../data/naf23.pdf'\n",
    "\n",
    "from PyPDF2 import PdfReader\n",
    "from langchain.text_splitter import RecursiveCharacterTextSplitter\n",
    "from langchain import FAISS\n",
    "from langchain_huggingface import HuggingFaceEmbeddings\n",
    "\n",
    "# create a faiss_vector_store\n",
    "pdf_reader = PdfReader(data_path)\n",
    "text = \"\"\n",
    "chunks=[]\n",
    "\n",
    "# read the pages\n",
    "for page in pdf_reader.pages:\n",
    "    text += page.extract_text()\n",
    "\n",
    "# text_splitter.create_documents() splits the text into chunks, then change each chunk into a 'Document' object of Langchain\n",
    "text_splitter = RecursiveCharacterTextSplitter(chunk_size=1500, chunk_overlap=100)\n",
    "chunks=text_splitter.create_documents([text])\n",
    "\n",
    "# embedding model\n",
    "embedding_model = HuggingFaceEmbeddings(model_name='sentence-transformers/all-mpnet-base-v2')\n",
    "\n",
    "# faiss_vector_store\n",
    "faiss_vector_store = FAISS.from_documents(chunks, embedding_model)\n",
    "\n",
    "rag_instance=RAG(pdf_path= data_path, chunking_method='recursive', faiss_vector_store=faiss_vector_store)\n",
    "\n",
    "def search(query : str):\n",
    "    \"\"\"\n",
    "    This is a search function on a pre-exisiting financial knoweldge base, you can use this search function to search for financial information of specific companies you do not know, treat this function as a internal wiki search that you can use\n",
    "\n",
    "    Args:\n",
    "        query (str): input query            \n",
    "    \"\"\"\n",
    "    results = rag_instance.search(query, method='ensemble')\n",
    "    return json.dumps({\"relevant information in the auditor notes\": results})\n",
    "\n",
    "# convert this search function to a Tool object\n",
    "search_tool = convert_to_tool(search)"
   ]
  },
  {
   "cell_type": "code",
   "execution_count": 21,
   "id": "d98a4c86-17e9-43ce-9940-33ec38017edc",
   "metadata": {
    "tags": []
   },
   "outputs": [],
   "source": [
    "agent_react_001 = ReactAgent(tools=[search_tool],model='gemini-1.5-pro-001')\n",
    "agent_react_002 = ReactAgent(tools=[search_tool],model='gemini-1.5-pro-002')\n"
   ]
  },
  {
   "cell_type": "markdown",
   "id": "521c80ab-95f4-4c4b-b2db-6cfa2f25061c",
   "metadata": {
    "tags": []
   },
   "source": [
    "### question 1"
   ]
  },
  {
   "cell_type": "code",
   "execution_count": 22,
   "id": "fa58c397-e0fe-437c-98d8-de5d81cba4ee",
   "metadata": {
    "tags": []
   },
   "outputs": [],
   "source": [
    "query = \"what is the total revenue of National Ataxia Foundation in 2023?\"\n"
   ]
  },
  {
   "cell_type": "code",
   "execution_count": 23,
   "id": "f7ed1bf5-23f9-4bb2-9bc0-7731e97cd5ee",
   "metadata": {
    "tags": []
   },
   "outputs": [
    {
     "name": "stdout",
     "output_type": "stream",
     "text": [
      "---------------------------------------- iteration 0  ----------------------------------------\n"
     ]
    },
    {
     "data": {
      "text/html": [
       "<span style=\"color: red;\"><b>Thought and Action</b></span>"
      ],
      "text/plain": [
       "<IPython.core.display.HTML object>"
      ]
     },
     "metadata": {},
     "output_type": "display_data"
    },
    {
     "data": {
      "text/html": [
       "<span style=\"color: red;\">&lt;thought&gt;I need to search the total revenue of National Ataxia Foundation in 2023 in my knowledge base.&lt;/thought&gt;\n",
       "&lt;tool_call&gt;\n",
       "{&quot;name&quot;: &quot;search&quot;, &quot;arguments&quot;: {&quot;query&quot;: &quot;National Ataxia Foundation total revenue 2023&quot;}, &quot;id&quot;: 0}\n",
       "&lt;/tool_call&gt;</span>"
      ],
      "text/plain": [
       "<IPython.core.display.HTML object>"
      ]
     },
     "metadata": {},
     "output_type": "display_data"
    },
    {
     "data": {
      "text/html": [
       "<span style=\"color: green;\"><b>\n",
       " Parsed Tool is: search</b></span>"
      ],
      "text/plain": [
       "<IPython.core.display.HTML object>"
      ]
     },
     "metadata": {},
     "output_type": "display_data"
    },
    {
     "data": {
      "text/html": [
       "<span style=\"color: green;\">\n",
       " Tool calling details: \n",
       "{'name': 'search', 'arguments': {'query': 'National Ataxia Foundation total revenue 2023'}, 'id': 0}</span>"
      ],
      "text/plain": [
       "<IPython.core.display.HTML object>"
      ]
     },
     "metadata": {},
     "output_type": "display_data"
    },
    {
     "data": {
      "text/html": [
       "<span style=\"color: blue;\"><b>Observation</b></span>"
      ],
      "text/plain": [
       "<IPython.core.display.HTML object>"
      ]
     },
     "metadata": {},
     "output_type": "display_data"
    },
    {
     "name": "stdout",
     "output_type": "stream",
     "text": [
      "{\"relevant information in the auditor notes\": \"Revenue\\nConference income 264,816           -                        264,816           \\nEarned income 570,833           -                        570,833           \\nInvestment income 144,002           -                        144,002           \\nTotal Revenue 979,651           -                        979,651           \\nNet Assets Released from Restrictions 975,954           (975,954)          -                        \\nTotal Support and Revenue 3,546,026       638,761           4,184,787       \\nExpenses\\nProgram services\\nResearch 1,574,354       -                        1,574,354       \\nEducation and service 1,146,980       -                        1,146,980       \\nDrug Development Collaborative 1,188,427       -                        1,188,427       \\nTotal Program Services 3,909,761       -                        3,909,761       \\nSupporting services\\nManagement and general 538,079           -                        538,079           \\nFundraising 548,618           -                        548,618           \\nTotal Supporting Services 1,086,697       -                        1,086,697       \\nTotal Expenses 4,996,458       -                        4,996,458       \\nChange in Net Assets (1,450,432)      638,761           (811,671)          \\nBeginning Net Assets 2,384,811       2,041,806       4,426,617       \\nEnding Net Assets 934,379 $        2,680,567$      3,614,946$      2023National Ataxia Foundation\\nStatements of Activities\\nFor the Years Ended December 31, 2023 and 2022102023 2022\\nCash Flows from Operating Activities\\nChange in net assets (811,671) $      266,396 $   \\nAdjustment to reconcile change in net assets\\nto net cash provided by operating activities:\\nRealized and unrealized loss (gain) on investments (75,701)  194,093  \\nAmortization of right of use asset 31,714  30,992  \\nChanges in assets:\\nAccounts receivable 48,893  (23,917)  \\nPrepaid expenses (68,659)  (121,375)  \\nChanges in liabilities:\\nAccounts payable (141,982)  388,029  \\nAccrued payroll and related expenses 5,914 8,434 \\nDeferred revenue 87,519  (150,209)  \\nOperating lease liability (31,549)  (30,374)  \\nNet Cash Provided (Used) by Operating Activities (955,522)  562,069  \\nCash Flows from Investing Activities\\nPurchase of investments (1,283,625)  (1,221,776)  \\nProceeds from sale of investments 1,278,699  1,080,423  \\n(4,926)  (141,353)  \\n(960,448)  420,716  \\n1,969,164  1,548,448  \\n1,008,716$     1,969,164$   Net Cash Used by Investing Activities  \\nChange in Cash and Cash Equivalents\\nBeginning Cash and Cash Equivalents\\nEnding Cash and Cash EquivalentsNational Ataxia Foundation\\nStatements of Cash Flows\\nFor the Years Ended December 31, 2023 and 2022\\nSee Independent Auditor's Report and Notes to the Financial Statements.\\n11 \\n National Ataxia Foundation  \\nNotes to the Financial Statements  \\nDecember 31, 2023  and 2022  \\n \\nNote 1:  Summary of Significant Accounting Policies  \\n \\nA. Nature of ActivitiesPrinting, marketing and multimedia 15,155             118,687             -                        133,842           45,852             29,898             209,592           \\nProfessional services 61,747             27,313               12,140             101,200           100,196           22,859             224,255           \\nResearch grants 740,530           -                          982,290           1,722,820       -                        -                        1,722,820       \\nSupport grants -                        26,520               -                        26,520             -                        -                        26,520             \\n \\nTotal Expenses 1,574,354$     1,146,980 $       1,188,427$      3,909,761$      538,079 $         548,618 $         4,996,458$      National Ataxia Foundation\\nStatements of Functional Expenses\\nFor the Years Ended December 31, 2023 and 2022\\nSupporting Services2023\\nProgram Services\\nSee Independent Auditor's Report and Notes to the Financial Statements.\\n9Drug\\nEducation Development Total Program Management\\nResearch and Service Collaborative Services and General Fundraising Total\\nSalaries and Related Expenses\\nSalaries and wages 421,058 $        301,183 $         151,075 $         873,316 $         97,636 $           225,018 $         1,195,970$      \\nPayroll taxes 30,284             22,016             10,822             63,122             6,467                16,431             86,020\"}\n",
      "---------------------------------------- iteration 1  ----------------------------------------\n"
     ]
    },
    {
     "data": {
      "text/html": [
       "<span style=\"color: red;\"><b>Thought and Action</b></span>"
      ],
      "text/plain": [
       "<IPython.core.display.HTML object>"
      ]
     },
     "metadata": {},
     "output_type": "display_data"
    },
    {
     "data": {
      "text/html": [
       "<span style=\"color: red;\">&lt;thought&gt;The total revenue of National Ataxia Foundation in 2023 is 979,651.&lt;/thought&gt;\n",
       "&lt;answer&gt;The total revenue of National Ataxia Foundation in 2023 is 979,651.&lt;/answer&gt;</span>"
      ],
      "text/plain": [
       "<IPython.core.display.HTML object>"
      ]
     },
     "metadata": {},
     "output_type": "display_data"
    },
    {
     "data": {
      "text/plain": [
       "'The total revenue of National Ataxia Foundation in 2023 is 979,651.'"
      ]
     },
     "execution_count": 23,
     "metadata": {},
     "output_type": "execute_result"
    }
   ],
   "source": [
    "agent_react_001.run(user_msg=query)"
   ]
  },
  {
   "cell_type": "code",
   "execution_count": 24,
   "id": "fae0a2a0-e239-4d9e-bd7c-3954ff31bf4a",
   "metadata": {
    "tags": []
   },
   "outputs": [
    {
     "name": "stdout",
     "output_type": "stream",
     "text": [
      "---------------------------------------- iteration 0  ----------------------------------------\n"
     ]
    },
    {
     "data": {
      "text/html": [
       "<span style=\"color: red;\"><b>Thought and Action</b></span>"
      ],
      "text/plain": [
       "<IPython.core.display.HTML object>"
      ]
     },
     "metadata": {},
     "output_type": "display_data"
    },
    {
     "data": {
      "text/html": [
       "<span style=\"color: red;\">&lt;thought&gt;I need to search the total revenue of National Ataxia Foundation in 2023 in my knowledge base.&lt;/thought&gt;\n",
       "&lt;tool_call&gt;{&quot;name&quot;: &quot;search&quot;,&quot;arguments&quot;: {&quot;query&quot;: &quot;National Ataxia Foundation total revenue 2023&quot;}, &quot;id&quot;: 0}&lt;/tool_call&gt;\n",
       "</span>"
      ],
      "text/plain": [
       "<IPython.core.display.HTML object>"
      ]
     },
     "metadata": {},
     "output_type": "display_data"
    },
    {
     "data": {
      "text/html": [
       "<span style=\"color: green;\"><b>\n",
       " Parsed Tool is: search</b></span>"
      ],
      "text/plain": [
       "<IPython.core.display.HTML object>"
      ]
     },
     "metadata": {},
     "output_type": "display_data"
    },
    {
     "data": {
      "text/html": [
       "<span style=\"color: green;\">\n",
       " Tool calling details: \n",
       "{'name': 'search', 'arguments': {'query': 'National Ataxia Foundation total revenue 2023'}, 'id': 0}</span>"
      ],
      "text/plain": [
       "<IPython.core.display.HTML object>"
      ]
     },
     "metadata": {},
     "output_type": "display_data"
    },
    {
     "data": {
      "text/html": [
       "<span style=\"color: blue;\"><b>Observation</b></span>"
      ],
      "text/plain": [
       "<IPython.core.display.HTML object>"
      ]
     },
     "metadata": {},
     "output_type": "display_data"
    },
    {
     "name": "stdout",
     "output_type": "stream",
     "text": [
      "{\"relevant information in the auditor notes\": \"Revenue\\nConference income 264,816           -                        264,816           \\nEarned income 570,833           -                        570,833           \\nInvestment income 144,002           -                        144,002           \\nTotal Revenue 979,651           -                        979,651           \\nNet Assets Released from Restrictions 975,954           (975,954)          -                        \\nTotal Support and Revenue 3,546,026       638,761           4,184,787       \\nExpenses\\nProgram services\\nResearch 1,574,354       -                        1,574,354       \\nEducation and service 1,146,980       -                        1,146,980       \\nDrug Development Collaborative 1,188,427       -                        1,188,427       \\nTotal Program Services 3,909,761       -                        3,909,761       \\nSupporting services\\nManagement and general 538,079           -                        538,079           \\nFundraising 548,618           -                        548,618           \\nTotal Supporting Services 1,086,697       -                        1,086,697       \\nTotal Expenses 4,996,458       -                        4,996,458       \\nChange in Net Assets (1,450,432)      638,761           (811,671)          \\nBeginning Net Assets 2,384,811       2,041,806       4,426,617       \\nEnding Net Assets 934,379 $        2,680,567$      3,614,946$      2023National Ataxia Foundation\\nStatements of Activities\\nFor the Years Ended December 31, 2023 and 2022102023 2022\\nCash Flows from Operating Activities\\nChange in net assets (811,671) $      266,396 $   \\nAdjustment to reconcile change in net assets\\nto net cash provided by operating activities:\\nRealized and unrealized loss (gain) on investments (75,701)  194,093  \\nAmortization of right of use asset 31,714  30,992  \\nChanges in assets:\\nAccounts receivable 48,893  (23,917)  \\nPrepaid expenses (68,659)  (121,375)  \\nChanges in liabilities:\\nAccounts payable (141,982)  388,029  \\nAccrued payroll and related expenses 5,914 8,434 \\nDeferred revenue 87,519  (150,209)  \\nOperating lease liability (31,549)  (30,374)  \\nNet Cash Provided (Used) by Operating Activities (955,522)  562,069  \\nCash Flows from Investing Activities\\nPurchase of investments (1,283,625)  (1,221,776)  \\nProceeds from sale of investments 1,278,699  1,080,423  \\n(4,926)  (141,353)  \\n(960,448)  420,716  \\n1,969,164  1,548,448  \\n1,008,716$     1,969,164$   Net Cash Used by Investing Activities  \\nChange in Cash and Cash Equivalents\\nBeginning Cash and Cash Equivalents\\nEnding Cash and Cash EquivalentsNational Ataxia Foundation\\nStatements of Cash Flows\\nFor the Years Ended December 31, 2023 and 2022\\nSee Independent Auditor's Report and Notes to the Financial Statements.\\n11 \\n National Ataxia Foundation  \\nNotes to the Financial Statements  \\nDecember 31, 2023  and 2022  \\n \\nNote 1:  Summary of Significant Accounting Policies  \\n \\nA. Nature of ActivitiesPrinting, marketing and multimedia 15,155             118,687             -                        133,842           45,852             29,898             209,592           \\nProfessional services 61,747             27,313               12,140             101,200           100,196           22,859             224,255           \\nResearch grants 740,530           -                          982,290           1,722,820       -                        -                        1,722,820       \\nSupport grants -                        26,520               -                        26,520             -                        -                        26,520             \\n \\nTotal Expenses 1,574,354$     1,146,980 $       1,188,427$      3,909,761$      538,079 $         548,618 $         4,996,458$      National Ataxia Foundation\\nStatements of Functional Expenses\\nFor the Years Ended December 31, 2023 and 2022\\nSupporting Services2023\\nProgram Services\\nSee Independent Auditor's Report and Notes to the Financial Statements.\\n9Drug\\nEducation Development Total Program Management\\nResearch and Service Collaborative Services and General Fundraising Total\\nSalaries and Related Expenses\\nSalaries and wages 421,058 $        301,183 $         151,075 $         873,316 $         97,636 $           225,018 $         1,195,970$      \\nPayroll taxes 30,284             22,016             10,822             63,122             6,467                16,431             86,020\"}\n",
      "---------------------------------------- iteration 1  ----------------------------------------\n"
     ]
    },
    {
     "data": {
      "text/html": [
       "<span style=\"color: red;\"><b>Thought and Action</b></span>"
      ],
      "text/plain": [
       "<IPython.core.display.HTML object>"
      ]
     },
     "metadata": {},
     "output_type": "display_data"
    },
    {
     "data": {
      "text/html": [
       "<span style=\"color: red;\">&lt;thought&gt;The total revenue for National Ataxia Foundation in 2023 is $979,651.&lt;/thought&gt;\n",
       "&lt;answer&gt;The total revenue for National Ataxia Foundation in 2023 is $979,651.&lt;/answer&gt;\n",
       "</span>"
      ],
      "text/plain": [
       "<IPython.core.display.HTML object>"
      ]
     },
     "metadata": {},
     "output_type": "display_data"
    },
    {
     "data": {
      "text/plain": [
       "'The total revenue for National Ataxia Foundation in 2023 is $979,651.'"
      ]
     },
     "execution_count": 24,
     "metadata": {},
     "output_type": "execute_result"
    }
   ],
   "source": [
    "agent_react_002.run(user_msg=query)"
   ]
  },
  {
   "cell_type": "markdown",
   "id": "6dd348ba-8d07-4cea-8892-6cf81e04cc75",
   "metadata": {},
   "source": [
    "* both are correct, since this is a basic retrieval question\n",
    "* with the help of RAG, even 001 can answer it"
   ]
  },
  {
   "cell_type": "markdown",
   "id": "4c8809f2-0bc4-4aa8-ad57-2629355ced85",
   "metadata": {},
   "source": [
    "### question 2"
   ]
  },
  {
   "cell_type": "code",
   "execution_count": 25,
   "id": "b1c9f079-3432-465f-aab3-3ebc44a92ddf",
   "metadata": {
    "tags": []
   },
   "outputs": [],
   "source": [
    "query=\"What caused the significant change in National Ataxia Foundation's net assets with donor restrictions between 2022 and 2023?\""
   ]
  },
  {
   "cell_type": "code",
   "execution_count": 26,
   "id": "87b11acb-3a9a-4794-beff-c2b23c034232",
   "metadata": {
    "tags": []
   },
   "outputs": [
    {
     "name": "stdout",
     "output_type": "stream",
     "text": [
      "---------------------------------------- iteration 0  ----------------------------------------\n"
     ]
    },
    {
     "data": {
      "text/html": [
       "<span style=\"color: red;\"><b>Thought and Action</b></span>"
      ],
      "text/plain": [
       "<IPython.core.display.HTML object>"
      ]
     },
     "metadata": {},
     "output_type": "display_data"
    },
    {
     "data": {
      "text/html": [
       "<span style=\"color: red;\">&lt;thought&gt;I need to search for information on National Ataxia Foundation&#x27;s net assets with donor restrictions between 2022 and 2023 to understand the reason for the change.&lt;/thought&gt;\n",
       "&lt;tool_call&gt;\n",
       "{&quot;name&quot;: &quot;search&quot;, &quot;arguments&quot;: {&quot;query&quot;: &quot;National Ataxia Foundation net assets with donor restrictions 2022 2023 changes&quot;}, &quot;id&quot;: 0}\n",
       "&lt;/tool_call&gt; \n",
       "</span>"
      ],
      "text/plain": [
       "<IPython.core.display.HTML object>"
      ]
     },
     "metadata": {},
     "output_type": "display_data"
    },
    {
     "data": {
      "text/html": [
       "<span style=\"color: green;\"><b>\n",
       " Parsed Tool is: search</b></span>"
      ],
      "text/plain": [
       "<IPython.core.display.HTML object>"
      ]
     },
     "metadata": {},
     "output_type": "display_data"
    },
    {
     "data": {
      "text/html": [
       "<span style=\"color: green;\">\n",
       " Tool calling details: \n",
       "{'name': 'search', 'arguments': {'query': 'National Ataxia Foundation net assets with donor restrictions 2022 2023 changes'}, 'id': 0}</span>"
      ],
      "text/plain": [
       "<IPython.core.display.HTML object>"
      ]
     },
     "metadata": {},
     "output_type": "display_data"
    },
    {
     "data": {
      "text/html": [
       "<span style=\"color: blue;\"><b>Observation</b></span>"
      ],
      "text/plain": [
       "<IPython.core.display.HTML object>"
      ]
     },
     "metadata": {},
     "output_type": "display_data"
    },
    {
     "name": "stdout",
     "output_type": "stream",
     "text": [
      "{\"relevant information in the auditor notes\": \"and stored at the NINDS SCA -BRAC biorepository. Both de-identified clinical data and biofluids are available \\nfor request from non -participating investigators for approved research projects.  \\n  \\n13 \\n National Ataxia Foundation  \\nNotes to the Financial Statements  \\nDecember 31, 2023  and 2022  \\n \\nNote 1:  Summary of Significant Accounting Policies (Continued)  \\n \\nB. Basis of Accounting and Presentation  \\n \\nThe accompanying financial statements have been prepared using  the accrual basis of accounting in accordance with \\naccounting principles generally accepted in the United States of America.   \\n \\nRevenues are recorded when earned and expenses are recorded when a liability is incurred. Contributions received are \\nrecorded as an increase in non -donor -restricted or donor -restricted support depending on the existence or nature of any \\ndonor restrictions.  Accordingly, net assets of the Foundation and changes therein are classified and reported as follows:  \\n \\nNet Assets Without Donor Restriction  - Those resources over which the Foundation has discretionary control.  \\n \\nNet Assets With Donor Restriction  - Those resources subject to donor imposed restrictions, which are satisfied by \\nactions of the Foundation or passage of time, or are to be maintained permanently.  \\n \\nC. Use of Estimates  \\n \\nThe preparation of financial statements in conformity with accounting principles generally accepted in the United StatesTotal Assets 4,116,826$     5,008,595$      \\nLiabilities and Net Assets\\nCurrent Liabilities\\nAccounts payable 298,827 $        440,809 $         \\nAccrued payroll and related expenses 35,140             29,226             \\nDeferred revenue 109,810 22,291\\nOperating lease liability, current portion 32,750 31,548\\nTotal Current Liabilities 476,527           523,874           \\nLong-term Operating Lease Liability, Less Current Portion 25,353 58,104\\nTotal Liabilities 501,880           581,978           \\nNet Assets\\nWithout donor restriction\\nBoard designated - operating reserve 396,499           420,985           \\nUndesignated 537,880           1,963,826       \\nTotal Net Assets Without Donor Restriction 934,379           2,384,811       \\nWith donor restriction 2,680,567       2,041,806       \\nTotal Net Assets 3,614,946       4,426,617       \\nTotal Liabilities and Net Assets 4,116,826$     5,008,595$      National Ataxia Foundation\\nStatements of Financial Position\\nDecember 31, 2023 and 2022\\nSee Independent Auditor's Report and Notes to the Financial Statements.\\n6Without Donor With Donor\\nRestriction Restriction Total\\nSupport and Revenue\\nSupport\\nContributions, memorials and honorariums 1,468,504$     1,614,715$      3,083,219$      \\nIn-kind contributions 121,917           -                        121,917           \\nTotal Support 1,590,421       1,614,715       3,205,136       \\nRevenue\\nConference income 264,816           -                        264,816121,917 $        - $                     Programs and \\nFundraising\\nWebsite Services -                        9,870               Management and \\nGeneralEstimated wholesale price of \\nidentical or similar products\\nTotal In-kind Contributions 121,917 $        9,870 $            Google and                         \\nMicrosoft Advertising GrantsEstimated wholesale price of \\nidentical or similar products\\n \\nThe in -kind contributions as of December 31, 2023  and 2022  had no donor restrictions.  \\n  \\n20 \\n National Ataxia Foundation  \\nNotes to the Financial Statements  \\nDecember 31, 2023  and 2022  \\n \\nNote 10: Liquidity and Availability of Financial Assets  \\n \\nFinancial assets available for general expenditure, that is, without donor or other restrictions limiting their use, within o ne \\nyear of the statement of financial position dates, comprise the following:  \\n \\n2023 2022\\nCash and cash equivalents 1,008,716$     1,969,164$     \\nInvestments 2,788,623       2,707,996       \\nAccounts receivable 6,438               55,331             \\nTotal Financial Assets Available Within One Year 3,803,777       4,732,491       \\nLess: Amounts unavailable for general expenditures within one year due to:\\nBoard designated (396,499)          (420,985)          \\nRestricted by donors (2,680,567)      (2,041,806)      \\nFinancial assets available to meet general expenditures within one year 726,711 $        2,269,700$\"}\n",
      "---------------------------------------- iteration 1  ----------------------------------------\n"
     ]
    },
    {
     "data": {
      "text/html": [
       "<span style=\"color: red;\"><b>Thought and Action</b></span>"
      ],
      "text/plain": [
       "<IPython.core.display.HTML object>"
      ]
     },
     "metadata": {},
     "output_type": "display_data"
    },
    {
     "data": {
      "text/html": [
       "<span style=\"color: red;\">&lt;thought&gt;The provided information does not contain specific details about the reasons for the change in National Ataxia Foundation&#x27;s net assets with donor restrictions. I need more information to answer this question.&lt;/thought&gt;\n",
       "&lt;answer&gt;I cannot answer your question based on the provided information. The auditor notes do not explain the reason for the change in National Ataxia Foundation&#x27;s net assets with donor restrictions between 2022 and 2023. &lt;/answer&gt; \n",
       "</span>"
      ],
      "text/plain": [
       "<IPython.core.display.HTML object>"
      ]
     },
     "metadata": {},
     "output_type": "display_data"
    },
    {
     "data": {
      "text/plain": [
       "\"I cannot answer your question based on the provided information. The auditor notes do not explain the reason for the change in National Ataxia Foundation's net assets with donor restrictions between 2022 and 2023.\""
      ]
     },
     "execution_count": 26,
     "metadata": {},
     "output_type": "execute_result"
    }
   ],
   "source": [
    "agent_react_001.run(user_msg=query)"
   ]
  },
  {
   "cell_type": "code",
   "execution_count": 27,
   "id": "bd3a6512-90ee-40f8-99ee-6a8602d4e743",
   "metadata": {
    "tags": []
   },
   "outputs": [
    {
     "name": "stdout",
     "output_type": "stream",
     "text": [
      "---------------------------------------- iteration 0  ----------------------------------------\n"
     ]
    },
    {
     "data": {
      "text/html": [
       "<span style=\"color: red;\"><b>Thought and Action</b></span>"
      ],
      "text/plain": [
       "<IPython.core.display.HTML object>"
      ]
     },
     "metadata": {},
     "output_type": "display_data"
    },
    {
     "data": {
      "text/html": [
       "<span style=\"color: red;\">&lt;thought&gt;I need to search for information on the National Ataxia Foundation&#x27;s financials, specifically their net assets with donor restrictions for 2022 and 2023, to understand the reasons behind the changes.&lt;/thought&gt;\n",
       "&lt;tool_call&gt;{&quot;name&quot;: &quot;search&quot;,&quot;arguments&quot;: {&quot;query&quot;: &quot;National Ataxia Foundation net assets with donor restrictions 2022 2023 changes&quot;}, &quot;id&quot;: 0}&lt;/tool_call&gt;\n",
       "</span>"
      ],
      "text/plain": [
       "<IPython.core.display.HTML object>"
      ]
     },
     "metadata": {},
     "output_type": "display_data"
    },
    {
     "data": {
      "text/html": [
       "<span style=\"color: green;\"><b>\n",
       " Parsed Tool is: search</b></span>"
      ],
      "text/plain": [
       "<IPython.core.display.HTML object>"
      ]
     },
     "metadata": {},
     "output_type": "display_data"
    },
    {
     "data": {
      "text/html": [
       "<span style=\"color: green;\">\n",
       " Tool calling details: \n",
       "{'name': 'search', 'arguments': {'query': 'National Ataxia Foundation net assets with donor restrictions 2022 2023 changes'}, 'id': 0}</span>"
      ],
      "text/plain": [
       "<IPython.core.display.HTML object>"
      ]
     },
     "metadata": {},
     "output_type": "display_data"
    },
    {
     "data": {
      "text/html": [
       "<span style=\"color: blue;\"><b>Observation</b></span>"
      ],
      "text/plain": [
       "<IPython.core.display.HTML object>"
      ]
     },
     "metadata": {},
     "output_type": "display_data"
    },
    {
     "name": "stdout",
     "output_type": "stream",
     "text": [
      "{\"relevant information in the auditor notes\": \"and stored at the NINDS SCA -BRAC biorepository. Both de-identified clinical data and biofluids are available \\nfor request from non -participating investigators for approved research projects.  \\n  \\n13 \\n National Ataxia Foundation  \\nNotes to the Financial Statements  \\nDecember 31, 2023  and 2022  \\n \\nNote 1:  Summary of Significant Accounting Policies (Continued)  \\n \\nB. Basis of Accounting and Presentation  \\n \\nThe accompanying financial statements have been prepared using  the accrual basis of accounting in accordance with \\naccounting principles generally accepted in the United States of America.   \\n \\nRevenues are recorded when earned and expenses are recorded when a liability is incurred. Contributions received are \\nrecorded as an increase in non -donor -restricted or donor -restricted support depending on the existence or nature of any \\ndonor restrictions.  Accordingly, net assets of the Foundation and changes therein are classified and reported as follows:  \\n \\nNet Assets Without Donor Restriction  - Those resources over which the Foundation has discretionary control.  \\n \\nNet Assets With Donor Restriction  - Those resources subject to donor imposed restrictions, which are satisfied by \\nactions of the Foundation or passage of time, or are to be maintained permanently.  \\n \\nC. Use of Estimates  \\n \\nThe preparation of financial statements in conformity with accounting principles generally accepted in the United StatesTotal Assets 4,116,826$     5,008,595$      \\nLiabilities and Net Assets\\nCurrent Liabilities\\nAccounts payable 298,827 $        440,809 $         \\nAccrued payroll and related expenses 35,140             29,226             \\nDeferred revenue 109,810 22,291\\nOperating lease liability, current portion 32,750 31,548\\nTotal Current Liabilities 476,527           523,874           \\nLong-term Operating Lease Liability, Less Current Portion 25,353 58,104\\nTotal Liabilities 501,880           581,978           \\nNet Assets\\nWithout donor restriction\\nBoard designated - operating reserve 396,499           420,985           \\nUndesignated 537,880           1,963,826       \\nTotal Net Assets Without Donor Restriction 934,379           2,384,811       \\nWith donor restriction 2,680,567       2,041,806       \\nTotal Net Assets 3,614,946       4,426,617       \\nTotal Liabilities and Net Assets 4,116,826$     5,008,595$      National Ataxia Foundation\\nStatements of Financial Position\\nDecember 31, 2023 and 2022\\nSee Independent Auditor's Report and Notes to the Financial Statements.\\n6Without Donor With Donor\\nRestriction Restriction Total\\nSupport and Revenue\\nSupport\\nContributions, memorials and honorariums 1,468,504$     1,614,715$      3,083,219$      \\nIn-kind contributions 121,917           -                        121,917           \\nTotal Support 1,590,421       1,614,715       3,205,136       \\nRevenue\\nConference income 264,816           -                        264,816121,917 $        - $                     Programs and \\nFundraising\\nWebsite Services -                        9,870               Management and \\nGeneralEstimated wholesale price of \\nidentical or similar products\\nTotal In-kind Contributions 121,917 $        9,870 $            Google and                         \\nMicrosoft Advertising GrantsEstimated wholesale price of \\nidentical or similar products\\n \\nThe in -kind contributions as of December 31, 2023  and 2022  had no donor restrictions.  \\n  \\n20 \\n National Ataxia Foundation  \\nNotes to the Financial Statements  \\nDecember 31, 2023  and 2022  \\n \\nNote 10: Liquidity and Availability of Financial Assets  \\n \\nFinancial assets available for general expenditure, that is, without donor or other restrictions limiting their use, within o ne \\nyear of the statement of financial position dates, comprise the following:  \\n \\n2023 2022\\nCash and cash equivalents 1,008,716$     1,969,164$     \\nInvestments 2,788,623       2,707,996       \\nAccounts receivable 6,438               55,331             \\nTotal Financial Assets Available Within One Year 3,803,777       4,732,491       \\nLess: Amounts unavailable for general expenditures within one year due to:\\nBoard designated (396,499)          (420,985)          \\nRestricted by donors (2,680,567)      (2,041,806)      \\nFinancial assets available to meet general expenditures within one year 726,711 $        2,269,700$\"}\n",
      "---------------------------------------- iteration 1  ----------------------------------------\n"
     ]
    },
    {
     "data": {
      "text/html": [
       "<span style=\"color: red;\"><b>Thought and Action</b></span>"
      ],
      "text/plain": [
       "<IPython.core.display.HTML object>"
      ]
     },
     "metadata": {},
     "output_type": "display_data"
    },
    {
     "data": {
      "text/html": [
       "<span style=\"color: red;\">&lt;thought&gt;The observation provides information from the National Ataxia Foundation&#x27;s financial statements for 2022 and 2023.  I can see the net assets with donor restrictions were $2,680,567 in 2023 and $2,041,806 in 2022. This represents an increase of $638,761.  I need to look for details within the provided text explaining this change. The notes mention contributions, but don&#x27;t break down restricted vs. unrestricted amounts.  I need more information to pinpoint the exact cause of the change.&lt;/thought&gt;\n",
       "&lt;tool_call&gt;{&quot;name&quot;: &quot;search&quot;,&quot;arguments&quot;: {&quot;query&quot;: &quot;National Ataxia Foundation contributions with donor restrictions 2022 2023&quot;}, &quot;id&quot;: 1}&lt;/tool_call&gt;\n",
       "</span>"
      ],
      "text/plain": [
       "<IPython.core.display.HTML object>"
      ]
     },
     "metadata": {},
     "output_type": "display_data"
    },
    {
     "data": {
      "text/html": [
       "<span style=\"color: green;\"><b>\n",
       " Parsed Tool is: search</b></span>"
      ],
      "text/plain": [
       "<IPython.core.display.HTML object>"
      ]
     },
     "metadata": {},
     "output_type": "display_data"
    },
    {
     "data": {
      "text/html": [
       "<span style=\"color: green;\">\n",
       " Tool calling details: \n",
       "{'name': 'search', 'arguments': {'query': 'National Ataxia Foundation contributions with donor restrictions 2022 2023'}, 'id': 1}</span>"
      ],
      "text/plain": [
       "<IPython.core.display.HTML object>"
      ]
     },
     "metadata": {},
     "output_type": "display_data"
    },
    {
     "data": {
      "text/html": [
       "<span style=\"color: blue;\"><b>Observation</b></span>"
      ],
      "text/plain": [
       "<IPython.core.display.HTML object>"
      ]
     },
     "metadata": {},
     "output_type": "display_data"
    },
    {
     "name": "stdout",
     "output_type": "stream",
     "text": [
      "{\"relevant information in the auditor notes\": \"121,917 $        - $                     Programs and \\nFundraising\\nWebsite Services -                        9,870               Management and \\nGeneralEstimated wholesale price of \\nidentical or similar products\\nTotal In-kind Contributions 121,917 $        9,870 $            Google and                         \\nMicrosoft Advertising GrantsEstimated wholesale price of \\nidentical or similar products\\n \\nThe in -kind contributions as of December 31, 2023  and 2022  had no donor restrictions.  \\n  \\n20 \\n National Ataxia Foundation  \\nNotes to the Financial Statements  \\nDecember 31, 2023  and 2022  \\n \\nNote 10: Liquidity and Availability of Financial Assets  \\n \\nFinancial assets available for general expenditure, that is, without donor or other restrictions limiting their use, within o ne \\nyear of the statement of financial position dates, comprise the following:  \\n \\n2023 2022\\nCash and cash equivalents 1,008,716$     1,969,164$     \\nInvestments 2,788,623       2,707,996       \\nAccounts receivable 6,438               55,331             \\nTotal Financial Assets Available Within One Year 3,803,777       4,732,491       \\nLess: Amounts unavailable for general expenditures within one year due to:\\nBoard designated (396,499)          (420,985)          \\nRestricted by donors (2,680,567)      (2,041,806)      \\nFinancial assets available to meet general expenditures within one year 726,711 $        2,269,700$and stored at the NINDS SCA -BRAC biorepository. Both de-identified clinical data and biofluids are available \\nfor request from non -participating investigators for approved research projects.  \\n  \\n13 \\n National Ataxia Foundation  \\nNotes to the Financial Statements  \\nDecember 31, 2023  and 2022  \\n \\nNote 1:  Summary of Significant Accounting Policies (Continued)  \\n \\nB. Basis of Accounting and Presentation  \\n \\nThe accompanying financial statements have been prepared using  the accrual basis of accounting in accordance with \\naccounting principles generally accepted in the United States of America.   \\n \\nRevenues are recorded when earned and expenses are recorded when a liability is incurred. Contributions received are \\nrecorded as an increase in non -donor -restricted or donor -restricted support depending on the existence or nature of any \\ndonor restrictions.  Accordingly, net assets of the Foundation and changes therein are classified and reported as follows:  \\n \\nNet Assets Without Donor Restriction  - Those resources over which the Foundation has discretionary control.  \\n \\nNet Assets With Donor Restriction  - Those resources subject to donor imposed restrictions, which are satisfied by \\nactions of the Foundation or passage of time, or are to be maintained permanently.  \\n \\nC. Use of Estimates  \\n \\nThe preparation of financial statements in conformity with accounting principles generally accepted in the United Statesaccording to the Foundation 's elected policy. The Foundation 's lease agreement does not contain any material residual \\nvalue guarantees or material restrictive covenants.  \\n \\nAdditional information about the Foundation \\u2019s lease for the year ended December 31, 2023 , is as follows:  \\n \\nLease expense (included in operating expenses)\\nOperating lease expense 33,406 $          \\nVariable lease expense 27,997             \\nTotal Lease Expense: 61,403 $          \\nOther Information\\nCash paid for amounts included in the measurement of lease liabilities\\nOperating cash flows from operating leases 33,240 $          \\nWeighted-average remaining lease term in years for operating leases 1.75                 \\nWeighted-average discount rate for operating leases 2.333%\\nFuture minimum payments for leases are as follows:\\nYear Ended December 31, Amount\\n2024 33,693 $          \\n2025 25,552             \\nTotal undiscounted cash flows 59,245             \\nLess: present value discount (1,142)              \\nTotal Lease Liabilities 58,103 $          \\n \\n19 \\n National Ataxia Foundation  \\nNotes to the Financial Statements  \\nDecember 31, 2023  and 2022  \\n \\nNote 6: Net Assets with Donor Restrictions  \\n \\nNet assets with donor restrictions were available for the following purposes at December 31:  \\n \\n2023 2022\\nSCA2 Fund 880,250 $        500,000 $        \\nMR Imaging Study Fund 612,044           -                        \\nGeneral Research (Includes stock) 394,144           385,387\"}\n",
      "---------------------------------------- iteration 2  ----------------------------------------\n"
     ]
    },
    {
     "data": {
      "text/html": [
       "<span style=\"color: red;\"><b>Thought and Action</b></span>"
      ],
      "text/plain": [
       "<IPython.core.display.HTML object>"
      ]
     },
     "metadata": {},
     "output_type": "display_data"
    },
    {
     "data": {
      "text/html": [
       "<span style=\"color: red;\">&lt;thought&gt;The information provided still doesn&#x27;t give a clear reason for the change in net assets with donor restrictions. While it mentions some specific funds and amounts, it doesn&#x27;t explain the $638,761 increase between 2022 and 2023.  It&#x27;s possible the information is incomplete or that the increase is due to a combination of factors not explicitly stated. I need to try a more general search about changes in the foundation&#x27;s funding.&lt;/thought&gt;\n",
       "&lt;tool_call&gt;{&quot;name&quot;: &quot;search&quot;,&quot;arguments&quot;: {&quot;query&quot;: &quot;National Ataxia Foundation funding changes 2022 2023&quot;}, &quot;id&quot;: 2}&lt;/tool_call&gt;\n",
       "</span>"
      ],
      "text/plain": [
       "<IPython.core.display.HTML object>"
      ]
     },
     "metadata": {},
     "output_type": "display_data"
    },
    {
     "data": {
      "text/html": [
       "<span style=\"color: green;\"><b>\n",
       " Parsed Tool is: search</b></span>"
      ],
      "text/plain": [
       "<IPython.core.display.HTML object>"
      ]
     },
     "metadata": {},
     "output_type": "display_data"
    },
    {
     "data": {
      "text/html": [
       "<span style=\"color: green;\">\n",
       " Tool calling details: \n",
       "{'name': 'search', 'arguments': {'query': 'National Ataxia Foundation funding changes 2022 2023'}, 'id': 2}</span>"
      ],
      "text/plain": [
       "<IPython.core.display.HTML object>"
      ]
     },
     "metadata": {},
     "output_type": "display_data"
    },
    {
     "data": {
      "text/html": [
       "<span style=\"color: blue;\"><b>Observation</b></span>"
      ],
      "text/plain": [
       "<IPython.core.display.HTML object>"
      ]
     },
     "metadata": {},
     "output_type": "display_data"
    },
    {
     "name": "stdout",
     "output_type": "stream",
     "text": [
      "{\"relevant information in the auditor notes\": \"Annual Financial  \\nReport  \\nNational Ataxia Foundation   \\nSt. Louis Park, Minnesota  \\n \\n \\nFor the years ended December 31, 2023  and 2022  \\n National Ataxia Foundation  \\nTable of Contents  \\nDecember 31, 2023  and 2022  \\nPage No.  \\nIndependent Auditor's Report  3 \\nFinancial Statements  \\nStatement s of Financial Position  6 \\nStatement s of Activities  7 \\nStatements of Functional Expenses  9 \\nStateme nts of Cash Flows  11 \\nNotes to the Financial Statements  12 \\n2 \\n  \\n \\n \\n \\n \\n \\nINDEPENDENT AUDITOR'S REPORT  \\n \\n \\nBoard of Directors  \\nNational Ataxia Foundation  \\nSt. Louis Park , Minnesota  \\n \\nOpinion  \\n \\nWe have audited the accompanying financial statements of National Ataxia Foundation  (the Foundation ), which comprise \\nthe statements of financial position as of December 31, 2023  and 2022 , and the related statements of activities, \\nfunctional expenses and cash flows for the years then ended, and the related notes to the financial statements.  \\n \\nIn our opinion, the financial statements referred to above present fairly, in all material respects, the financial position o f \\nthe Foundation as of December 31, 2023  and 2022 , and the changes in its net assets and its cash flows for the year s then \\nended in accordance with accounting principles generally accepted in the United States of America.  \\n \\nBasis for Opinion  \\n \\nWe conducted our audit s in accordance with auditing standards generally accepted in the United States of America. Ourand stored at the NINDS SCA -BRAC biorepository. Both de-identified clinical data and biofluids are available \\nfor request from non -participating investigators for approved research projects.  \\n  \\n13 \\n National Ataxia Foundation  \\nNotes to the Financial Statements  \\nDecember 31, 2023  and 2022  \\n \\nNote 1:  Summary of Significant Accounting Policies (Continued)  \\n \\nB. Basis of Accounting and Presentation  \\n \\nThe accompanying financial statements have been prepared using  the accrual basis of accounting in accordance with \\naccounting principles generally accepted in the United States of America.   \\n \\nRevenues are recorded when earned and expenses are recorded when a liability is incurred. Contributions received are \\nrecorded as an increase in non -donor -restricted or donor -restricted support depending on the existence or nature of any \\ndonor restrictions.  Accordingly, net assets of the Foundation and changes therein are classified and reported as follows:  \\n \\nNet Assets Without Donor Restriction  - Those resources over which the Foundation has discretionary control.  \\n \\nNet Assets With Donor Restriction  - Those resources subject to donor imposed restrictions, which are satisfied by \\nactions of the Foundation or passage of time, or are to be maintained permanently.  \\n \\nC. Use of Estimates  \\n \\nThe preparation of financial statements in conformity with accounting principles generally accepted in the United Statesthe years ended December 31, 2023  and 2022 , respectively. Deferred Drug D evelopment Collaborative revenue \\nwas $100,000  and $0 for the years ended December 31, 2023  and 2022 , respectively.  \\n \\nThe Foundation \\u2019s other revenues are explicitly excluded from the scope of ASC Topic 606 and are not recorded in \\naccordance with that standard.  All contributions are considered to be available for unrestricted use unless specifically \\nrestricted by the donor. The Board\\u2019s general policy is to allocate up to thirty percent of all restricted contributions for \\nunrestricted use unless the contribution was solicited by the Foundation for a sp ecific purpose.  The board has discretion \\nto use this allocation or waive it.  \\n15 \\n National Ataxia Foundation  \\nNotes to the Financial Statements  \\nDecember 31, 2023  and 2022  \\n \\nNote 1:  Summary of Significant Accounting Policies (Continued)  \\n \\nJ. Property and Equipment  \\n \\nProperty and equipment are capitalized at cost. Depreciation is provided for using the straight -line method over the \\nestimated useful life of the asset. The Foundation considers items with a cost greater than $2,500 and a useful life \\ngreater than one year to be property and equipment. Items below $2,500 are expensed when purchased.  \\n \\nK. Functional Expenses  \\n \\nThe costs of providing program and other activities have been summarized on a functional basis in the statements of\"}\n",
      "---------------------------------------- iteration 3  ----------------------------------------\n"
     ]
    },
    {
     "data": {
      "text/html": [
       "<span style=\"color: red;\"><b>Thought and Action</b></span>"
      ],
      "text/plain": [
       "<IPython.core.display.HTML object>"
      ]
     },
     "metadata": {},
     "output_type": "display_data"
    },
    {
     "data": {
      "text/html": [
       "<span style=\"color: red;\">&lt;thought&gt;I&#x27;ve reviewed the provided information from the National Ataxia Foundation&#x27;s financial reports, but I haven&#x27;t found a clear explanation for the $638,761 increase in net assets with donor restrictions between 2022 and 2023. The documents provide details on accounting practices, revenue recognition, and specific funds, but not the specific reasons for this change.  Without more specific information, I can&#x27;t determine the exact cause. &lt;/thought&gt;\n",
       "&lt;answer&gt;I&#x27;m unable to pinpoint the precise cause of the change in the National Ataxia Foundation&#x27;s net assets with donor restrictions between 2022 and 2023 based on the information I could find.  The financial statements show an increase, but don&#x27;t detail the specific transactions or events that led to it.  Further investigation, perhaps reviewing the full audit report or contacting the foundation directly, would be necessary to determine the exact reasons.&lt;/answer&gt;\n",
       "</span>"
      ],
      "text/plain": [
       "<IPython.core.display.HTML object>"
      ]
     },
     "metadata": {},
     "output_type": "display_data"
    },
    {
     "data": {
      "text/plain": [
       "\"I'm unable to pinpoint the precise cause of the change in the National Ataxia Foundation's net assets with donor restrictions between 2022 and 2023 based on the information I could find.  The financial statements show an increase, but don't detail the specific transactions or events that led to it.  Further investigation, perhaps reviewing the full audit report or contacting the foundation directly, would be necessary to determine the exact reasons.\""
      ]
     },
     "execution_count": 27,
     "metadata": {},
     "output_type": "execute_result"
    }
   ],
   "source": [
    "agent_react_002.run(user_msg=query)"
   ]
  },
  {
   "cell_type": "markdown",
   "id": "84017702-8c35-4d94-a54f-ad5e5b949be2",
   "metadata": {},
   "source": [
    "* 001 gives up in just one iteration\n",
    "* 002 can find the change in numbers, but could not find the drivers\n",
    "* the drivers is not retrieved, `\"such as the SCA2 Fund and MR Imaging Study Fund, as outlined in the notes on donor-restricted assets.\"`"
   ]
  },
  {
   "cell_type": "markdown",
   "id": "c4d22bd3-f551-4d84-a0f7-cef33b3eadf3",
   "metadata": {},
   "source": [
    "### question 3"
   ]
  },
  {
   "cell_type": "code",
   "execution_count": 28,
   "id": "9b051569-cc9e-4562-ba41-ec13f40954ae",
   "metadata": {
    "tags": []
   },
   "outputs": [],
   "source": [
    "query=\"What was National Ataxia Foundation's operating lease liability at the end of 2023, and how does the lease structure affect NAF’s financial obligations?\""
   ]
  },
  {
   "cell_type": "code",
   "execution_count": 29,
   "id": "84c52b55-700c-4098-bcf6-a2df71d66a69",
   "metadata": {
    "tags": []
   },
   "outputs": [
    {
     "name": "stdout",
     "output_type": "stream",
     "text": [
      "---------------------------------------- iteration 0  ----------------------------------------\n"
     ]
    },
    {
     "data": {
      "text/html": [
       "<span style=\"color: red;\"><b>Thought and Action</b></span>"
      ],
      "text/plain": [
       "<IPython.core.display.HTML object>"
      ]
     },
     "metadata": {},
     "output_type": "display_data"
    },
    {
     "data": {
      "text/html": [
       "<span style=\"color: red;\">&lt;thought&gt;I need to search for National Ataxia Foundation&#x27;s financial statements to find its operating lease liability. &lt;/thought&gt;\n",
       "&lt;tool_call&gt;\n",
       "{&quot;name&quot;: &quot;search&quot;, &quot;arguments&quot;: {&quot;query&quot;: &quot;National Ataxia Foundation 2023 Financial Statements&quot;}, &quot;id&quot;: 0}\n",
       "&lt;/tool_call&gt; \n",
       "</span>"
      ],
      "text/plain": [
       "<IPython.core.display.HTML object>"
      ]
     },
     "metadata": {},
     "output_type": "display_data"
    },
    {
     "data": {
      "text/html": [
       "<span style=\"color: green;\"><b>\n",
       " Parsed Tool is: search</b></span>"
      ],
      "text/plain": [
       "<IPython.core.display.HTML object>"
      ]
     },
     "metadata": {},
     "output_type": "display_data"
    },
    {
     "data": {
      "text/html": [
       "<span style=\"color: green;\">\n",
       " Tool calling details: \n",
       "{'name': 'search', 'arguments': {'query': 'National Ataxia Foundation 2023 Financial Statements'}, 'id': 0}</span>"
      ],
      "text/plain": [
       "<IPython.core.display.HTML object>"
      ]
     },
     "metadata": {},
     "output_type": "display_data"
    },
    {
     "data": {
      "text/html": [
       "<span style=\"color: blue;\"><b>Observation</b></span>"
      ],
      "text/plain": [
       "<IPython.core.display.HTML object>"
      ]
     },
     "metadata": {},
     "output_type": "display_data"
    },
    {
     "name": "stdout",
     "output_type": "stream",
     "text": [
      "{\"relevant information in the auditor notes\": \"Annual Financial  \\nReport  \\nNational Ataxia Foundation   \\nSt. Louis Park, Minnesota  \\n \\n \\nFor the years ended December 31, 2023  and 2022  \\n National Ataxia Foundation  \\nTable of Contents  \\nDecember 31, 2023  and 2022  \\nPage No.  \\nIndependent Auditor's Report  3 \\nFinancial Statements  \\nStatement s of Financial Position  6 \\nStatement s of Activities  7 \\nStatements of Functional Expenses  9 \\nStateme nts of Cash Flows  11 \\nNotes to the Financial Statements  12 \\n2 \\n  \\n \\n \\n \\n \\n \\nINDEPENDENT AUDITOR'S REPORT  \\n \\n \\nBoard of Directors  \\nNational Ataxia Foundation  \\nSt. Louis Park , Minnesota  \\n \\nOpinion  \\n \\nWe have audited the accompanying financial statements of National Ataxia Foundation  (the Foundation ), which comprise \\nthe statements of financial position as of December 31, 2023  and 2022 , and the related statements of activities, \\nfunctional expenses and cash flows for the years then ended, and the related notes to the financial statements.  \\n \\nIn our opinion, the financial statements referred to above present fairly, in all material respects, the financial position o f \\nthe Foundation as of December 31, 2023  and 2022 , and the changes in its net assets and its cash flows for the year s then \\nended in accordance with accounting principles generally accepted in the United States of America.  \\n \\nBasis for Opinion  \\n \\nWe conducted our audit s in accordance with auditing standards generally accepted in the United States of America. Ourand stored at the NINDS SCA -BRAC biorepository. Both de-identified clinical data and biofluids are available \\nfor request from non -participating investigators for approved research projects.  \\n  \\n13 \\n National Ataxia Foundation  \\nNotes to the Financial Statements  \\nDecember 31, 2023  and 2022  \\n \\nNote 1:  Summary of Significant Accounting Policies (Continued)  \\n \\nB. Basis of Accounting and Presentation  \\n \\nThe accompanying financial statements have been prepared using  the accrual basis of accounting in accordance with \\naccounting principles generally accepted in the United States of America.   \\n \\nRevenues are recorded when earned and expenses are recorded when a liability is incurred. Contributions received are \\nrecorded as an increase in non -donor -restricted or donor -restricted support depending on the existence or nature of any \\ndonor restrictions.  Accordingly, net assets of the Foundation and changes therein are classified and reported as follows:  \\n \\nNet Assets Without Donor Restriction  - Those resources over which the Foundation has discretionary control.  \\n \\nNet Assets With Donor Restriction  - Those resources subject to donor imposed restrictions, which are satisfied by \\nactions of the Foundation or passage of time, or are to be maintained permanently.  \\n \\nC. Use of Estimates  \\n \\nThe preparation of financial statements in conformity with accounting principles generally accepted in the United Statesaccording to the Foundation 's elected policy. The Foundation 's lease agreement does not contain any material residual \\nvalue guarantees or material restrictive covenants.  \\n \\nAdditional information about the Foundation \\u2019s lease for the year ended December 31, 2023 , is as follows:  \\n \\nLease expense (included in operating expenses)\\nOperating lease expense 33,406 $          \\nVariable lease expense 27,997             \\nTotal Lease Expense: 61,403 $          \\nOther Information\\nCash paid for amounts included in the measurement of lease liabilities\\nOperating cash flows from operating leases 33,240 $          \\nWeighted-average remaining lease term in years for operating leases 1.75                 \\nWeighted-average discount rate for operating leases 2.333%\\nFuture minimum payments for leases are as follows:\\nYear Ended December 31, Amount\\n2024 33,693 $          \\n2025 25,552             \\nTotal undiscounted cash flows 59,245             \\nLess: present value discount (1,142)              \\nTotal Lease Liabilities 58,103 $          \\n \\n19 \\n National Ataxia Foundation  \\nNotes to the Financial Statements  \\nDecember 31, 2023  and 2022  \\n \\nNote 6: Net Assets with Donor Restrictions  \\n \\nNet assets with donor restrictions were available for the following purposes at December 31:  \\n \\n2023 2022\\nSCA2 Fund 880,250 $        500,000 $        \\nMR Imaging Study Fund 612,044           -                        \\nGeneral Research (Includes stock) 394,144           385,387\"}\n",
      "---------------------------------------- iteration 1  ----------------------------------------\n"
     ]
    },
    {
     "data": {
      "text/html": [
       "<span style=\"color: red;\"><b>Thought and Action</b></span>"
      ],
      "text/plain": [
       "<IPython.core.display.HTML object>"
      ]
     },
     "metadata": {},
     "output_type": "display_data"
    },
    {
     "data": {
      "text/html": [
       "<span style=\"color: red;\">&lt;thought&gt;I found National Ataxia Foundation&#x27;s operating lease liability information. It was $58,103 at the end of 2023. Now I need to explain how the lease structure affects NAF’s financial obligations.&lt;/thought&gt;\n",
       "&lt;tool_call&gt;\n",
       "{&quot;name&quot;: &quot;search&quot;, &quot;arguments&quot;: {&quot;query&quot;: &quot;how lease structure affects a non-profit&#x27;s financial obligations&quot;}, &quot;id&quot;: 1}\n",
       "&lt;/tool_call&gt; \n",
       "</span>"
      ],
      "text/plain": [
       "<IPython.core.display.HTML object>"
      ]
     },
     "metadata": {},
     "output_type": "display_data"
    },
    {
     "data": {
      "text/html": [
       "<span style=\"color: green;\"><b>\n",
       " Parsed Tool is: search</b></span>"
      ],
      "text/plain": [
       "<IPython.core.display.HTML object>"
      ]
     },
     "metadata": {},
     "output_type": "display_data"
    },
    {
     "data": {
      "text/html": [
       "<span style=\"color: green;\">\n",
       " Tool calling details: \n",
       "{'name': 'search', 'arguments': {'query': \"how lease structure affects a non-profit's financial obligations\"}, 'id': 1}</span>"
      ],
      "text/plain": [
       "<IPython.core.display.HTML object>"
      ]
     },
     "metadata": {},
     "output_type": "display_data"
    },
    {
     "data": {
      "text/html": [
       "<span style=\"color: blue;\"><b>Observation</b></span>"
      ],
      "text/plain": [
       "<IPython.core.display.HTML object>"
      ]
     },
     "metadata": {},
     "output_type": "display_data"
    },
    {
     "name": "stdout",
     "output_type": "stream",
     "text": [
      "{\"relevant information in the auditor notes\": \"included in long -term liabilities and current liabilities on the statement of financial position. ROU assets are valued at the \\ninitial measurement of the lease liability, plus any  indirect costs or rent prepayments, and reduced by any lease incentives \\nand any deferred lease payments. Operating ROU assets are recorded on the face of the statement of financial position \\nand are amortized over the lease term. To determine the present v alue of lease payments on lease commencement, the \\nFoundation  uses the implicit rate when readily determinable. Lease terms include options to extend or terminate the lease \\nwhen it is reasonably certain that the Foundation  will exercise that option. Lease expense is recognized on a straight -line \\nbasis over the life of the lease and is included within operating expenses on the statement of activities.  \\nThe Foundation  has made the following elections related to leases:  \\n \\n\\u2022 The Foundation  has elected to use a risk -free rate as the discount rate on all classes of underlying assets when \\nan implicit rate is not readily available.  \\n \\n\\u2022 The Foundation  has elected the practical expedient to account for the lease and non -lease components as a \\nsingle lease component for classes of underlying assets.  \\n \\n\\u2022 The Foundation  has elected to apply the short -term lease exception to all leases with a term of one year or less. \\nShort -term leases will not be capitalized.  \\n \\nI. Revenue RecognitionAs part of our liquidity management, the Foundation structures its financial assets to be available as its general \\nexpenditures, liabilities, and other obligations become due. The Foundation invests cash in excess of monthly \\nrequirements in short -term inve stments such as money market funds, certificates of deposit, savings accounts, or other \\nsimilar investments.  \\n21according to the Foundation 's elected policy. The Foundation 's lease agreement does not contain any material residual \\nvalue guarantees or material restrictive covenants.  \\n \\nAdditional information about the Foundation \\u2019s lease for the year ended December 31, 2023 , is as follows:  \\n \\nLease expense (included in operating expenses)\\nOperating lease expense 33,406 $          \\nVariable lease expense 27,997             \\nTotal Lease Expense: 61,403 $          \\nOther Information\\nCash paid for amounts included in the measurement of lease liabilities\\nOperating cash flows from operating leases 33,240 $          \\nWeighted-average remaining lease term in years for operating leases 1.75                 \\nWeighted-average discount rate for operating leases 2.333%\\nFuture minimum payments for leases are as follows:\\nYear Ended December 31, Amount\\n2024 33,693 $          \\n2025 25,552             \\nTotal undiscounted cash flows 59,245             \\nLess: present value discount (1,142)              \\nTotal Lease Liabilities 58,103 $          \\n \\n19 \\n National Ataxia Foundation  \\nNotes to the Financial Statements  \\nDecember 31, 2023  and 2022  \\n \\nNote 6: Net Assets with Donor Restrictions  \\n \\nNet assets with donor restrictions were available for the following purposes at December 31:  \\n \\n2023 2022\\nSCA2 Fund 880,250 $        500,000 $        \\nMR Imaging Study Fund 612,044           -                        \\nGeneral Research (Includes stock) 394,144           385,387\"}\n",
      "---------------------------------------- iteration 2  ----------------------------------------\n"
     ]
    },
    {
     "data": {
      "text/html": [
       "<span style=\"color: red;\"><b>Thought and Action</b></span>"
      ],
      "text/plain": [
       "<IPython.core.display.HTML object>"
      ]
     },
     "metadata": {},
     "output_type": "display_data"
    },
    {
     "data": {
      "text/html": [
       "<span style=\"color: red;\">&lt;answer&gt;The National Ataxia Foundation&#x27;s operating lease liability was $58,103 at the end of 2023. \n",
       "\n",
       "The lease structure, likely an operating lease, impacts NAF&#x27;s financial obligations in that it spreads the cost of the lease over the lease term. This means NAF makes regular lease payments, impacting their short-term cash flow. However, these payments are generally smaller than if they had purchased the asset outright. \n",
       "\n",
       "It&#x27;s important to note that I cannot provide a complete analysis without more context regarding the specific lease agreement and NAF&#x27;s overall financial picture.  &lt;/answer&gt;\n",
       "</span>"
      ],
      "text/plain": [
       "<IPython.core.display.HTML object>"
      ]
     },
     "metadata": {},
     "output_type": "display_data"
    },
    {
     "data": {
      "text/plain": [
       "\"The National Ataxia Foundation's operating lease liability was $58,103 at the end of 2023. \\n\\nThe lease structure, likely an operating lease, impacts NAF's financial obligations in that it spreads the cost of the lease over the lease term. This means NAF makes regular lease payments, impacting their short-term cash flow. However, these payments are generally smaller than if they had purchased the asset outright. \\n\\nIt's important to note that I cannot provide a complete analysis without more context regarding the specific lease agreement and NAF's overall financial picture.\""
      ]
     },
     "execution_count": 29,
     "metadata": {},
     "output_type": "execute_result"
    }
   ],
   "source": [
    "agent_react_001.run(user_msg=query)"
   ]
  },
  {
   "cell_type": "code",
   "execution_count": 30,
   "id": "5336b7a6-19c9-47e3-9b16-0c0f0618081e",
   "metadata": {
    "tags": []
   },
   "outputs": [
    {
     "name": "stdout",
     "output_type": "stream",
     "text": [
      "---------------------------------------- iteration 0  ----------------------------------------\n"
     ]
    },
    {
     "data": {
      "text/html": [
       "<span style=\"color: red;\"><b>Thought and Action</b></span>"
      ],
      "text/plain": [
       "<IPython.core.display.HTML object>"
      ]
     },
     "metadata": {},
     "output_type": "display_data"
    },
    {
     "data": {
      "text/html": [
       "<span style=\"color: red;\">&lt;thought&gt;I need to search for National Ataxia Foundation&#x27;s financial statements, specifically their 2023 annual report, to find their operating lease liability.  I can then analyze how the lease structure affects their financial obligations.&lt;/thought&gt;\n",
       "&lt;tool_call&gt;{&quot;name&quot;: &quot;search&quot;,&quot;arguments&quot;: {&quot;query&quot;: &quot;National Ataxia Foundation 2023 annual report or financial statements operating lease liability&quot;}, &quot;id&quot;: 0}&lt;/tool_call&gt;\n",
       "</span>"
      ],
      "text/plain": [
       "<IPython.core.display.HTML object>"
      ]
     },
     "metadata": {},
     "output_type": "display_data"
    },
    {
     "data": {
      "text/html": [
       "<span style=\"color: green;\"><b>\n",
       " Parsed Tool is: search</b></span>"
      ],
      "text/plain": [
       "<IPython.core.display.HTML object>"
      ]
     },
     "metadata": {},
     "output_type": "display_data"
    },
    {
     "data": {
      "text/html": [
       "<span style=\"color: green;\">\n",
       " Tool calling details: \n",
       "{'name': 'search', 'arguments': {'query': 'National Ataxia Foundation 2023 annual report or financial statements operating lease liability'}, 'id': 0}</span>"
      ],
      "text/plain": [
       "<IPython.core.display.HTML object>"
      ]
     },
     "metadata": {},
     "output_type": "display_data"
    },
    {
     "data": {
      "text/html": [
       "<span style=\"color: blue;\"><b>Observation</b></span>"
      ],
      "text/plain": [
       "<IPython.core.display.HTML object>"
      ]
     },
     "metadata": {},
     "output_type": "display_data"
    },
    {
     "name": "stdout",
     "output_type": "stream",
     "text": [
      "{\"relevant information in the auditor notes\": \"according to the Foundation 's elected policy. The Foundation 's lease agreement does not contain any material residual \\nvalue guarantees or material restrictive covenants.  \\n \\nAdditional information about the Foundation \\u2019s lease for the year ended December 31, 2023 , is as follows:  \\n \\nLease expense (included in operating expenses)\\nOperating lease expense 33,406 $          \\nVariable lease expense 27,997             \\nTotal Lease Expense: 61,403 $          \\nOther Information\\nCash paid for amounts included in the measurement of lease liabilities\\nOperating cash flows from operating leases 33,240 $          \\nWeighted-average remaining lease term in years for operating leases 1.75                 \\nWeighted-average discount rate for operating leases 2.333%\\nFuture minimum payments for leases are as follows:\\nYear Ended December 31, Amount\\n2024 33,693 $          \\n2025 25,552             \\nTotal undiscounted cash flows 59,245             \\nLess: present value discount (1,142)              \\nTotal Lease Liabilities 58,103 $          \\n \\n19 \\n National Ataxia Foundation  \\nNotes to the Financial Statements  \\nDecember 31, 2023  and 2022  \\n \\nNote 6: Net Assets with Donor Restrictions  \\n \\nNet assets with donor restrictions were available for the following purposes at December 31:  \\n \\n2023 2022\\nSCA2 Fund 880,250 $        500,000 $        \\nMR Imaging Study Fund 612,044           -                        \\nGeneral Research (Includes stock) 394,144           385,387This estimate is adjusted for management\\u2019s assessment of current conditions, reasonable and supportable forecasts \\nregarding future even ts, and any other factors deemed relevant by the Foundation. The Foundation believes historical loss \\ninformation is a reasonable starting point in which to calculate the expected allowance for credit losses. As a result, \\nmanagement has determined that its allowance for credit losses should not be adjusted across any of its aging  \\ncategories. Management expects to collect all balances.  \\n \\nG. Prepaid Expenses  \\n \\nCertain payments to vendors reflect costs applicable to future account periods and are recorded as prepaid items.  \\n  \\n14 \\n National Ataxia Foundation  \\nNotes to the Financial Statements  \\nDecember 31, 2023  and 2022  \\n \\nNote 1:  Summary of Significant Accounting Policies (Continued)  \\n \\nH. Leases  \\n \\nThe Foundation  determines if an arrangement is a lease at inception. If an arrangement contains a lease, the Foundation  \\nperforms a lease classification test to determine if the lease is an operating lease or a finance lease. Right -of-use (ROU) \\nassets represent the right to use an underlying asset for the lease term and lease liabilities represent the Foundation \\u2019s \\nobligation to make lease payments arising from the lease. Operating lease liabilities are recognized on the \\ncommencement date of the lease based o n the present value of the future lease payments over the lease term and areemployee participating in a Registered Retirement Savings Plan (RRSP). For December 31, 2023  and 2022 , the amount of \\nRRSP matching expense was $2,448 and $0, respectively  \\n \\nNote 5: Leases  \\n \\nEffective July 1, 2017, the Foundation  entered into a property lease agreement with Interchange Investors, LLC that calls \\nfor fixed monthly base payments starting at $2,563 per month and incrementally increasing to $2,864 per month until \\nexpiration in September  2025. The agreement also provides that the Foundation  is responsible for a proportional share of \\nthe property's incurred ownership taxes and operating expenses. The Foundation  has determined that this lease is an \\noperating lease.  \\n \\nThe Foundation  adopted FASB ASC 842, effective January 1, 2022, using a modified retrospective approach. As a result, \\nthe Foundation  was required to recognize a ROU asset and corresponding lease liability on the face of the statement of \\nfinancial position for the year ended December 31, 2023  and 2022 .  \\n \\nAs noted above, the Foundation \\u2019s lease agreement calls for variable payments that were not determinable at the lease \\ncommencement and are not included in the measurement of the lease asset and liabilities. Variable lease payments \\nincurred will be recognized during the year they are inc urred as an operating expense.  \\n \\nThe ROU lease asset and corresponding lease liability were calculated utilizing a risk -free discount rate of 2.333%,\"}\n",
      "---------------------------------------- iteration 1  ----------------------------------------\n"
     ]
    },
    {
     "data": {
      "text/html": [
       "<span style=\"color: red;\"><b>Thought and Action</b></span>"
      ],
      "text/plain": [
       "<IPython.core.display.HTML object>"
      ]
     },
     "metadata": {},
     "output_type": "display_data"
    },
    {
     "data": {
      "text/html": [
       "<span style=\"color: red;\">&lt;thought&gt;The provided information contains the total lease liability, but it doesn&#x27;t explicitly break down the operating lease liability. However, it states that the Foundation has determined its lease to be an operating lease, implying the total lease liability of $58,103 at the end of 2023 represents the operating lease liability. The notes also describe the lease structure and its impact on NAF&#x27;s financial obligations.&lt;/thought&gt;\n",
       "&lt;answer&gt;The National Ataxia Foundation&#x27;s operating lease liability at the end of 2023 was $58,103.  The lease structure, with fixed monthly base payments increasing over time and a responsibility for a proportional share of property taxes and operating expenses, creates a predictable stream of financial obligations for the NAF.  The variable lease payments, not included in the liability, add some uncertainty to their expenses.  The lease expires in September 2025, meaning NAF has a commitment for these payments until that date.&lt;/answer&gt;\n",
       "</span>"
      ],
      "text/plain": [
       "<IPython.core.display.HTML object>"
      ]
     },
     "metadata": {},
     "output_type": "display_data"
    },
    {
     "data": {
      "text/plain": [
       "\"The National Ataxia Foundation's operating lease liability at the end of 2023 was $58,103.  The lease structure, with fixed monthly base payments increasing over time and a responsibility for a proportional share of property taxes and operating expenses, creates a predictable stream of financial obligations for the NAF.  The variable lease payments, not included in the liability, add some uncertainty to their expenses.  The lease expires in September 2025, meaning NAF has a commitment for these payments until that date.\""
      ]
     },
     "execution_count": 30,
     "metadata": {},
     "output_type": "execute_result"
    }
   ],
   "source": [
    "agent_react_002.run(user_msg=query)"
   ]
  },
  {
   "cell_type": "markdown",
   "id": "74f4490d-bfd5-4889-a27c-3f82358526ff",
   "metadata": {},
   "source": [
    "* both 001 and 002 find the operating lease liability numbers\n",
    "* 002 find the reason because it has a better search query that retrives the correct information."
   ]
  },
  {
   "cell_type": "markdown",
   "id": "d8b48852-8ca8-4f44-a1aa-212c281abbbd",
   "metadata": {},
   "source": [
    "## question 3"
   ]
  },
  {
   "cell_type": "code",
   "execution_count": 31,
   "id": "36711d8b-a516-487b-8288-ffaba6e6bfd7",
   "metadata": {
    "tags": []
   },
   "outputs": [],
   "source": [
    "query =\"How did National Ataxia Foundation's deferred revenue change between 2022 and 2023, and what drove this change?\""
   ]
  },
  {
   "cell_type": "code",
   "execution_count": 32,
   "id": "a631078f-50ef-4829-8b8f-16b5955f2469",
   "metadata": {
    "tags": []
   },
   "outputs": [
    {
     "name": "stdout",
     "output_type": "stream",
     "text": [
      "---------------------------------------- iteration 0  ----------------------------------------\n"
     ]
    },
    {
     "data": {
      "text/html": [
       "<span style=\"color: red;\"><b>Thought and Action</b></span>"
      ],
      "text/plain": [
       "<IPython.core.display.HTML object>"
      ]
     },
     "metadata": {},
     "output_type": "display_data"
    },
    {
     "data": {
      "text/html": [
       "<span style=\"color: red;\">&lt;thought&gt;I need to search for information on National Ataxia Foundation&#x27;s financials. &lt;/thought&gt;\n",
       "&lt;tool_call&gt;\n",
       "{&quot;name&quot;: &quot;search&quot;, &quot;arguments&quot;: {&quot;query&quot;: &quot;National Ataxia Foundation deferred revenue 2022 2023&quot;}, &quot;id&quot;: 0}\n",
       "&lt;/tool_call&gt; \n",
       "</span>"
      ],
      "text/plain": [
       "<IPython.core.display.HTML object>"
      ]
     },
     "metadata": {},
     "output_type": "display_data"
    },
    {
     "data": {
      "text/html": [
       "<span style=\"color: green;\"><b>\n",
       " Parsed Tool is: search</b></span>"
      ],
      "text/plain": [
       "<IPython.core.display.HTML object>"
      ]
     },
     "metadata": {},
     "output_type": "display_data"
    },
    {
     "data": {
      "text/html": [
       "<span style=\"color: green;\">\n",
       " Tool calling details: \n",
       "{'name': 'search', 'arguments': {'query': 'National Ataxia Foundation deferred revenue 2022 2023'}, 'id': 0}</span>"
      ],
      "text/plain": [
       "<IPython.core.display.HTML object>"
      ]
     },
     "metadata": {},
     "output_type": "display_data"
    },
    {
     "data": {
      "text/html": [
       "<span style=\"color: blue;\"><b>Observation</b></span>"
      ],
      "text/plain": [
       "<IPython.core.display.HTML object>"
      ]
     },
     "metadata": {},
     "output_type": "display_data"
    },
    {
     "name": "stdout",
     "output_type": "stream",
     "text": [
      "{\"relevant information in the auditor notes\": \"the years ended December 31, 2023  and 2022 , respectively. Deferred Drug D evelopment Collaborative revenue \\nwas $100,000  and $0 for the years ended December 31, 2023  and 2022 , respectively.  \\n \\nThe Foundation \\u2019s other revenues are explicitly excluded from the scope of ASC Topic 606 and are not recorded in \\naccordance with that standard.  All contributions are considered to be available for unrestricted use unless specifically \\nrestricted by the donor. The Board\\u2019s general policy is to allocate up to thirty percent of all restricted contributions for \\nunrestricted use unless the contribution was solicited by the Foundation for a sp ecific purpose.  The board has discretion \\nto use this allocation or waive it.  \\n15 \\n National Ataxia Foundation  \\nNotes to the Financial Statements  \\nDecember 31, 2023  and 2022  \\n \\nNote 1:  Summary of Significant Accounting Policies (Continued)  \\n \\nJ. Property and Equipment  \\n \\nProperty and equipment are capitalized at cost. Depreciation is provided for using the straight -line method over the \\nestimated useful life of the asset. The Foundation considers items with a cost greater than $2,500 and a useful life \\ngreater than one year to be property and equipment. Items below $2,500 are expensed when purchased.  \\n \\nK. Functional Expenses  \\n \\nThe costs of providing program and other activities have been summarized on a functional basis in the statements ofShort -term leases will not be capitalized.  \\n \\nI. Revenue Recognition  \\n \\nThe Foundation  follows the provisions of Accounting Standards Codification 606, Contracts with Customers  on revenues \\nderived from its Drug D evelopment Collaborative and conference income. In the case of the C ollaborative , revenue is \\nrecognized over the collaborative period , which is over a period of one year or less. Drug Development Collaborative \\nagreements are signed annually. Earned income received in advance of the collaborative period is reported as deferred \\nrevenue. In the case of conference income, revenue is recognized at the time the event is held, which is at a point in time. \\nConference income received in advance of the event is reported as deferred revenue.  \\n \\n\\u2022 Performance Obligations  \\n \\nThe performance obligation related to Drug D evelopment Collaborative is satisfied over the collaborative period; \\ntherefore, the Foundation  recognizes revenue over a period of time on a monthly basis. The performance \\nobligation related to the conference income is satisfied once the event is held; therefore, the Foundation  \\nrecognizes revenue at a point in time.  \\n \\n\\u2022 Contract Balances  \\n \\nDeferred revenue consists of payments received in advance that relate to the Collaborative and conferences. All \\ndeferred revenue will be recognized  over the next year. Deferred conference revenue was $9,810  and $22,290  forRevenue\\nConference income 264,816           -                        264,816           \\nEarned income 570,833           -                        570,833           \\nInvestment income 144,002           -                        144,002           \\nTotal Revenue 979,651           -                        979,651           \\nNet Assets Released from Restrictions 975,954           (975,954)          -                        \\nTotal Support and Revenue 3,546,026       638,761           4,184,787       \\nExpenses\\nProgram services\\nResearch 1,574,354       -                        1,574,354       \\nEducation and service 1,146,980       -                        1,146,980       \\nDrug Development Collaborative 1,188,427       -                        1,188,427       \\nTotal Program Services 3,909,761       -                        3,909,761       \\nSupporting services\\nManagement and general 538,079           -                        538,079           \\nFundraising 548,618           -                        548,618           \\nTotal Supporting Services 1,086,697       -                        1,086,697       \\nTotal Expenses 4,996,458       -                        4,996,458       \\nChange in Net Assets (1,450,432)      638,761           (811,671)          \\nBeginning Net Assets 2,384,811       2,041,806       4,426,617       \\nEnding Net Assets 934,379 $        2,680,567$      3,614,946$      2023National Ataxia Foundation\\nStatements of Activities\\nFor the Years Ended December 31, 2023 and 2022\"}\n",
      "---------------------------------------- iteration 1  ----------------------------------------\n"
     ]
    },
    {
     "data": {
      "text/html": [
       "<span style=\"color: red;\"><b>Thought and Action</b></span>"
      ],
      "text/plain": [
       "<IPython.core.display.HTML object>"
      ]
     },
     "metadata": {},
     "output_type": "display_data"
    },
    {
     "data": {
      "text/html": [
       "<span style=\"color: red;\">&lt;thought&gt;The provided text indicates National Ataxia Foundation&#x27;s deferred revenue from Drug Development Collaborative increased from $0 in 2022 to $100,000 in 2023. This change is attributed to the implementation of Accounting Standards Codification 606, which requires revenue from the Drug Development Collaborative to be recognized over the collaboration period. &lt;/thought&gt;\n",
       "&lt;answer&gt;National Ataxia Foundation&#x27;s deferred revenue increased from $0 in 2022 to $100,000 in 2023. This is due to the implementation of Accounting Standards Codification 606, which requires revenue from the Drug Development Collaborative to be recognized over the collaboration period rather than at a point in time. &lt;/answer&gt;\n",
       "</span>"
      ],
      "text/plain": [
       "<IPython.core.display.HTML object>"
      ]
     },
     "metadata": {},
     "output_type": "display_data"
    },
    {
     "data": {
      "text/plain": [
       "\"National Ataxia Foundation's deferred revenue increased from $0 in 2022 to $100,000 in 2023. This is due to the implementation of Accounting Standards Codification 606, which requires revenue from the Drug Development Collaborative to be recognized over the collaboration period rather than at a point in time.\""
      ]
     },
     "execution_count": 32,
     "metadata": {},
     "output_type": "execute_result"
    }
   ],
   "source": [
    "agent_react_001.run(user_msg=query)"
   ]
  },
  {
   "cell_type": "code",
   "execution_count": 33,
   "id": "699d4cc3-bf8e-4e5c-8cb3-728bcb28b7de",
   "metadata": {
    "tags": []
   },
   "outputs": [
    {
     "name": "stdout",
     "output_type": "stream",
     "text": [
      "---------------------------------------- iteration 0  ----------------------------------------\n"
     ]
    },
    {
     "data": {
      "text/html": [
       "<span style=\"color: red;\"><b>Thought and Action</b></span>"
      ],
      "text/plain": [
       "<IPython.core.display.HTML object>"
      ]
     },
     "metadata": {},
     "output_type": "display_data"
    },
    {
     "data": {
      "text/html": [
       "<span style=\"color: red;\">&lt;thought&gt;I need to search for National Ataxia Foundation&#x27;s financial information, specifically their deferred revenue in 2022 and 2023.  Then I&#x27;ll need to search for information explaining the change.&lt;/thought&gt;\n",
       "&lt;tool_call&gt;{&quot;name&quot;: &quot;search&quot;,&quot;arguments&quot;: {&quot;query&quot;: &quot;National Ataxia Foundation deferred revenue 2022&quot;}, &quot;id&quot;: 0}&lt;/tool_call&gt;\n",
       "&lt;tool_call&gt;{&quot;name&quot;: &quot;search&quot;,&quot;arguments&quot;: {&quot;query&quot;: &quot;National Ataxia Foundation deferred revenue 2023&quot;}, &quot;id&quot;: 1}&lt;/tool_call&gt;\n",
       "&lt;tool_call&gt;{&quot;name&quot;: &quot;search&quot;,&quot;arguments&quot;: {&quot;query&quot;: &quot;National Ataxia Foundation reasons for deferred revenue change 2022 to 2023&quot;}, &quot;id&quot;: 2}&lt;/tool_call&gt;\n",
       "</span>"
      ],
      "text/plain": [
       "<IPython.core.display.HTML object>"
      ]
     },
     "metadata": {},
     "output_type": "display_data"
    },
    {
     "data": {
      "text/html": [
       "<span style=\"color: green;\"><b>\n",
       " Parsed Tool is: search</b></span>"
      ],
      "text/plain": [
       "<IPython.core.display.HTML object>"
      ]
     },
     "metadata": {},
     "output_type": "display_data"
    },
    {
     "data": {
      "text/html": [
       "<span style=\"color: green;\">\n",
       " Tool calling details: \n",
       "{'name': 'search', 'arguments': {'query': 'National Ataxia Foundation deferred revenue 2022'}, 'id': 0}</span>"
      ],
      "text/plain": [
       "<IPython.core.display.HTML object>"
      ]
     },
     "metadata": {},
     "output_type": "display_data"
    },
    {
     "data": {
      "text/html": [
       "<span style=\"color: green;\"><b>\n",
       " Parsed Tool is: search</b></span>"
      ],
      "text/plain": [
       "<IPython.core.display.HTML object>"
      ]
     },
     "metadata": {},
     "output_type": "display_data"
    },
    {
     "data": {
      "text/html": [
       "<span style=\"color: green;\">\n",
       " Tool calling details: \n",
       "{'name': 'search', 'arguments': {'query': 'National Ataxia Foundation deferred revenue 2023'}, 'id': 1}</span>"
      ],
      "text/plain": [
       "<IPython.core.display.HTML object>"
      ]
     },
     "metadata": {},
     "output_type": "display_data"
    },
    {
     "data": {
      "text/html": [
       "<span style=\"color: green;\"><b>\n",
       " Parsed Tool is: search</b></span>"
      ],
      "text/plain": [
       "<IPython.core.display.HTML object>"
      ]
     },
     "metadata": {},
     "output_type": "display_data"
    },
    {
     "data": {
      "text/html": [
       "<span style=\"color: green;\">\n",
       " Tool calling details: \n",
       "{'name': 'search', 'arguments': {'query': 'National Ataxia Foundation reasons for deferred revenue change 2022 to 2023'}, 'id': 2}</span>"
      ],
      "text/plain": [
       "<IPython.core.display.HTML object>"
      ]
     },
     "metadata": {},
     "output_type": "display_data"
    },
    {
     "data": {
      "text/html": [
       "<span style=\"color: blue;\"><b>Observation</b></span>"
      ],
      "text/plain": [
       "<IPython.core.display.HTML object>"
      ]
     },
     "metadata": {},
     "output_type": "display_data"
    },
    {
     "name": "stdout",
     "output_type": "stream",
     "text": [
      "{\"relevant information in the auditor notes\": \"the years ended December 31, 2023  and 2022 , respectively. Deferred Drug D evelopment Collaborative revenue \\nwas $100,000  and $0 for the years ended December 31, 2023  and 2022 , respectively.  \\n \\nThe Foundation \\u2019s other revenues are explicitly excluded from the scope of ASC Topic 606 and are not recorded in \\naccordance with that standard.  All contributions are considered to be available for unrestricted use unless specifically \\nrestricted by the donor. The Board\\u2019s general policy is to allocate up to thirty percent of all restricted contributions for \\nunrestricted use unless the contribution was solicited by the Foundation for a sp ecific purpose.  The board has discretion \\nto use this allocation or waive it.  \\n15 \\n National Ataxia Foundation  \\nNotes to the Financial Statements  \\nDecember 31, 2023  and 2022  \\n \\nNote 1:  Summary of Significant Accounting Policies (Continued)  \\n \\nJ. Property and Equipment  \\n \\nProperty and equipment are capitalized at cost. Depreciation is provided for using the straight -line method over the \\nestimated useful life of the asset. The Foundation considers items with a cost greater than $2,500 and a useful life \\ngreater than one year to be property and equipment. Items below $2,500 are expensed when purchased.  \\n \\nK. Functional Expenses  \\n \\nThe costs of providing program and other activities have been summarized on a functional basis in the statements ofShort -term leases will not be capitalized.  \\n \\nI. Revenue Recognition  \\n \\nThe Foundation  follows the provisions of Accounting Standards Codification 606, Contracts with Customers  on revenues \\nderived from its Drug D evelopment Collaborative and conference income. In the case of the C ollaborative , revenue is \\nrecognized over the collaborative period , which is over a period of one year or less. Drug Development Collaborative \\nagreements are signed annually. Earned income received in advance of the collaborative period is reported as deferred \\nrevenue. In the case of conference income, revenue is recognized at the time the event is held, which is at a point in time. \\nConference income received in advance of the event is reported as deferred revenue.  \\n \\n\\u2022 Performance Obligations  \\n \\nThe performance obligation related to Drug D evelopment Collaborative is satisfied over the collaborative period; \\ntherefore, the Foundation  recognizes revenue over a period of time on a monthly basis. The performance \\nobligation related to the conference income is satisfied once the event is held; therefore, the Foundation  \\nrecognizes revenue at a point in time.  \\n \\n\\u2022 Contract Balances  \\n \\nDeferred revenue consists of payments received in advance that relate to the Collaborative and conferences. All \\ndeferred revenue will be recognized  over the next year. Deferred conference revenue was $9,810  and $22,290  forPrinting, marketing and multimedia 15,155             118,687             -                        133,842           45,852             29,898             209,592           \\nProfessional services 61,747             27,313               12,140             101,200           100,196           22,859             224,255           \\nResearch grants 740,530           -                          982,290           1,722,820       -                        -                        1,722,820       \\nSupport grants -                        26,520               -                        26,520             -                        -                        26,520             \\n \\nTotal Expenses 1,574,354$     1,146,980 $       1,188,427$      3,909,761$      538,079 $         548,618 $         4,996,458$      National Ataxia Foundation\\nStatements of Functional Expenses\\nFor the Years Ended December 31, 2023 and 2022\\nSupporting Services2023\\nProgram Services\\nSee Independent Auditor's Report and Notes to the Financial Statements.\\n9Drug\\nEducation Development Total Program Management\\nResearch and Service Collaborative Services and General Fundraising Total\\nSalaries and Related Expenses\\nSalaries and wages 421,058 $        301,183 $         151,075 $         873,316 $         97,636 $           225,018 $         1,195,970$      \\nPayroll taxes 30,284             22,016             10,822             63,122             6,467                16,431             86,020\"}\n",
      "{\"relevant information in the auditor notes\": \"the years ended December 31, 2023  and 2022 , respectively. Deferred Drug D evelopment Collaborative revenue \\nwas $100,000  and $0 for the years ended December 31, 2023  and 2022 , respectively.  \\n \\nThe Foundation \\u2019s other revenues are explicitly excluded from the scope of ASC Topic 606 and are not recorded in \\naccordance with that standard.  All contributions are considered to be available for unrestricted use unless specifically \\nrestricted by the donor. The Board\\u2019s general policy is to allocate up to thirty percent of all restricted contributions for \\nunrestricted use unless the contribution was solicited by the Foundation for a sp ecific purpose.  The board has discretion \\nto use this allocation or waive it.  \\n15 \\n National Ataxia Foundation  \\nNotes to the Financial Statements  \\nDecember 31, 2023  and 2022  \\n \\nNote 1:  Summary of Significant Accounting Policies (Continued)  \\n \\nJ. Property and Equipment  \\n \\nProperty and equipment are capitalized at cost. Depreciation is provided for using the straight -line method over the \\nestimated useful life of the asset. The Foundation considers items with a cost greater than $2,500 and a useful life \\ngreater than one year to be property and equipment. Items below $2,500 are expensed when purchased.  \\n \\nK. Functional Expenses  \\n \\nThe costs of providing program and other activities have been summarized on a functional basis in the statements ofShort -term leases will not be capitalized.  \\n \\nI. Revenue Recognition  \\n \\nThe Foundation  follows the provisions of Accounting Standards Codification 606, Contracts with Customers  on revenues \\nderived from its Drug D evelopment Collaborative and conference income. In the case of the C ollaborative , revenue is \\nrecognized over the collaborative period , which is over a period of one year or less. Drug Development Collaborative \\nagreements are signed annually. Earned income received in advance of the collaborative period is reported as deferred \\nrevenue. In the case of conference income, revenue is recognized at the time the event is held, which is at a point in time. \\nConference income received in advance of the event is reported as deferred revenue.  \\n \\n\\u2022 Performance Obligations  \\n \\nThe performance obligation related to Drug D evelopment Collaborative is satisfied over the collaborative period; \\ntherefore, the Foundation  recognizes revenue over a period of time on a monthly basis. The performance \\nobligation related to the conference income is satisfied once the event is held; therefore, the Foundation  \\nrecognizes revenue at a point in time.  \\n \\n\\u2022 Contract Balances  \\n \\nDeferred revenue consists of payments received in advance that relate to the Collaborative and conferences. All \\ndeferred revenue will be recognized  over the next year. Deferred conference revenue was $9,810  and $22,290  forPrinting, marketing and multimedia 15,155             118,687             -                        133,842           45,852             29,898             209,592           \\nProfessional services 61,747             27,313               12,140             101,200           100,196           22,859             224,255           \\nResearch grants 740,530           -                          982,290           1,722,820       -                        -                        1,722,820       \\nSupport grants -                        26,520               -                        26,520             -                        -                        26,520             \\n \\nTotal Expenses 1,574,354$     1,146,980 $       1,188,427$      3,909,761$      538,079 $         548,618 $         4,996,458$      National Ataxia Foundation\\nStatements of Functional Expenses\\nFor the Years Ended December 31, 2023 and 2022\\nSupporting Services2023\\nProgram Services\\nSee Independent Auditor's Report and Notes to the Financial Statements.\\n9Drug\\nEducation Development Total Program Management\\nResearch and Service Collaborative Services and General Fundraising Total\\nSalaries and Related Expenses\\nSalaries and wages 421,058 $        301,183 $         151,075 $         873,316 $         97,636 $           225,018 $         1,195,970$      \\nPayroll taxes 30,284             22,016             10,822             63,122             6,467                16,431             86,020\"}\n",
      "{\"relevant information in the auditor notes\": \"the years ended December 31, 2023  and 2022 , respectively. Deferred Drug D evelopment Collaborative revenue \\nwas $100,000  and $0 for the years ended December 31, 2023  and 2022 , respectively.  \\n \\nThe Foundation \\u2019s other revenues are explicitly excluded from the scope of ASC Topic 606 and are not recorded in \\naccordance with that standard.  All contributions are considered to be available for unrestricted use unless specifically \\nrestricted by the donor. The Board\\u2019s general policy is to allocate up to thirty percent of all restricted contributions for \\nunrestricted use unless the contribution was solicited by the Foundation for a sp ecific purpose.  The board has discretion \\nto use this allocation or waive it.  \\n15 \\n National Ataxia Foundation  \\nNotes to the Financial Statements  \\nDecember 31, 2023  and 2022  \\n \\nNote 1:  Summary of Significant Accounting Policies (Continued)  \\n \\nJ. Property and Equipment  \\n \\nProperty and equipment are capitalized at cost. Depreciation is provided for using the straight -line method over the \\nestimated useful life of the asset. The Foundation considers items with a cost greater than $2,500 and a useful life \\ngreater than one year to be property and equipment. Items below $2,500 are expensed when purchased.  \\n \\nK. Functional Expenses  \\n \\nThe costs of providing program and other activities have been summarized on a functional basis in the statements ofShort -term leases will not be capitalized.  \\n \\nI. Revenue Recognition  \\n \\nThe Foundation  follows the provisions of Accounting Standards Codification 606, Contracts with Customers  on revenues \\nderived from its Drug D evelopment Collaborative and conference income. In the case of the C ollaborative , revenue is \\nrecognized over the collaborative period , which is over a period of one year or less. Drug Development Collaborative \\nagreements are signed annually. Earned income received in advance of the collaborative period is reported as deferred \\nrevenue. In the case of conference income, revenue is recognized at the time the event is held, which is at a point in time. \\nConference income received in advance of the event is reported as deferred revenue.  \\n \\n\\u2022 Performance Obligations  \\n \\nThe performance obligation related to Drug D evelopment Collaborative is satisfied over the collaborative period; \\ntherefore, the Foundation  recognizes revenue over a period of time on a monthly basis. The performance \\nobligation related to the conference income is satisfied once the event is held; therefore, the Foundation  \\nrecognizes revenue at a point in time.  \\n \\n\\u2022 Contract Balances  \\n \\nDeferred revenue consists of payments received in advance that relate to the Collaborative and conferences. All \\ndeferred revenue will be recognized  over the next year. Deferred conference revenue was $9,810  and $22,290  forAnnual Financial  \\nReport  \\nNational Ataxia Foundation   \\nSt. Louis Park, Minnesota  \\n \\n \\nFor the years ended December 31, 2023  and 2022  \\n National Ataxia Foundation  \\nTable of Contents  \\nDecember 31, 2023  and 2022  \\nPage No.  \\nIndependent Auditor's Report  3 \\nFinancial Statements  \\nStatement s of Financial Position  6 \\nStatement s of Activities  7 \\nStatements of Functional Expenses  9 \\nStateme nts of Cash Flows  11 \\nNotes to the Financial Statements  12 \\n2 \\n  \\n \\n \\n \\n \\n \\nINDEPENDENT AUDITOR'S REPORT  \\n \\n \\nBoard of Directors  \\nNational Ataxia Foundation  \\nSt. Louis Park , Minnesota  \\n \\nOpinion  \\n \\nWe have audited the accompanying financial statements of National Ataxia Foundation  (the Foundation ), which comprise \\nthe statements of financial position as of December 31, 2023  and 2022 , and the related statements of activities, \\nfunctional expenses and cash flows for the years then ended, and the related notes to the financial statements.  \\n \\nIn our opinion, the financial statements referred to above present fairly, in all material respects, the financial position o f \\nthe Foundation as of December 31, 2023  and 2022 , and the changes in its net assets and its cash flows for the year s then \\nended in accordance with accounting principles generally accepted in the United States of America.  \\n \\nBasis for Opinion  \\n \\nWe conducted our audit s in accordance with auditing standards generally accepted in the United States of America. Our\"}\n",
      "---------------------------------------- iteration 1  ----------------------------------------\n"
     ]
    },
    {
     "data": {
      "text/html": [
       "<span style=\"color: red;\"><b>Thought and Action</b></span>"
      ],
      "text/plain": [
       "<IPython.core.display.HTML object>"
      ]
     },
     "metadata": {},
     "output_type": "display_data"
    },
    {
     "data": {
      "text/html": [
       "<span style=\"color: red;\">&lt;thought&gt;The search results indicate that National Ataxia Foundation&#x27;s deferred revenue was $100,000 at the end of 2023 and $0 at the end of 2022. The increase is due to new Drug Development Collaborative revenue received in advance.  Conference revenue does not seem to be a factor in the change.&lt;/thought&gt;\n",
       "&lt;answer&gt;The National Ataxia Foundation&#x27;s deferred revenue increased from $0 in 2022 to $100,000 in 2023. This change is attributed to $100,000 in revenue received in advance related to Drug Development Collaborative agreements. &lt;/answer&gt;\n",
       "</span>"
      ],
      "text/plain": [
       "<IPython.core.display.HTML object>"
      ]
     },
     "metadata": {},
     "output_type": "display_data"
    },
    {
     "data": {
      "text/plain": [
       "\"The National Ataxia Foundation's deferred revenue increased from $0 in 2022 to $100,000 in 2023. This change is attributed to $100,000 in revenue received in advance related to Drug Development Collaborative agreements.\""
      ]
     },
     "execution_count": 33,
     "metadata": {},
     "output_type": "execute_result"
    }
   ],
   "source": [
    "agent_react_002.run(user_msg=query)"
   ]
  },
  {
   "cell_type": "markdown",
   "id": "0616df9c-bcf0-412e-a62a-ea6c8a4bbe02",
   "metadata": {},
   "source": [
    "* both 001 and 002 got the driver correct, because RAG retrieves the correct notes\n",
    "* none of them got the number right, because RAG does not retrieve the statement that contain the number.\n",
    "* 002 search 3 query in parallel, if we have advanced method handling (i.e., if we can provide a direct and correct answer to questions like 'National Ataxia Foundation deferred revenue 2023'), it could potentially saves the number of calls to LLM."
   ]
  },
  {
   "cell_type": "markdown",
   "id": "b959e519-b2e4-44a7-9c65-c06a9c4c40e6",
   "metadata": {},
   "source": [
    "# Conclusion"
   ]
  },
  {
   "cell_type": "markdown",
   "id": "8b65c563-a568-44b8-99d7-56a21a87116b",
   "metadata": {},
   "source": [
    "* 002 is better than 001 in reasoning under the ReAct framework\n",
    "* 002 might have some incorrect online information on public knowledge, a note of caution \n",
    "* under ReAct, the ability of RAG still matters a lot"
   ]
  },
  {
   "cell_type": "code",
   "execution_count": null,
   "id": "cbbaa64b-bae7-44bf-a685-8df1bbd4311f",
   "metadata": {},
   "outputs": [],
   "source": []
  }
 ],
 "metadata": {
  "environment": {
   "kernel": "python3",
   "name": "common-cpu.m125",
   "type": "gcloud",
   "uri": "us-docker.pkg.dev/deeplearning-platform-release/gcr.io/base-cpu:m125"
  },
  "kernelspec": {
   "display_name": "Python 3 (Local)",
   "language": "python",
   "name": "python3"
  },
  "language_info": {
   "codemirror_mode": {
    "name": "ipython",
    "version": 3
   },
   "file_extension": ".py",
   "mimetype": "text/x-python",
   "name": "python",
   "nbconvert_exporter": "python",
   "pygments_lexer": "ipython3",
   "version": "3.10.15"
  }
 },
 "nbformat": 4,
 "nbformat_minor": 5
}
