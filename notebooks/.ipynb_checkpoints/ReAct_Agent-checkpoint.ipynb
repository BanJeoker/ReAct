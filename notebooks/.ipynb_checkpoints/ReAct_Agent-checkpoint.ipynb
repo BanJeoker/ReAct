{
 "cells": [
  {
   "cell_type": "code",
   "execution_count": 57,
   "id": "da8a1d2f-a665-4446-a8e9-90d7bf778b5e",
   "metadata": {
    "tags": []
   },
   "outputs": [],
   "source": [
    "from IPython.display import Markdown,display,HTML\n",
    "from vertexai.generative_models import Part  \n",
    "\n",
    "import sys\n",
    "import json\n",
    "import os\n",
    "import importlib\n",
    "import math\n",
    "import html\n",
    "\n",
    "sys.path.append(os.path.abspath('../utils'))\n",
    "\n",
    "import tool_functions\n",
    "importlib.reload(tool_functions)\n",
    "from tool_functions import convert_to_tool # convert self-defined functions to Tool objects\n",
    "\n",
    "import rag\n",
    "importlib.reload(rag)\n",
    "from rag import RAG # RAG search function\n",
    "\n",
    "import react_agent\n",
    "importlib.reload(react_agent)\n",
    "from react_agent import ReactAgent"
   ]
  },
  {
   "cell_type": "markdown",
   "id": "53a77f3e-80b8-4177-96d6-f47dda9de7f7",
   "metadata": {
    "jp-MarkdownHeadingCollapsed": true,
    "tags": []
   },
   "source": [
    "### create some basic tools for test"
   ]
  },
  {
   "cell_type": "code",
   "execution_count": 10,
   "id": "55bea510-9ebf-4561-9f7a-52f3efaa127d",
   "metadata": {
    "tags": []
   },
   "outputs": [],
   "source": [
    "def sum_two_elements(a: int, b: int) -> int:\n",
    "    \"\"\"\n",
    "    Computes the sum of two integers.\n",
    "\n",
    "    Args:\n",
    "        a (int): The first integer to be summed.\n",
    "        b (int): The second integer to be summed.\n",
    "\n",
    "    Returns:\n",
    "        int: The sum of `a` and `b`.\n",
    "    \"\"\"\n",
    "    return a + b\n",
    "\n",
    "\n",
    "def multiply_two_elements(a: int, b: int) -> int:\n",
    "    \"\"\"\n",
    "    Multiplies two integers.\n",
    "\n",
    "    Args:\n",
    "        a (int): The first integer to multiply.\n",
    "        b (int): The second integer to multiply.\n",
    "\n",
    "    Returns:\n",
    "        int: The product of `a` and `b`.\n",
    "    \"\"\"\n",
    "    return a * b\n",
    "\n",
    "def compute_log(x: int) -> float | str:\n",
    "    \"\"\"\n",
    "    Computes the logarithm of an integer `x` with an optional base.\n",
    "\n",
    "    Args:\n",
    "        x (int): The integer value for which the logarithm is computed. Must be greater than 0.\n",
    "\n",
    "    Returns:\n",
    "        float: The logarithm of `x` to the specified `base`.\n",
    "    \"\"\"\n",
    "    if x <= 0:\n",
    "        return \"Logarithm is undefined for values less than or equal to 0.\"\n",
    "    \n",
    "    return math.log(x)\n",
    "\n",
    "\n",
    "sum_two_elements_tool=convert_to_tool(sum_two_elements)\n",
    "multiply_two_elements_tool=convert_to_tool(multiply_two_elements)\n",
    "compute_log_tool=convert_to_tool(compute_log)\n"
   ]
  },
  {
   "cell_type": "markdown",
   "id": "adc7b7d0-dff3-4151-9652-f37132a9e962",
   "metadata": {
    "jp-MarkdownHeadingCollapsed": true,
    "tags": []
   },
   "source": [
    "# Load the RAG"
   ]
  },
  {
   "cell_type": "code",
   "execution_count": null,
   "id": "fba11ed1-3c97-446b-8307-8d41d1eafdf7",
   "metadata": {},
   "outputs": [],
   "source": []
  },
  {
   "cell_type": "code",
   "execution_count": 4,
   "id": "ce670947-1a6f-46f1-a16c-36bb7a37b076",
   "metadata": {
    "tags": []
   },
   "outputs": [
    {
     "name": "stderr",
     "output_type": "stream",
     "text": [
      "/opt/conda/lib/python3.10/site-packages/sentence_transformers/cross_encoder/CrossEncoder.py:13: TqdmExperimentalWarning: Using `tqdm.autonotebook.tqdm` in notebook mode. Use `tqdm.tqdm` instead to force console mode (e.g. in jupyter console)\n",
      "  from tqdm.autonotebook import tqdm, trange\n",
      "/opt/conda/lib/python3.10/site-packages/transformers/tokenization_utils_base.py:1617: FutureWarning: `clean_up_tokenization_spaces` was not set. It will be set to `True` by default. This behavior will be deprecated in transformers v4.45, and will be then set to `False` by default. For more details check this issue: https://github.com/huggingface/transformers/issues/31884\n",
      "  warnings.warn(\n"
     ]
    }
   ],
   "source": [
    "# read the data, create an RAG class on that data, create the search function\n",
    "data_path='../data/naf23.pdf'\n",
    "\n",
    "from PyPDF2 import PdfReader\n",
    "from langchain.text_splitter import RecursiveCharacterTextSplitter\n",
    "from langchain import FAISS\n",
    "from langchain_huggingface import HuggingFaceEmbeddings\n",
    "\n",
    "# create a faiss_vector_store\n",
    "pdf_reader = PdfReader(data_path)\n",
    "text = \"\"\n",
    "chunks=[]\n",
    "\n",
    "# read the pages\n",
    "for page in pdf_reader.pages:\n",
    "    text += page.extract_text()\n",
    "\n",
    "# text_splitter.create_documents() splits the text into chunks, then change each chunk into a 'Document' object of Langchain\n",
    "text_splitter = RecursiveCharacterTextSplitter(chunk_size=1500, chunk_overlap=100)\n",
    "chunks=text_splitter.create_documents([text])\n",
    "\n",
    "# embedding model\n",
    "embedding_model = HuggingFaceEmbeddings(model_name='sentence-transformers/all-mpnet-base-v2')\n",
    "\n",
    "# faiss_vector_store\n",
    "faiss_vector_store = FAISS.from_documents(chunks, embedding_model)"
   ]
  },
  {
   "cell_type": "code",
   "execution_count": 5,
   "id": "a3325da2-f09d-42b8-9854-0f468cb0dbc7",
   "metadata": {
    "tags": []
   },
   "outputs": [],
   "source": [
    "rag_instance=RAG(pdf_path= data_path, chunking_method='recursive', faiss_vector_store=faiss_vector_store)\n",
    "\n",
    "def search(query : str):\n",
    "    \"\"\"\n",
    "    This is a search function on a pre-exisiting financial knoweldge base, you can use this search function to search for financial information of specific companies you do not know, treat this function as a internal wiki search that you can use\n",
    "\n",
    "    Args:\n",
    "        query (str): input query            \n",
    "    \"\"\"\n",
    "    results = rag_instance.search(query, method='ensemble')\n",
    "    return json.dumps({\"relevant information in the auditor notes\": results})\n",
    "\n",
    "# convert this search function to a Tool object\n",
    "search_tool = convert_to_tool(search)"
   ]
  },
  {
   "cell_type": "markdown",
   "id": "de577a87-c5da-4504-9a5f-6641efcf06a3",
   "metadata": {
    "tags": []
   },
   "source": [
    "# ReAct Agent"
   ]
  },
  {
   "cell_type": "code",
   "execution_count": 8,
   "id": "af63fbfb-0af7-443e-8057-dce779cb3121",
   "metadata": {
    "tags": []
   },
   "outputs": [],
   "source": [
    "agent = ReactAgent(tools=[search_tool, sum_two_elements_tool, multiply_two_elements_tool, compute_log_tool],\n",
    "                  print_system_prompt=False)\n"
   ]
  },
  {
   "cell_type": "markdown",
   "id": "dcb1d639-08aa-49fe-86ad-f82318c839a4",
   "metadata": {
    "tags": []
   },
   "source": [
    "## ReAct answering financial questions"
   ]
  },
  {
   "cell_type": "code",
   "execution_count": 9,
   "id": "543e98e3-2e58-4c4c-a22a-a2eaab0905bf",
   "metadata": {
    "tags": []
   },
   "outputs": [
    {
     "name": "stdout",
     "output_type": "stream",
     "text": [
      "---------------------------------------- iteration 0  ----------------------------------------\n"
     ]
    },
    {
     "data": {
      "text/html": [
       "<span style=\"color: red;\">thought and action\n",
       ":&lt;thought&gt;I need to search for information on the specific organization&#x27;s net assets with donor restrictions for 2022 and 2023 to understand the changes.&lt;/thought&gt;\n",
       "&lt;tool_call&gt;{&quot;name&quot;: &quot;search&quot;,&quot;arguments&quot;: {&quot;query&quot;: &quot;Changes in net assets with donor restrictions between 2022 and 2023&quot;}, &quot;id&quot;: 0}&lt;/tool_call&gt;\n",
       "</span>"
      ],
      "text/plain": [
       "<IPython.core.display.HTML object>"
      ]
     },
     "metadata": {},
     "output_type": "display_data"
    },
    {
     "data": {
      "text/html": [
       "<span style=\"color: green;\">\n",
       " Parsed Tool is: search</span>"
      ],
      "text/plain": [
       "<IPython.core.display.HTML object>"
      ]
     },
     "metadata": {},
     "output_type": "display_data"
    },
    {
     "data": {
      "text/html": [
       "<span style=\"color: green;\">\n",
       " Tool calling details: \n",
       "{'name': 'search', 'arguments': {'query': 'Changes in net assets with donor restrictions between 2022 and 2023'}, 'id': 0}</span>"
      ],
      "text/plain": [
       "<IPython.core.display.HTML object>"
      ]
     },
     "metadata": {},
     "output_type": "display_data"
    },
    {
     "data": {
      "text/html": [
       "<span style=\"color: blue;\">observation:\n",
       "</span>"
      ],
      "text/plain": [
       "<IPython.core.display.HTML object>"
      ]
     },
     "metadata": {},
     "output_type": "display_data"
    },
    {
     "name": "stdout",
     "output_type": "stream",
     "text": [
      "{\"relevant information in the auditor notes\": \"Money market funds 10,009             -                        -                        10,009             \\nMutual funds and stocks 1,066,325       -                        -                        1,066,325       \\nTotal Assets at Fair Value 2,788,623$     - $                     - $                     2,788,623$     \\nTotal Assets\\nMeasured at\\nLevel 1 Level 2 Level 3 Fair Value\\nCash 76,823 $          - $                     - $                     76,823 $          \\nMoney market funds 1,642,051       -                        -                        1,642,051       \\nMutual funds and stocks 989,122           -                        -                        989,122           \\nTotal Assets at Fair Value 2,707,996$     - $                     - $                     2,707,996$     Fair Value Measurements Using\\nFair Value Measurements Using2023\\n2022\\n \\n \\nThe Foundation does not have any liabilities measured at fair value on a recurring basis nor any assets or liabilities \\nmeasured at fair value on a nonrecurring basis.   \\n18 \\n National Ataxia Foundation  \\nNotes to the Financial Statements  \\nDecember 31, 2023  and 2022  \\n \\nNote 4: Retirement Plan  \\n \\nThe Foundation maintains a 401k matching plan  for US employees . For December 31, 2023  and 2022 , the amount of 401k \\nmatching expense was $58,358  and $52,528, respectively.  The Foundation also matches deferrals for a Canadian102023 2022\\nCash Flows from Operating Activities\\nChange in net assets (811,671) $      266,396 $   \\nAdjustment to reconcile change in net assets\\nto net cash provided by operating activities:\\nRealized and unrealized loss (gain) on investments (75,701)  194,093  \\nAmortization of right of use asset 31,714  30,992  \\nChanges in assets:\\nAccounts receivable 48,893  (23,917)  \\nPrepaid expenses (68,659)  (121,375)  \\nChanges in liabilities:\\nAccounts payable (141,982)  388,029  \\nAccrued payroll and related expenses 5,914 8,434 \\nDeferred revenue 87,519  (150,209)  \\nOperating lease liability (31,549)  (30,374)  \\nNet Cash Provided (Used) by Operating Activities (955,522)  562,069  \\nCash Flows from Investing Activities\\nPurchase of investments (1,283,625)  (1,221,776)  \\nProceeds from sale of investments 1,278,699  1,080,423  \\n(4,926)  (141,353)  \\n(960,448)  420,716  \\n1,969,164  1,548,448  \\n1,008,716$     1,969,164$   Net Cash Used by Investing Activities  \\nChange in Cash and Cash Equivalents\\nBeginning Cash and Cash Equivalents\\nEnding Cash and Cash EquivalentsNational Ataxia Foundation\\nStatements of Cash Flows\\nFor the Years Ended December 31, 2023 and 2022\\nSee Independent Auditor's Report and Notes to the Financial Statements.\\n11 \\n National Ataxia Foundation  \\nNotes to the Financial Statements  \\nDecember 31, 2023  and 2022  \\n \\nNote 1:  Summary of Significant Accounting Policies  \\n \\nA. Nature of ActivitiesTotal Assets 4,116,826$     5,008,595$      \\nLiabilities and Net Assets\\nCurrent Liabilities\\nAccounts payable 298,827 $        440,809 $         \\nAccrued payroll and related expenses 35,140             29,226             \\nDeferred revenue 109,810 22,291\\nOperating lease liability, current portion 32,750 31,548\\nTotal Current Liabilities 476,527           523,874           \\nLong-term Operating Lease Liability, Less Current Portion 25,353 58,104\\nTotal Liabilities 501,880           581,978           \\nNet Assets\\nWithout donor restriction\\nBoard designated - operating reserve 396,499           420,985           \\nUndesignated 537,880           1,963,826       \\nTotal Net Assets Without Donor Restriction 934,379           2,384,811       \\nWith donor restriction 2,680,567       2,041,806       \\nTotal Net Assets 3,614,946       4,426,617       \\nTotal Liabilities and Net Assets 4,116,826$     5,008,595$      National Ataxia Foundation\\nStatements of Financial Position\\nDecember 31, 2023 and 2022\\nSee Independent Auditor's Report and Notes to the Financial Statements.\\n6Without Donor With Donor\\nRestriction Restriction Total\\nSupport and Revenue\\nSupport\\nContributions, memorials and honorariums 1,468,504$     1,614,715$      3,083,219$      \\nIn-kind contributions 121,917           -                        121,917           \\nTotal Support 1,590,421       1,614,715       3,205,136       \\nRevenue\\nConference income 264,816           -                        264,816\"}\n",
      "---------------------------------------- iteration 1  ----------------------------------------\n"
     ]
    },
    {
     "data": {
      "text/html": [
       "<span style=\"color: red;\">thought and action\n",
       ":&lt;thought&gt;The provided information shows the financial statements of the National Ataxia Foundation.  I can see the net assets with donor restrictions increased from $2,041,806 in 2022 to $2,680,567 in 2023. This is a difference of $638,761.  The information provided does not explicitly state the reasons for this change.  I need to search for more specific information regarding the reasons for the change in net assets with donor restrictions.\n",
       "&lt;/thought&gt;\n",
       "&lt;tool_call&gt;{&quot;name&quot;: &quot;search&quot;,&quot;arguments&quot;: {&quot;query&quot;: &quot;Reasons for change in net assets with donor restrictions for National Ataxia Foundation between 2022 and 2023&quot;}, &quot;id&quot;: 1}&lt;/tool_call&gt;\n",
       "</span>"
      ],
      "text/plain": [
       "<IPython.core.display.HTML object>"
      ]
     },
     "metadata": {},
     "output_type": "display_data"
    },
    {
     "data": {
      "text/html": [
       "<span style=\"color: green;\">\n",
       " Parsed Tool is: search</span>"
      ],
      "text/plain": [
       "<IPython.core.display.HTML object>"
      ]
     },
     "metadata": {},
     "output_type": "display_data"
    },
    {
     "data": {
      "text/html": [
       "<span style=\"color: green;\">\n",
       " Tool calling details: \n",
       "{'name': 'search', 'arguments': {'query': 'Reasons for change in net assets with donor restrictions for National Ataxia Foundation between 2022 and 2023'}, 'id': 1}</span>"
      ],
      "text/plain": [
       "<IPython.core.display.HTML object>"
      ]
     },
     "metadata": {},
     "output_type": "display_data"
    },
    {
     "data": {
      "text/html": [
       "<span style=\"color: blue;\">observation:\n",
       "</span>"
      ],
      "text/plain": [
       "<IPython.core.display.HTML object>"
      ]
     },
     "metadata": {},
     "output_type": "display_data"
    },
    {
     "name": "stdout",
     "output_type": "stream",
     "text": [
      "{\"relevant information in the auditor notes\": \"and stored at the NINDS SCA -BRAC biorepository. Both de-identified clinical data and biofluids are available \\nfor request from non -participating investigators for approved research projects.  \\n  \\n13 \\n National Ataxia Foundation  \\nNotes to the Financial Statements  \\nDecember 31, 2023  and 2022  \\n \\nNote 1:  Summary of Significant Accounting Policies (Continued)  \\n \\nB. Basis of Accounting and Presentation  \\n \\nThe accompanying financial statements have been prepared using  the accrual basis of accounting in accordance with \\naccounting principles generally accepted in the United States of America.   \\n \\nRevenues are recorded when earned and expenses are recorded when a liability is incurred. Contributions received are \\nrecorded as an increase in non -donor -restricted or donor -restricted support depending on the existence or nature of any \\ndonor restrictions.  Accordingly, net assets of the Foundation and changes therein are classified and reported as follows:  \\n \\nNet Assets Without Donor Restriction  - Those resources over which the Foundation has discretionary control.  \\n \\nNet Assets With Donor Restriction  - Those resources subject to donor imposed restrictions, which are satisfied by \\nactions of the Foundation or passage of time, or are to be maintained permanently.  \\n \\nC. Use of Estimates  \\n \\nThe preparation of financial statements in conformity with accounting principles generally accepted in the United States121,917 $        - $                     Programs and \\nFundraising\\nWebsite Services -                        9,870               Management and \\nGeneralEstimated wholesale price of \\nidentical or similar products\\nTotal In-kind Contributions 121,917 $        9,870 $            Google and                         \\nMicrosoft Advertising GrantsEstimated wholesale price of \\nidentical or similar products\\n \\nThe in -kind contributions as of December 31, 2023  and 2022  had no donor restrictions.  \\n  \\n20 \\n National Ataxia Foundation  \\nNotes to the Financial Statements  \\nDecember 31, 2023  and 2022  \\n \\nNote 10: Liquidity and Availability of Financial Assets  \\n \\nFinancial assets available for general expenditure, that is, without donor or other restrictions limiting their use, within o ne \\nyear of the statement of financial position dates, comprise the following:  \\n \\n2023 2022\\nCash and cash equivalents 1,008,716$     1,969,164$     \\nInvestments 2,788,623       2,707,996       \\nAccounts receivable 6,438               55,331             \\nTotal Financial Assets Available Within One Year 3,803,777       4,732,491       \\nLess: Amounts unavailable for general expenditures within one year due to:\\nBoard designated (396,499)          (420,985)          \\nRestricted by donors (2,680,567)      (2,041,806)      \\nFinancial assets available to meet general expenditures within one year 726,711 $        2,269,700$Total Assets 4,116,826$     5,008,595$      \\nLiabilities and Net Assets\\nCurrent Liabilities\\nAccounts payable 298,827 $        440,809 $         \\nAccrued payroll and related expenses 35,140             29,226             \\nDeferred revenue 109,810 22,291\\nOperating lease liability, current portion 32,750 31,548\\nTotal Current Liabilities 476,527           523,874           \\nLong-term Operating Lease Liability, Less Current Portion 25,353 58,104\\nTotal Liabilities 501,880           581,978           \\nNet Assets\\nWithout donor restriction\\nBoard designated - operating reserve 396,499           420,985           \\nUndesignated 537,880           1,963,826       \\nTotal Net Assets Without Donor Restriction 934,379           2,384,811       \\nWith donor restriction 2,680,567       2,041,806       \\nTotal Net Assets 3,614,946       4,426,617       \\nTotal Liabilities and Net Assets 4,116,826$     5,008,595$      National Ataxia Foundation\\nStatements of Financial Position\\nDecember 31, 2023 and 2022\\nSee Independent Auditor's Report and Notes to the Financial Statements.\\n6Without Donor With Donor\\nRestriction Restriction Total\\nSupport and Revenue\\nSupport\\nContributions, memorials and honorariums 1,468,504$     1,614,715$      3,083,219$      \\nIn-kind contributions 121,917           -                        121,917           \\nTotal Support 1,590,421       1,614,715       3,205,136       \\nRevenue\\nConference income 264,816           -                        264,816\"}\n",
      "---------------------------------------- iteration 2  ----------------------------------------\n"
     ]
    },
    {
     "data": {
      "text/html": [
       "<span style=\"color: red;\">thought and action\n",
       ":&lt;thought&gt;While these notes provide further context on the Foundation&#x27;s accounting practices and breakdown of net assets, they still don&#x27;t directly explain the $638,761 increase in net assets with donor restrictions.  It mentions that these are resources subject to donor-imposed restrictions.  Therefore, the increase likely comes from new contributions with donor restrictions.  I need to search specifically for information on new contributions received in 2023 with donor restrictions.\n",
       "&lt;/thought&gt;\n",
       "&lt;tool_call&gt;{&quot;name&quot;: &quot;search&quot;,&quot;arguments&quot;: {&quot;query&quot;: &quot;Contributions with donor restrictions received by National Ataxia Foundation during 2023&quot;}, &quot;id&quot;: 2}&lt;/tool_call&gt;\n",
       "</span>"
      ],
      "text/plain": [
       "<IPython.core.display.HTML object>"
      ]
     },
     "metadata": {},
     "output_type": "display_data"
    },
    {
     "data": {
      "text/html": [
       "<span style=\"color: green;\">\n",
       " Parsed Tool is: search</span>"
      ],
      "text/plain": [
       "<IPython.core.display.HTML object>"
      ]
     },
     "metadata": {},
     "output_type": "display_data"
    },
    {
     "data": {
      "text/html": [
       "<span style=\"color: green;\">\n",
       " Tool calling details: \n",
       "{'name': 'search', 'arguments': {'query': 'Contributions with donor restrictions received by National Ataxia Foundation during 2023'}, 'id': 2}</span>"
      ],
      "text/plain": [
       "<IPython.core.display.HTML object>"
      ]
     },
     "metadata": {},
     "output_type": "display_data"
    },
    {
     "data": {
      "text/html": [
       "<span style=\"color: blue;\">observation:\n",
       "</span>"
      ],
      "text/plain": [
       "<IPython.core.display.HTML object>"
      ]
     },
     "metadata": {},
     "output_type": "display_data"
    },
    {
     "name": "stdout",
     "output_type": "stream",
     "text": [
      "{\"relevant information in the auditor notes\": \"and stored at the NINDS SCA -BRAC biorepository. Both de-identified clinical data and biofluids are available \\nfor request from non -participating investigators for approved research projects.  \\n  \\n13 \\n National Ataxia Foundation  \\nNotes to the Financial Statements  \\nDecember 31, 2023  and 2022  \\n \\nNote 1:  Summary of Significant Accounting Policies (Continued)  \\n \\nB. Basis of Accounting and Presentation  \\n \\nThe accompanying financial statements have been prepared using  the accrual basis of accounting in accordance with \\naccounting principles generally accepted in the United States of America.   \\n \\nRevenues are recorded when earned and expenses are recorded when a liability is incurred. Contributions received are \\nrecorded as an increase in non -donor -restricted or donor -restricted support depending on the existence or nature of any \\ndonor restrictions.  Accordingly, net assets of the Foundation and changes therein are classified and reported as follows:  \\n \\nNet Assets Without Donor Restriction  - Those resources over which the Foundation has discretionary control.  \\n \\nNet Assets With Donor Restriction  - Those resources subject to donor imposed restrictions, which are satisfied by \\nactions of the Foundation or passage of time, or are to be maintained permanently.  \\n \\nC. Use of Estimates  \\n \\nThe preparation of financial statements in conformity with accounting principles generally accepted in the United States121,917 $        - $                     Programs and \\nFundraising\\nWebsite Services -                        9,870               Management and \\nGeneralEstimated wholesale price of \\nidentical or similar products\\nTotal In-kind Contributions 121,917 $        9,870 $            Google and                         \\nMicrosoft Advertising GrantsEstimated wholesale price of \\nidentical or similar products\\n \\nThe in -kind contributions as of December 31, 2023  and 2022  had no donor restrictions.  \\n  \\n20 \\n National Ataxia Foundation  \\nNotes to the Financial Statements  \\nDecember 31, 2023  and 2022  \\n \\nNote 10: Liquidity and Availability of Financial Assets  \\n \\nFinancial assets available for general expenditure, that is, without donor or other restrictions limiting their use, within o ne \\nyear of the statement of financial position dates, comprise the following:  \\n \\n2023 2022\\nCash and cash equivalents 1,008,716$     1,969,164$     \\nInvestments 2,788,623       2,707,996       \\nAccounts receivable 6,438               55,331             \\nTotal Financial Assets Available Within One Year 3,803,777       4,732,491       \\nLess: Amounts unavailable for general expenditures within one year due to:\\nBoard designated (396,499)          (420,985)          \\nRestricted by donors (2,680,567)      (2,041,806)      \\nFinancial assets available to meet general expenditures within one year 726,711 $        2,269,700$Total Assets 4,116,826$     5,008,595$      \\nLiabilities and Net Assets\\nCurrent Liabilities\\nAccounts payable 298,827 $        440,809 $         \\nAccrued payroll and related expenses 35,140             29,226             \\nDeferred revenue 109,810 22,291\\nOperating lease liability, current portion 32,750 31,548\\nTotal Current Liabilities 476,527           523,874           \\nLong-term Operating Lease Liability, Less Current Portion 25,353 58,104\\nTotal Liabilities 501,880           581,978           \\nNet Assets\\nWithout donor restriction\\nBoard designated - operating reserve 396,499           420,985           \\nUndesignated 537,880           1,963,826       \\nTotal Net Assets Without Donor Restriction 934,379           2,384,811       \\nWith donor restriction 2,680,567       2,041,806       \\nTotal Net Assets 3,614,946       4,426,617       \\nTotal Liabilities and Net Assets 4,116,826$     5,008,595$      National Ataxia Foundation\\nStatements of Financial Position\\nDecember 31, 2023 and 2022\\nSee Independent Auditor's Report and Notes to the Financial Statements.\\n6Without Donor With Donor\\nRestriction Restriction Total\\nSupport and Revenue\\nSupport\\nContributions, memorials and honorariums 1,468,504$     1,614,715$      3,083,219$      \\nIn-kind contributions 121,917           -                        121,917           \\nTotal Support 1,590,421       1,614,715       3,205,136       \\nRevenue\\nConference income 264,816           -                        264,816\"}\n",
      "---------------------------------------- iteration 3  ----------------------------------------\n"
     ]
    },
    {
     "data": {
      "text/html": [
       "<span style=\"color: red;\">thought and action\n",
       ":&lt;thought&gt;The information provided still doesn&#x27;t give a precise breakdown of the donor-restricted contributions.  It&#x27;s clear the increase in net assets with donor restrictions is likely due to new contributions, but without more granular data, I can&#x27;t pinpoint the exact sources and amounts of these contributions.  It&#x27;s possible this level of detail isn&#x27;t available in these summarized financial statements.\n",
       "&lt;/thought&gt;\n",
       "&lt;answer&gt;The increase in net assets with donor restrictions from $2,041,806 in 2022 to $2,680,567 in 2023 is likely due to new contributions received with donor-imposed restrictions.  However, the specific details of these contributions are not available within the provided financial summaries.  A more detailed review of the Foundation&#x27;s financial records would be needed to determine the exact sources and amounts of these restricted contributions.&lt;/answer&gt;\n",
       "</span>"
      ],
      "text/plain": [
       "<IPython.core.display.HTML object>"
      ]
     },
     "metadata": {},
     "output_type": "display_data"
    },
    {
     "data": {
      "text/plain": [
       "\"The increase in net assets with donor restrictions from $2,041,806 in 2022 to $2,680,567 in 2023 is likely due to new contributions received with donor-imposed restrictions.  However, the specific details of these contributions are not available within the provided financial summaries.  A more detailed review of the Foundation's financial records would be needed to determine the exact sources and amounts of these restricted contributions.\""
      ]
     },
     "execution_count": 9,
     "metadata": {},
     "output_type": "execute_result"
    }
   ],
   "source": [
    "agent.run(user_msg='What caused the significant change in net assets with donor restrictions between 2022 and 2023?',\n",
    "         max_iterations=10)"
   ]
  },
  {
   "cell_type": "markdown",
   "id": "ce7feb33-0349-44e6-bc35-222c471285c3",
   "metadata": {
    "jp-MarkdownHeadingCollapsed": true,
    "tags": []
   },
   "source": [
    "## ReAct answering simple questions"
   ]
  },
  {
   "cell_type": "code",
   "execution_count": 12,
   "id": "e0754fe6-9756-4d06-a2d3-cbedbf639f4c",
   "metadata": {
    "tags": []
   },
   "outputs": [
    {
     "name": "stdout",
     "output_type": "stream",
     "text": [
      "---------------------------------------- iteration 0  ----------------------------------------\n"
     ]
    },
    {
     "data": {
      "text/html": [
       "<span style=\"color: red;\">thought and action\n",
       ":&lt;thought&gt;I can use the `sum_two_elements` function to add 1234 and 5678, then use `multiply_two_elements` to multiply the result by 5, and finally use `compute_log` to calculate the logarithm of the final product.&lt;/thought&gt;\n",
       "&lt;tool_call&gt;{&quot;name&quot;: &quot;sum_two_elements&quot;, &quot;arguments&quot;: {&quot;a&quot;: 1234, &quot;b&quot;: 5678}, &quot;id&quot;: 0}&lt;/tool_call&gt;\n",
       "</span>"
      ],
      "text/plain": [
       "<IPython.core.display.HTML object>"
      ]
     },
     "metadata": {},
     "output_type": "display_data"
    },
    {
     "data": {
      "text/html": [
       "<span style=\"color: green;\">\n",
       " Parsed Tool is: sum_two_elements</span>"
      ],
      "text/plain": [
       "<IPython.core.display.HTML object>"
      ]
     },
     "metadata": {},
     "output_type": "display_data"
    },
    {
     "data": {
      "text/html": [
       "<span style=\"color: green;\">\n",
       " Tool calling details: \n",
       "{'name': 'sum_two_elements', 'arguments': {'a': 1234, 'b': 5678}, 'id': 0}</span>"
      ],
      "text/plain": [
       "<IPython.core.display.HTML object>"
      ]
     },
     "metadata": {},
     "output_type": "display_data"
    },
    {
     "data": {
      "text/html": [
       "<span style=\"color: blue;\">observation:\n",
       "</span>"
      ],
      "text/plain": [
       "<IPython.core.display.HTML object>"
      ]
     },
     "metadata": {},
     "output_type": "display_data"
    },
    {
     "name": "stdout",
     "output_type": "stream",
     "text": [
      "6912\n",
      "---------------------------------------- iteration 1  ----------------------------------------\n"
     ]
    },
    {
     "data": {
      "text/html": [
       "<span style=\"color: red;\">thought and action\n",
       ":&lt;thought&gt;Now I will multiply the sum (6912) by 5 using the `multiply_two_elements` function.&lt;/thought&gt;\n",
       "&lt;tool_call&gt;{&quot;name&quot;: &quot;multiply_two_elements&quot;, &quot;arguments&quot;: {&quot;a&quot;: 6912, &quot;b&quot;: 5}, &quot;id&quot;: 1}&lt;/tool_call&gt;\n",
       "\n",
       "</span>"
      ],
      "text/plain": [
       "<IPython.core.display.HTML object>"
      ]
     },
     "metadata": {},
     "output_type": "display_data"
    },
    {
     "data": {
      "text/html": [
       "<span style=\"color: green;\">\n",
       " Parsed Tool is: multiply_two_elements</span>"
      ],
      "text/plain": [
       "<IPython.core.display.HTML object>"
      ]
     },
     "metadata": {},
     "output_type": "display_data"
    },
    {
     "data": {
      "text/html": [
       "<span style=\"color: green;\">\n",
       " Tool calling details: \n",
       "{'name': 'multiply_two_elements', 'arguments': {'a': 6912, 'b': 5}, 'id': 1}</span>"
      ],
      "text/plain": [
       "<IPython.core.display.HTML object>"
      ]
     },
     "metadata": {},
     "output_type": "display_data"
    },
    {
     "data": {
      "text/html": [
       "<span style=\"color: blue;\">observation:\n",
       "</span>"
      ],
      "text/plain": [
       "<IPython.core.display.HTML object>"
      ]
     },
     "metadata": {},
     "output_type": "display_data"
    },
    {
     "name": "stdout",
     "output_type": "stream",
     "text": [
      "34560\n",
      "---------------------------------------- iteration 2  ----------------------------------------\n"
     ]
    },
    {
     "data": {
      "text/html": [
       "<span style=\"color: red;\">thought and action\n",
       ":&lt;thought&gt;Finally, I will compute the logarithm of the product (34560) using the `compute_log` function.&lt;/thought&gt;\n",
       "&lt;tool_call&gt;{&quot;name&quot;: &quot;compute_log&quot;, &quot;arguments&quot;: {&quot;x&quot;: 34560}, &quot;id&quot;: 2}&lt;/tool_call&gt;\n",
       "\n",
       "</span>"
      ],
      "text/plain": [
       "<IPython.core.display.HTML object>"
      ]
     },
     "metadata": {},
     "output_type": "display_data"
    },
    {
     "data": {
      "text/html": [
       "<span style=\"color: green;\">\n",
       " Parsed Tool is: compute_log</span>"
      ],
      "text/plain": [
       "<IPython.core.display.HTML object>"
      ]
     },
     "metadata": {},
     "output_type": "display_data"
    },
    {
     "data": {
      "text/html": [
       "<span style=\"color: green;\">\n",
       " Tool calling details: \n",
       "{'name': 'compute_log', 'arguments': {'x': 34560}, 'id': 2}</span>"
      ],
      "text/plain": [
       "<IPython.core.display.HTML object>"
      ]
     },
     "metadata": {},
     "output_type": "display_data"
    },
    {
     "data": {
      "text/html": [
       "<span style=\"color: blue;\">observation:\n",
       "</span>"
      ],
      "text/plain": [
       "<IPython.core.display.HTML object>"
      ]
     },
     "metadata": {},
     "output_type": "display_data"
    },
    {
     "name": "stdout",
     "output_type": "stream",
     "text": [
      "10.450452222917992\n",
      "---------------------------------------- iteration 3  ----------------------------------------\n"
     ]
    },
    {
     "data": {
      "text/html": [
       "<span style=\"color: red;\">thought and action\n",
       ":&lt;thought&gt;I have now calculated the sum, multiplied the result by 5, and taken the logarithm. I can now provide the final answer.&lt;/thought&gt;\n",
       "&lt;answer&gt;The final result after summing 1234 and 5678, multiplying by 5, and taking the logarithm is approximately 10.45.&lt;/answer&gt;\n",
       "</span>"
      ],
      "text/plain": [
       "<IPython.core.display.HTML object>"
      ]
     },
     "metadata": {},
     "output_type": "display_data"
    },
    {
     "data": {
      "text/plain": [
       "'The final result after summing 1234 and 5678, multiplying by 5, and taking the logarithm is approximately 10.45.'"
      ]
     },
     "execution_count": 12,
     "metadata": {},
     "output_type": "execute_result"
    }
   ],
   "source": [
    "agent.run(user_msg='I want to calculate the sum of 1234 and 5678 and multiply the result by 5. Then, I want to take the logarithm of this result',\n",
    "         max_iterations=10) "
   ]
  },
  {
   "cell_type": "markdown",
   "id": "5cbe83be-b43e-4464-a73a-0b59c6b63b63",
   "metadata": {
    "tags": []
   },
   "source": [
    "## Search function returns the entire pdf read by Part.from_data()"
   ]
  },
  {
   "cell_type": "code",
   "execution_count": 33,
   "id": "8fd88dae-2032-4638-9c0a-5f70b574e9d8",
   "metadata": {
    "tags": []
   },
   "outputs": [],
   "source": [
    "data_path='../data/naf23.pdf'\n",
    "auditor_notes_doc=None\n",
    "with open(data_path, 'rb') as fp:\n",
    "    auditor_notes_doc=Part.from_data(data=fp.read(),mime_type='application/pdf')"
   ]
  },
  {
   "cell_type": "code",
   "execution_count": 34,
   "id": "de430604-fa65-4e32-8ee2-8b65afc28529",
   "metadata": {
    "tags": []
   },
   "outputs": [
    {
     "data": {
      "text/plain": [
       "vertexai.generative_models._generative_models.Part"
      ]
     },
     "execution_count": 34,
     "metadata": {},
     "output_type": "execute_result"
    }
   ],
   "source": [
    "type(auditor_notes_doc)"
   ]
  },
  {
   "cell_type": "code",
   "execution_count": 35,
   "id": "321335b1-3008-4a93-a31f-a03d8220dc3f",
   "metadata": {
    "tags": []
   },
   "outputs": [
    {
     "name": "stdout",
     "output_type": "stream",
     "text": [
      "Object is of type Part\n"
     ]
    }
   ],
   "source": [
    "if isinstance(auditor_notes_doc, Part):\n",
    "    print(\"Object is of type Part\")\n",
    "else:\n",
    "    print(\"Object is not of type Part\")"
   ]
  },
  {
   "cell_type": "code",
   "execution_count": 36,
   "id": "595feaf0-582b-473e-a634-0fa1317bcb0f",
   "metadata": {
    "tags": []
   },
   "outputs": [],
   "source": [
    "# define a search function that returns the entire pdf read from Part.from_data()\n",
    "def search(query : str):\n",
    "    \"\"\"\n",
    "    This is a search function on a pre-exisiting financial knoweldge base, you can use this search function to search for financial information of specific companies you do not know, treat this function as a internal wiki search that you can use\n",
    "\n",
    "    Args:\n",
    "        query (str): input query            \n",
    "    \"\"\"\n",
    "    return auditor_notes_doc\n",
    "\n",
    "# convert this search function to a Tool object\n",
    "search_tool = convert_to_tool(search)"
   ]
  },
  {
   "cell_type": "code",
   "execution_count": 58,
   "id": "0db90ae5-cc59-41e9-9ccb-0bbb02985c50",
   "metadata": {
    "tags": []
   },
   "outputs": [],
   "source": [
    "agent = ReactAgent(tools=[search_tool],\n",
    "                  print_system_prompt=False)"
   ]
  },
  {
   "cell_type": "code",
   "execution_count": 59,
   "id": "155787b5-e1d1-423d-afbe-2fa382d58894",
   "metadata": {
    "tags": []
   },
   "outputs": [
    {
     "name": "stdout",
     "output_type": "stream",
     "text": [
      "---------------------------------------- iteration 0  ----------------------------------------\n"
     ]
    },
    {
     "data": {
      "text/html": [
       "<span style=\"color: red;\"><b>Thought and Action</b></span>"
      ],
      "text/plain": [
       "<IPython.core.display.HTML object>"
      ]
     },
     "metadata": {},
     "output_type": "display_data"
    },
    {
     "data": {
      "text/html": [
       "<span style=\"color: red;\">&lt;thought&gt;I need to search the total revenue of National Ataxia Foundation in 2023 in my knowledge base.&lt;/thought&gt;\n",
       "&lt;tool_call&gt;{&quot;name&quot;: &quot;search&quot;,&quot;arguments&quot;: {&quot;query&quot;: &quot;National Ataxia Foundation total revenue 2023&quot;}, &quot;id&quot;: 0}&lt;/tool_call&gt;\n",
       "</span>"
      ],
      "text/plain": [
       "<IPython.core.display.HTML object>"
      ]
     },
     "metadata": {},
     "output_type": "display_data"
    },
    {
     "data": {
      "text/html": [
       "<span style=\"color: green;\"><b>\n",
       " Parsed Tool is: search</b></span>"
      ],
      "text/plain": [
       "<IPython.core.display.HTML object>"
      ]
     },
     "metadata": {},
     "output_type": "display_data"
    },
    {
     "data": {
      "text/html": [
       "<span style=\"color: green;\">\n",
       " Tool calling details: \n",
       "{'name': 'search', 'arguments': {'query': 'National Ataxia Foundation total revenue 2023'}, 'id': 0}</span>"
      ],
      "text/plain": [
       "<IPython.core.display.HTML object>"
      ]
     },
     "metadata": {},
     "output_type": "display_data"
    },
    {
     "data": {
      "text/html": [
       "<span style=\"color: blue;\"><b>Observation</b></span>"
      ],
      "text/plain": [
       "<IPython.core.display.HTML object>"
      ]
     },
     "metadata": {},
     "output_type": "display_data"
    },
    {
     "name": "stdout",
     "output_type": "stream",
     "text": [
      "observation is non-printable Part object, probably the full pdf\n",
      "---------------------------------------- iteration 1  ----------------------------------------\n"
     ]
    },
    {
     "data": {
      "text/html": [
       "<span style=\"color: red;\"><b>Thought and Action</b></span>"
      ],
      "text/plain": [
       "<IPython.core.display.HTML object>"
      ]
     },
     "metadata": {},
     "output_type": "display_data"
    },
    {
     "data": {
      "text/html": [
       "<span style=\"color: red;\">&lt;thought&gt;The National Ataxia Foundation&#x27;s financial statement shows the total revenue is $4,184,787 for the year ended December 31, 2023.&lt;/thought&gt;\n",
       "&lt;answer&gt;The total revenue of National Ataxia Foundation in 2023 is $4,184,787.&lt;/answer&gt;</span>"
      ],
      "text/plain": [
       "<IPython.core.display.HTML object>"
      ]
     },
     "metadata": {},
     "output_type": "display_data"
    },
    {
     "data": {
      "text/plain": [
       "'The total revenue of National Ataxia Foundation in 2023 is $4,184,787.'"
      ]
     },
     "execution_count": 59,
     "metadata": {},
     "output_type": "execute_result"
    }
   ],
   "source": [
    "\n",
    "# user_msg='What caused the significant change in net assets with donor restrictions between 2022 and 2023?'\n",
    "user_msg='What is the total revenue of Naitonal Ataxia Foundation in 2023'\n",
    "agent.run(user_msg=user_msg, max_iterations=10)"
   ]
  },
  {
   "cell_type": "code",
   "execution_count": 53,
   "id": "97e528d7-937d-46d5-8d8e-4f8f0fa5aa52",
   "metadata": {
    "tags": []
   },
   "outputs": [
    {
     "name": "stdout",
     "output_type": "stream",
     "text": [
      "---------------------------------------- iteration 0  ----------------------------------------\n"
     ]
    },
    {
     "data": {
      "text/html": [
       "<span style=\"color: red;\">thought and action\n",
       ":&lt;thought&gt;I need to find information on the National Ataxia Foundation&#x27;s financials, specifically regarding changes in net assets with donor restrictions between 2022 and 2023.  I can use the search tool for this.&lt;/thought&gt;\n",
       "&lt;tool_call&gt;{&quot;name&quot;: &quot;search&quot;,&quot;arguments&quot;: {&quot;query&quot;: &quot;National Ataxia Foundation net assets with donor restrictions 2022 2023 changes&quot;}, &quot;id&quot;: 0}&lt;/tool_call&gt;\n",
       "</span>"
      ],
      "text/plain": [
       "<IPython.core.display.HTML object>"
      ]
     },
     "metadata": {},
     "output_type": "display_data"
    },
    {
     "data": {
      "text/html": [
       "<span style=\"color: green;\">\n",
       " Parsed Tool is: search</span>"
      ],
      "text/plain": [
       "<IPython.core.display.HTML object>"
      ]
     },
     "metadata": {},
     "output_type": "display_data"
    },
    {
     "data": {
      "text/html": [
       "<span style=\"color: green;\">\n",
       " Tool calling details: \n",
       "{'name': 'search', 'arguments': {'query': 'National Ataxia Foundation net assets with donor restrictions 2022 2023 changes'}, 'id': 0}</span>"
      ],
      "text/plain": [
       "<IPython.core.display.HTML object>"
      ]
     },
     "metadata": {},
     "output_type": "display_data"
    },
    {
     "data": {
      "text/html": [
       "<span style=\"color: blue;\">observation:\n",
       "</span>"
      ],
      "text/plain": [
       "<IPython.core.display.HTML object>"
      ]
     },
     "metadata": {},
     "output_type": "display_data"
    },
    {
     "name": "stdout",
     "output_type": "stream",
     "text": [
      "observation is non-printable Part object, probably the full pdf\n",
      "---------------------------------------- iteration 1  ----------------------------------------\n"
     ]
    },
    {
     "data": {
      "text/html": [
       "<span style=\"color: red;\">thought and action\n",
       ":&lt;thought&gt;The provided financial statements show the net assets with donor restrictions at the end of 2023 and 2022.  I need to look at the Statement of Activities to understand the change.&lt;/thought&gt;\n",
       "\n",
       "&lt;tool_call&gt;{&quot;name&quot;: &quot;search&quot;,&quot;arguments&quot;: {&quot;query&quot;: &quot;National Ataxia Foundation statement of activities 2022 2023 net assets with donor restrictions change detail&quot;}, &quot;id&quot;: 1}&lt;/tool_call&gt;\n",
       "</span>"
      ],
      "text/plain": [
       "<IPython.core.display.HTML object>"
      ]
     },
     "metadata": {},
     "output_type": "display_data"
    },
    {
     "data": {
      "text/html": [
       "<span style=\"color: green;\">\n",
       " Parsed Tool is: search</span>"
      ],
      "text/plain": [
       "<IPython.core.display.HTML object>"
      ]
     },
     "metadata": {},
     "output_type": "display_data"
    },
    {
     "data": {
      "text/html": [
       "<span style=\"color: green;\">\n",
       " Tool calling details: \n",
       "{'name': 'search', 'arguments': {'query': 'National Ataxia Foundation statement of activities 2022 2023 net assets with donor restrictions change detail'}, 'id': 1}</span>"
      ],
      "text/plain": [
       "<IPython.core.display.HTML object>"
      ]
     },
     "metadata": {},
     "output_type": "display_data"
    },
    {
     "data": {
      "text/html": [
       "<span style=\"color: blue;\">observation:\n",
       "</span>"
      ],
      "text/plain": [
       "<IPython.core.display.HTML object>"
      ]
     },
     "metadata": {},
     "output_type": "display_data"
    },
    {
     "name": "stdout",
     "output_type": "stream",
     "text": [
      "observation is non-printable Part object, probably the full pdf\n",
      "---------------------------------------- iteration 2  ----------------------------------------\n"
     ]
    },
    {
     "data": {
      "text/html": [
       "<span style=\"color: red;\">thought and action\n",
       ":&lt;thought&gt;The Statement of Activities shows the beginning and ending net assets with donor restrictions and the changes during the year.  The change is primarily due to contributions with donor restrictions and the release of those restrictions.&lt;/thought&gt;\n",
       "\n",
       "&lt;answer&gt;The National Ataxia Foundation&#x27;s net assets with donor restrictions decreased by $361,241 during 2023.  This is primarily due to $1,614,715 in contributions restricted by donors, offset by a release of $975,954 of those restrictions during the year.  The net assets with donor restrictions at the beginning of 2023 were $2,041,806 and at the end of the year were $2,680,567.&lt;/answer&gt;\n",
       "</span>"
      ],
      "text/plain": [
       "<IPython.core.display.HTML object>"
      ]
     },
     "metadata": {},
     "output_type": "display_data"
    },
    {
     "data": {
      "text/plain": [
       "\"The National Ataxia Foundation's net assets with donor restrictions decreased by $361,241 during 2023.  This is primarily due to $1,614,715 in contributions restricted by donors, offset by a release of $975,954 of those restrictions during the year.  The net assets with donor restrictions at the beginning of 2023 were $2,041,806 and at the end of the year were $2,680,567.\""
      ]
     },
     "execution_count": 53,
     "metadata": {},
     "output_type": "execute_result"
    }
   ],
   "source": [
    "agent.run(user_msg='What caused the significant change in net assets with donor restrictions between 2022 and 2023 for National Ataxia Foundation?',\n",
    "         max_iterations=10)"
   ]
  },
  {
   "cell_type": "code",
   "execution_count": null,
   "id": "f4fd778a-4abc-48aa-80e8-2c85b3b216f3",
   "metadata": {},
   "outputs": [],
   "source": []
  }
 ],
 "metadata": {
  "environment": {
   "kernel": "python3",
   "name": "common-cpu.m125",
   "type": "gcloud",
   "uri": "us-docker.pkg.dev/deeplearning-platform-release/gcr.io/base-cpu:m125"
  },
  "kernelspec": {
   "display_name": "Python 3 (Local)",
   "language": "python",
   "name": "python3"
  },
  "language_info": {
   "codemirror_mode": {
    "name": "ipython",
    "version": 3
   },
   "file_extension": ".py",
   "mimetype": "text/x-python",
   "name": "python",
   "nbconvert_exporter": "python",
   "pygments_lexer": "ipython3",
   "version": "3.10.15"
  }
 },
 "nbformat": 4,
 "nbformat_minor": 5
}
