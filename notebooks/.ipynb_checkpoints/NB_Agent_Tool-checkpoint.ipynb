{
 "cells": [
  {
   "cell_type": "code",
   "execution_count": 116,
   "id": "d2922e0c-4c47-4c38-bad1-5829fbcc0a16",
   "metadata": {
    "tags": []
   },
   "outputs": [],
   "source": [
    "import sys\n",
    "import os\n",
    "import json\n",
    "import importlib\n",
    "\n",
    "sys.path.append(os.path.abspath('../utils'))\n",
    "\n",
    "import tool_agent\n",
    "importlib.reload(tool_agent)\n",
    "from tool_agent import ToolAgent\n",
    "\n",
    "import tool_functions\n",
    "importlib.reload(tool_functions)\n",
    "from tool_functions import convert_to_tool\n",
    "\n",
    "import rag\n",
    "importlib.reload(rag)\n",
    "from rag import RAG\n",
    "\n",
    "from rich.markdown import Markdown as rich_Markdown"
   ]
  },
  {
   "cell_type": "markdown",
   "id": "f82a576f-eebf-45f9-acf3-0b49f04a233e",
   "metadata": {},
   "source": [
    "## Use a dummy function to test"
   ]
  },
  {
   "cell_type": "code",
   "execution_count": 117,
   "id": "72fbd01e-8f15-494d-b1c0-667bf5a6ba68",
   "metadata": {
    "tags": []
   },
   "outputs": [],
   "source": [
    "def get_current_weather(location: str, unit: str):\n",
    "    \"\"\"\n",
    "    Get the current weather in a given location\n",
    "    \n",
    "    Args:\n",
    "        location (str): The city and state, e.g. Madrid, Barcelona\n",
    "        unit (str): The unit. It can take two values; \"Felsius\", \"Fahrenheit\"\n",
    "    \"\"\"\n",
    "    if location == \"Charlotte\":\n",
    "        return json.dumps({\"Retrieved data\": f\"the temperature is 25 {unit}\"})\n",
    "    else:\n",
    "        return json.dumps({\"Retrieved data\": f\"the temperature is 50 {unit}\"})\n"
   ]
  },
  {
   "cell_type": "code",
   "execution_count": 118,
   "id": "86b1799e-70de-484d-a025-6b0b7acd841d",
   "metadata": {
    "tags": []
   },
   "outputs": [
    {
     "name": "stdout",
     "output_type": "stream",
     "text": [
      "{\"Retrieved data\": \"the temperature is 25 Fahrenheit\"}\n"
     ]
    }
   ],
   "source": [
    "print(get_current_weather(location=\"Charlotte\", unit=\"Fahrenheit\"))\n",
    "weather_tool = convert_to_tool(get_current_weather)"
   ]
  },
  {
   "cell_type": "code",
   "execution_count": 123,
   "id": "0d3970f1-24f8-474a-9cd7-edad78fe0953",
   "metadata": {
    "tags": []
   },
   "outputs": [
    {
     "ename": "ResourceExhausted",
     "evalue": "429 Online prediction request quota exceeded for gemini-1.5-pro. Please try again later with backoff.",
     "output_type": "error",
     "traceback": [
      "\u001b[0;31m---------------------------------------------------------------------------\u001b[0m",
      "\u001b[0;31m_InactiveRpcError\u001b[0m                         Traceback (most recent call last)",
      "File \u001b[0;32m/opt/conda/lib/python3.10/site-packages/google/api_core/grpc_helpers.py:76\u001b[0m, in \u001b[0;36m_wrap_unary_errors.<locals>.error_remapped_callable\u001b[0;34m(*args, **kwargs)\u001b[0m\n\u001b[1;32m     75\u001b[0m \u001b[38;5;28;01mtry\u001b[39;00m:\n\u001b[0;32m---> 76\u001b[0m     \u001b[38;5;28;01mreturn\u001b[39;00m \u001b[43mcallable_\u001b[49m\u001b[43m(\u001b[49m\u001b[38;5;241;43m*\u001b[39;49m\u001b[43margs\u001b[49m\u001b[43m,\u001b[49m\u001b[43m \u001b[49m\u001b[38;5;241;43m*\u001b[39;49m\u001b[38;5;241;43m*\u001b[39;49m\u001b[43mkwargs\u001b[49m\u001b[43m)\u001b[49m\n\u001b[1;32m     77\u001b[0m \u001b[38;5;28;01mexcept\u001b[39;00m grpc\u001b[38;5;241m.\u001b[39mRpcError \u001b[38;5;28;01mas\u001b[39;00m exc:\n",
      "File \u001b[0;32m/opt/conda/lib/python3.10/site-packages/grpc/_channel.py:1181\u001b[0m, in \u001b[0;36m_UnaryUnaryMultiCallable.__call__\u001b[0;34m(self, request, timeout, metadata, credentials, wait_for_ready, compression)\u001b[0m\n\u001b[1;32m   1175\u001b[0m (\n\u001b[1;32m   1176\u001b[0m     state,\n\u001b[1;32m   1177\u001b[0m     call,\n\u001b[1;32m   1178\u001b[0m ) \u001b[38;5;241m=\u001b[39m \u001b[38;5;28mself\u001b[39m\u001b[38;5;241m.\u001b[39m_blocking(\n\u001b[1;32m   1179\u001b[0m     request, timeout, metadata, credentials, wait_for_ready, compression\n\u001b[1;32m   1180\u001b[0m )\n\u001b[0;32m-> 1181\u001b[0m \u001b[38;5;28;01mreturn\u001b[39;00m \u001b[43m_end_unary_response_blocking\u001b[49m\u001b[43m(\u001b[49m\u001b[43mstate\u001b[49m\u001b[43m,\u001b[49m\u001b[43m \u001b[49m\u001b[43mcall\u001b[49m\u001b[43m,\u001b[49m\u001b[43m \u001b[49m\u001b[38;5;28;43;01mFalse\u001b[39;49;00m\u001b[43m,\u001b[49m\u001b[43m \u001b[49m\u001b[38;5;28;43;01mNone\u001b[39;49;00m\u001b[43m)\u001b[49m\n",
      "File \u001b[0;32m/opt/conda/lib/python3.10/site-packages/grpc/_channel.py:1006\u001b[0m, in \u001b[0;36m_end_unary_response_blocking\u001b[0;34m(state, call, with_call, deadline)\u001b[0m\n\u001b[1;32m   1005\u001b[0m \u001b[38;5;28;01melse\u001b[39;00m:\n\u001b[0;32m-> 1006\u001b[0m     \u001b[38;5;28;01mraise\u001b[39;00m _InactiveRpcError(state)\n",
      "\u001b[0;31m_InactiveRpcError\u001b[0m: <_InactiveRpcError of RPC that terminated with:\n\tstatus = StatusCode.RESOURCE_EXHAUSTED\n\tdetails = \"Online prediction request quota exceeded for gemini-1.5-pro. Please try again later with backoff.\"\n\tdebug_error_string = \"UNKNOWN:Error received from peer ipv4:64.233.181.95:443 {grpc_message:\"Online prediction request quota exceeded for gemini-1.5-pro. Please try again later with backoff.\", grpc_status:8, created_time:\"2024-10-25T14:52:12.747867528+00:00\"}\"\n>",
      "\nThe above exception was the direct cause of the following exception:\n",
      "\u001b[0;31mResourceExhausted\u001b[0m                         Traceback (most recent call last)",
      "Cell \u001b[0;32mIn[123], line 2\u001b[0m\n\u001b[1;32m      1\u001b[0m tool_agent \u001b[38;5;241m=\u001b[39m ToolAgent(tools\u001b[38;5;241m=\u001b[39m[weather_tool])\n\u001b[0;32m----> 2\u001b[0m temp\u001b[38;5;241m=\u001b[39m\u001b[43mtool_agent\u001b[49m\u001b[38;5;241;43m.\u001b[39;49m\u001b[43mrun\u001b[49m\u001b[43m(\u001b[49m\u001b[38;5;124;43m\"\u001b[39;49m\u001b[38;5;124;43mWhat is the weather today in Charlotte?\u001b[39;49m\u001b[38;5;124;43m\"\u001b[39;49m\u001b[43m)\u001b[49m\n\u001b[1;32m      3\u001b[0m rich_Markdown(temp)\n",
      "File \u001b[0;32m~/ReAct/utils/tool_agent.py:132\u001b[0m, in \u001b[0;36mToolAgent.run\u001b[0;34m(self, user_msg)\u001b[0m\n\u001b[1;32m    129\u001b[0m \u001b[38;5;28;01mif\u001b[39;00m \u001b[38;5;28mself\u001b[39m\u001b[38;5;241m.\u001b[39mprint_system_prompt:\n\u001b[1;32m    130\u001b[0m     \u001b[38;5;28mprint\u001b[39m(chat_history)\n\u001b[0;32m--> 132\u001b[0m response \u001b[38;5;241m=\u001b[39m \u001b[43mexecute\u001b[49m\u001b[43m(\u001b[49m\u001b[38;5;28;43mself\u001b[39;49m\u001b[38;5;241;43m.\u001b[39;49m\u001b[43mclient\u001b[49m\u001b[43m,\u001b[49m\u001b[43m \u001b[49m\u001b[43mmessages\u001b[49m\u001b[38;5;241;43m=\u001b[39;49m\u001b[43mchat_history\u001b[49m\u001b[43m)\u001b[49m\n\u001b[1;32m    133\u001b[0m tool_calls \u001b[38;5;241m=\u001b[39m extract_tag_content(\u001b[38;5;28mstr\u001b[39m(response), \u001b[38;5;124m\"\u001b[39m\u001b[38;5;124mtool_call\u001b[39m\u001b[38;5;124m\"\u001b[39m)\n\u001b[1;32m    136\u001b[0m \u001b[38;5;28;01mif\u001b[39;00m tool_calls\u001b[38;5;241m.\u001b[39mfound:\n\u001b[1;32m    137\u001b[0m     \u001b[38;5;66;03m# tool_calls.content is a list, since there might be several tool calls \u001b[39;00m\n",
      "File \u001b[0;32m~/ReAct/utils/chat_functions.py:15\u001b[0m, in \u001b[0;36mexecute\u001b[0;34m(client, messages, generation_config)\u001b[0m\n\u001b[1;32m      3\u001b[0m \u001b[38;5;28;01mdef\u001b[39;00m \u001b[38;5;21mexecute\u001b[39m(client, messages: \u001b[38;5;28mlist\u001b[39m, generation_config\u001b[38;5;241m=\u001b[39m{\u001b[38;5;124m\"\u001b[39m\u001b[38;5;124mtemperature\u001b[39m\u001b[38;5;124m\"\u001b[39m:\u001b[38;5;241m0\u001b[39m}) \u001b[38;5;241m-\u001b[39m\u001b[38;5;241m>\u001b[39m \u001b[38;5;28mstr\u001b[39m:\n\u001b[1;32m      4\u001b[0m \u001b[38;5;250m    \u001b[39m\u001b[38;5;124;03m\"\"\"\u001b[39;00m\n\u001b[1;32m      5\u001b[0m \u001b[38;5;124;03m    Sends a request to the client's `generate_content` method to interact with the language model.\u001b[39;00m\n\u001b[1;32m      6\u001b[0m \n\u001b[0;32m   (...)\u001b[0m\n\u001b[1;32m     13\u001b[0m \u001b[38;5;124;03m        str: The content of the model's response.\u001b[39;00m\n\u001b[1;32m     14\u001b[0m \u001b[38;5;124;03m    \"\"\"\u001b[39;00m\n\u001b[0;32m---> 15\u001b[0m     response \u001b[38;5;241m=\u001b[39m \u001b[43mclient\u001b[49m\u001b[38;5;241;43m.\u001b[39;49m\u001b[43mgenerate_content\u001b[49m\u001b[43m(\u001b[49m\u001b[43mcontents\u001b[49m\u001b[38;5;241;43m=\u001b[39;49m\u001b[43mmessages\u001b[49m\u001b[43m,\u001b[49m\u001b[43m \u001b[49m\u001b[43mgeneration_config\u001b[49m\u001b[38;5;241;43m=\u001b[39;49m\u001b[43mgeneration_config\u001b[49m\u001b[43m)\u001b[49m \n\u001b[1;32m     16\u001b[0m     \u001b[38;5;28;01mreturn\u001b[39;00m response\u001b[38;5;241m.\u001b[39mtext\n",
      "File \u001b[0;32m/opt/conda/lib/python3.10/site-packages/vertexai/generative_models/_generative_models.py:590\u001b[0m, in \u001b[0;36m_GenerativeModel.generate_content\u001b[0;34m(self, contents, generation_config, safety_settings, tools, tool_config, stream)\u001b[0m\n\u001b[1;32m    582\u001b[0m     \u001b[38;5;28;01mreturn\u001b[39;00m \u001b[38;5;28mself\u001b[39m\u001b[38;5;241m.\u001b[39m_generate_content_streaming(\n\u001b[1;32m    583\u001b[0m         contents\u001b[38;5;241m=\u001b[39mcontents,\n\u001b[1;32m    584\u001b[0m         generation_config\u001b[38;5;241m=\u001b[39mgeneration_config,\n\u001b[0;32m   (...)\u001b[0m\n\u001b[1;32m    587\u001b[0m         tool_config\u001b[38;5;241m=\u001b[39mtool_config,\n\u001b[1;32m    588\u001b[0m     )\n\u001b[1;32m    589\u001b[0m \u001b[38;5;28;01melse\u001b[39;00m:\n\u001b[0;32m--> 590\u001b[0m     \u001b[38;5;28;01mreturn\u001b[39;00m \u001b[38;5;28;43mself\u001b[39;49m\u001b[38;5;241;43m.\u001b[39;49m\u001b[43m_generate_content\u001b[49m\u001b[43m(\u001b[49m\n\u001b[1;32m    591\u001b[0m \u001b[43m        \u001b[49m\u001b[43mcontents\u001b[49m\u001b[38;5;241;43m=\u001b[39;49m\u001b[43mcontents\u001b[49m\u001b[43m,\u001b[49m\n\u001b[1;32m    592\u001b[0m \u001b[43m        \u001b[49m\u001b[43mgeneration_config\u001b[49m\u001b[38;5;241;43m=\u001b[39;49m\u001b[43mgeneration_config\u001b[49m\u001b[43m,\u001b[49m\n\u001b[1;32m    593\u001b[0m \u001b[43m        \u001b[49m\u001b[43msafety_settings\u001b[49m\u001b[38;5;241;43m=\u001b[39;49m\u001b[43msafety_settings\u001b[49m\u001b[43m,\u001b[49m\n\u001b[1;32m    594\u001b[0m \u001b[43m        \u001b[49m\u001b[43mtools\u001b[49m\u001b[38;5;241;43m=\u001b[39;49m\u001b[43mtools\u001b[49m\u001b[43m,\u001b[49m\n\u001b[1;32m    595\u001b[0m \u001b[43m        \u001b[49m\u001b[43mtool_config\u001b[49m\u001b[38;5;241;43m=\u001b[39;49m\u001b[43mtool_config\u001b[49m\u001b[43m,\u001b[49m\n\u001b[1;32m    596\u001b[0m \u001b[43m    \u001b[49m\u001b[43m)\u001b[49m\n",
      "File \u001b[0;32m/opt/conda/lib/python3.10/site-packages/vertexai/generative_models/_generative_models.py:705\u001b[0m, in \u001b[0;36m_GenerativeModel._generate_content\u001b[0;34m(self, contents, generation_config, safety_settings, tools, tool_config)\u001b[0m\n\u001b[1;32m    680\u001b[0m \u001b[38;5;250m\u001b[39m\u001b[38;5;124;03m\"\"\"Generates content.\u001b[39;00m\n\u001b[1;32m    681\u001b[0m \n\u001b[1;32m    682\u001b[0m \u001b[38;5;124;03mArgs:\u001b[39;00m\n\u001b[0;32m   (...)\u001b[0m\n\u001b[1;32m    696\u001b[0m \u001b[38;5;124;03m    A single GenerationResponse object\u001b[39;00m\n\u001b[1;32m    697\u001b[0m \u001b[38;5;124;03m\"\"\"\u001b[39;00m\n\u001b[1;32m    698\u001b[0m request \u001b[38;5;241m=\u001b[39m \u001b[38;5;28mself\u001b[39m\u001b[38;5;241m.\u001b[39m_prepare_request(\n\u001b[1;32m    699\u001b[0m     contents\u001b[38;5;241m=\u001b[39mcontents,\n\u001b[1;32m    700\u001b[0m     generation_config\u001b[38;5;241m=\u001b[39mgeneration_config,\n\u001b[0;32m   (...)\u001b[0m\n\u001b[1;32m    703\u001b[0m     tool_config\u001b[38;5;241m=\u001b[39mtool_config,\n\u001b[1;32m    704\u001b[0m )\n\u001b[0;32m--> 705\u001b[0m gapic_response \u001b[38;5;241m=\u001b[39m \u001b[38;5;28;43mself\u001b[39;49m\u001b[38;5;241;43m.\u001b[39;49m\u001b[43m_prediction_client\u001b[49m\u001b[38;5;241;43m.\u001b[39;49m\u001b[43mgenerate_content\u001b[49m\u001b[43m(\u001b[49m\u001b[43mrequest\u001b[49m\u001b[38;5;241;43m=\u001b[39;49m\u001b[43mrequest\u001b[49m\u001b[43m)\u001b[49m\n\u001b[1;32m    706\u001b[0m \u001b[38;5;28;01mreturn\u001b[39;00m \u001b[38;5;28mself\u001b[39m\u001b[38;5;241m.\u001b[39m_parse_response(gapic_response)\n",
      "File \u001b[0;32m/opt/conda/lib/python3.10/site-packages/google/cloud/aiplatform_v1/services/prediction_service/client.py:2120\u001b[0m, in \u001b[0;36mPredictionServiceClient.generate_content\u001b[0;34m(self, request, model, contents, retry, timeout, metadata)\u001b[0m\n\u001b[1;32m   2117\u001b[0m \u001b[38;5;28mself\u001b[39m\u001b[38;5;241m.\u001b[39m_validate_universe_domain()\n\u001b[1;32m   2119\u001b[0m \u001b[38;5;66;03m# Send the request.\u001b[39;00m\n\u001b[0;32m-> 2120\u001b[0m response \u001b[38;5;241m=\u001b[39m \u001b[43mrpc\u001b[49m\u001b[43m(\u001b[49m\n\u001b[1;32m   2121\u001b[0m \u001b[43m    \u001b[49m\u001b[43mrequest\u001b[49m\u001b[43m,\u001b[49m\n\u001b[1;32m   2122\u001b[0m \u001b[43m    \u001b[49m\u001b[43mretry\u001b[49m\u001b[38;5;241;43m=\u001b[39;49m\u001b[43mretry\u001b[49m\u001b[43m,\u001b[49m\n\u001b[1;32m   2123\u001b[0m \u001b[43m    \u001b[49m\u001b[43mtimeout\u001b[49m\u001b[38;5;241;43m=\u001b[39;49m\u001b[43mtimeout\u001b[49m\u001b[43m,\u001b[49m\n\u001b[1;32m   2124\u001b[0m \u001b[43m    \u001b[49m\u001b[43mmetadata\u001b[49m\u001b[38;5;241;43m=\u001b[39;49m\u001b[43mmetadata\u001b[49m\u001b[43m,\u001b[49m\n\u001b[1;32m   2125\u001b[0m \u001b[43m\u001b[49m\u001b[43m)\u001b[49m\n\u001b[1;32m   2127\u001b[0m \u001b[38;5;66;03m# Done; return the response.\u001b[39;00m\n\u001b[1;32m   2128\u001b[0m \u001b[38;5;28;01mreturn\u001b[39;00m response\n",
      "File \u001b[0;32m/opt/conda/lib/python3.10/site-packages/google/api_core/gapic_v1/method.py:131\u001b[0m, in \u001b[0;36m_GapicCallable.__call__\u001b[0;34m(self, timeout, retry, compression, *args, **kwargs)\u001b[0m\n\u001b[1;32m    128\u001b[0m \u001b[38;5;28;01mif\u001b[39;00m \u001b[38;5;28mself\u001b[39m\u001b[38;5;241m.\u001b[39m_compression \u001b[38;5;129;01mis\u001b[39;00m \u001b[38;5;129;01mnot\u001b[39;00m \u001b[38;5;28;01mNone\u001b[39;00m:\n\u001b[1;32m    129\u001b[0m     kwargs[\u001b[38;5;124m\"\u001b[39m\u001b[38;5;124mcompression\u001b[39m\u001b[38;5;124m\"\u001b[39m] \u001b[38;5;241m=\u001b[39m compression\n\u001b[0;32m--> 131\u001b[0m \u001b[38;5;28;01mreturn\u001b[39;00m \u001b[43mwrapped_func\u001b[49m\u001b[43m(\u001b[49m\u001b[38;5;241;43m*\u001b[39;49m\u001b[43margs\u001b[49m\u001b[43m,\u001b[49m\u001b[43m \u001b[49m\u001b[38;5;241;43m*\u001b[39;49m\u001b[38;5;241;43m*\u001b[39;49m\u001b[43mkwargs\u001b[49m\u001b[43m)\u001b[49m\n",
      "File \u001b[0;32m/opt/conda/lib/python3.10/site-packages/google/api_core/grpc_helpers.py:78\u001b[0m, in \u001b[0;36m_wrap_unary_errors.<locals>.error_remapped_callable\u001b[0;34m(*args, **kwargs)\u001b[0m\n\u001b[1;32m     76\u001b[0m     \u001b[38;5;28;01mreturn\u001b[39;00m callable_(\u001b[38;5;241m*\u001b[39margs, \u001b[38;5;241m*\u001b[39m\u001b[38;5;241m*\u001b[39mkwargs)\n\u001b[1;32m     77\u001b[0m \u001b[38;5;28;01mexcept\u001b[39;00m grpc\u001b[38;5;241m.\u001b[39mRpcError \u001b[38;5;28;01mas\u001b[39;00m exc:\n\u001b[0;32m---> 78\u001b[0m     \u001b[38;5;28;01mraise\u001b[39;00m exceptions\u001b[38;5;241m.\u001b[39mfrom_grpc_error(exc) \u001b[38;5;28;01mfrom\u001b[39;00m \u001b[38;5;21;01mexc\u001b[39;00m\n",
      "\u001b[0;31mResourceExhausted\u001b[0m: 429 Online prediction request quota exceeded for gemini-1.5-pro. Please try again later with backoff."
     ]
    }
   ],
   "source": [
    "tool_agent = ToolAgent(tools=[weather_tool])\n",
    "temp=tool_agent.run(\"What is the weather today in Charlotte?\")\n",
    "rich_Markdown(temp)"
   ]
  },
  {
   "cell_type": "code",
   "execution_count": 98,
   "id": "f460583d-32a9-423c-91b0-1d9bf4a5a43d",
   "metadata": {
    "tags": []
   },
   "outputs": [
    {
     "name": "stdout",
     "output_type": "stream",
     "text": [
      "[role: \"user\"\n",
      "parts {\n",
      "  text: \"\\nYou are a function calling and questions answering AI model. You are provided with function signatures within <tools></tools> XML tags.\\nYou may call one or more functions to assist with the user query. Don\\'t make assumptions about what values to plug into functions. Pay special attention to the properties \\'types\\'. You should use those types as in a Python dict.\\n\\nFor each function call return a json object with function name and arguments within <tool_call></tool_call>\\nXML tags as follows:\\n\\n<tool_call>\\n{\\\"name\\\": <function-name>,\\\"arguments\\\": <args-dict>,  \\\"id\\\": <monotonically-increasing-id>}\\n</tool_call>\\n\\nHere are the available tools:\\n\\n<tools>\\n{\\\"name\\\": \\\"get_current_weather\\\", \\\"description\\\": \\\"\\\\n    Get the current weather in a given location\\\\n    \\\\n    Args:\\\\n        location (str): The city and state, e.g. Madrid, Barcelona\\\\n        unit (str): The unit. It can take two values; \\\\\\\"Felsius\\\\\\\", \\\\\\\"Fahrenheit\\\\\\\"\\\\n    \\\", \\\"parameters\\\": {\\\"properties\\\": {\\\"location\\\": {\\\"type\\\": \\\"str\\\"}, \\\"unit\\\": {\\\"type\\\": \\\"str\\\"}}}}\\n</tools>\\n\\nif none of the functions is related to the question, answer the question using your own knowledge.\\nif you are provided with observations, you may answer the question based on that observation.\\n\"\n",
      "}\n",
      ", role: \"user\"\n",
      "parts {\n",
      "  text: \"What is net income of wells fargo this quarter\"\n",
      "}\n",
      "]\n",
      "I don't have access to real-time information, including financial data like the net income of Wells Fargo for the current quarter.  Financial results are typically released on a quarterly basis and announced publicly through official company channels like press releases and investor relations websites.  You can find the most up-to-date information on Wells Fargo's financial performance by checking their official investor relations website.  News outlets that cover financial markets will also report on these earnings releases.\n",
      "\n"
     ]
    }
   ],
   "source": [
    "tool_agent = ToolAgent(tools=[weather_tool])\n",
    "temp=tool_agent.run(\"What is net income of wells fargo this quarter\")\n",
    "print(temp)"
   ]
  },
  {
   "cell_type": "code",
   "execution_count": 99,
   "id": "949f7a90-2975-4ea8-8385-b7a860a6c4c4",
   "metadata": {
    "tags": []
   },
   "outputs": [
    {
     "name": "stdout",
     "output_type": "stream",
     "text": [
      "[role: \"user\"\n",
      "parts {\n",
      "  text: \"\\nYou are a function calling and questions answering AI model. You are provided with function signatures within <tools></tools> XML tags.\\nYou may call one or more functions to assist with the user query. Don\\'t make assumptions about what values to plug into functions. Pay special attention to the properties \\'types\\'. You should use those types as in a Python dict.\\n\\nFor each function call return a json object with function name and arguments within <tool_call></tool_call>\\nXML tags as follows:\\n\\n<tool_call>\\n{\\\"name\\\": <function-name>,\\\"arguments\\\": <args-dict>,  \\\"id\\\": <monotonically-increasing-id>}\\n</tool_call>\\n\\nHere are the available tools:\\n\\n<tools>\\n{\\\"name\\\": \\\"get_current_weather\\\", \\\"description\\\": \\\"\\\\n    Get the current weather in a given location\\\\n    \\\\n    Args:\\\\n        location (str): The city and state, e.g. Madrid, Barcelona\\\\n        unit (str): The unit. It can take two values; \\\\\\\"Felsius\\\\\\\", \\\\\\\"Fahrenheit\\\\\\\"\\\\n    \\\", \\\"parameters\\\": {\\\"properties\\\": {\\\"location\\\": {\\\"type\\\": \\\"str\\\"}, \\\"unit\\\": {\\\"type\\\": \\\"str\\\"}}}}\\n</tools>\\n\\nif none of the functions is related to the question, answer the question using your own knowledge.\\nif you are provided with observations, you may answer the question based on that observation.\\n\"\n",
      "}\n",
      ", role: \"user\"\n",
      "parts {\n",
      "  text: \"What is the weather today in Charlotte and San Francisco?\"\n",
      "}\n",
      "]\n"
     ]
    },
    {
     "data": {
      "text/html": [
       "<span style=\"color: green;\">\n",
       " Parsed Tool is: get_current_weather</span>"
      ],
      "text/plain": [
       "<IPython.core.display.HTML object>"
      ]
     },
     "metadata": {},
     "output_type": "display_data"
    },
    {
     "data": {
      "text/html": [
       "<span style=\"color: green;\">\n",
       "Tool call dict: \n",
       "{'name': 'get_current_weather', 'arguments': {'location': 'Charlotte', 'unit': 'Fahrenheit'}, 'id': 1}</span>"
      ],
      "text/plain": [
       "<IPython.core.display.HTML object>"
      ]
     },
     "metadata": {},
     "output_type": "display_data"
    },
    {
     "data": {
      "text/html": [
       "<span style=\"color: green;\">\n",
       " Result to be added as observation: \n",
       "{\"Retrieved data\": \"the temperature is 25 Fahrenheit\"}</span>"
      ],
      "text/plain": [
       "<IPython.core.display.HTML object>"
      ]
     },
     "metadata": {},
     "output_type": "display_data"
    },
    {
     "data": {
      "text/html": [
       "<span style=\"color: green;\">\n",
       " Parsed Tool is: get_current_weather</span>"
      ],
      "text/plain": [
       "<IPython.core.display.HTML object>"
      ]
     },
     "metadata": {},
     "output_type": "display_data"
    },
    {
     "data": {
      "text/html": [
       "<span style=\"color: green;\">\n",
       "Tool call dict: \n",
       "{'name': 'get_current_weather', 'arguments': {'location': 'San Francisco', 'unit': 'Fahrenheit'}, 'id': 2}</span>"
      ],
      "text/plain": [
       "<IPython.core.display.HTML object>"
      ]
     },
     "metadata": {},
     "output_type": "display_data"
    },
    {
     "data": {
      "text/html": [
       "<span style=\"color: green;\">\n",
       " Result to be added as observation: \n",
       "{\"Retrieved data\": \"the temperature is 50 Fahrenheit\"}</span>"
      ],
      "text/plain": [
       "<IPython.core.display.HTML object>"
      ]
     },
     "metadata": {},
     "output_type": "display_data"
    },
    {
     "name": "stdout",
     "output_type": "stream",
     "text": [
      "```tool_code\n",
      "<tool_call>\n",
      "{\"name\": \"get_current_weather\", \"arguments\": {\"location\": \"Charlotte\", \"unit\": \"Fahrenheit\"}, \"id\": 1}\n",
      "</tool_call>\n",
      "<tool_call>\n",
      "{\"name\": \"get_current_weather\", \"arguments\": {\"location\": \"San Francisco\", \"unit\": \"Fahrenheit\"}, \"id\": 2}\n",
      "</tool_call>\n",
      "```Based on the retrieved data, the temperature in Charlotte is 25 Fahrenheit and the temperature in San Francisco is 50 Fahrenheit.\n"
     ]
    }
   ],
   "source": [
    "tool_agent = ToolAgent(tools=[weather_tool])\n",
    "temp=tool_agent.run(\"What is the weather today in Charlotte and San Francisco?\")\n",
    "print(temp)"
   ]
  },
  {
   "cell_type": "markdown",
   "id": "41ab464c-912b-4ac2-b244-84444ec39390",
   "metadata": {},
   "source": [
    "## Use a RAG serach function to test"
   ]
  },
  {
   "cell_type": "code",
   "execution_count": 11,
   "id": "6dbdcaba-f4f5-4a7f-b08c-7a3d17f158a0",
   "metadata": {
    "tags": []
   },
   "outputs": [],
   "source": [
    "# read the data, create an RAG class on that data, create the search function\n",
    "data_path='../data/naf23.pdf'"
   ]
  },
  {
   "cell_type": "code",
   "execution_count": 15,
   "id": "3e638c82-1bf8-4c71-a80d-b201ca73fe91",
   "metadata": {
    "tags": []
   },
   "outputs": [
    {
     "name": "stderr",
     "output_type": "stream",
     "text": [
      "/opt/conda/lib/python3.10/site-packages/transformers/tokenization_utils_base.py:1617: FutureWarning: `clean_up_tokenization_spaces` was not set. It will be set to `True` by default. This behavior will be deprecated in transformers v4.45, and will be then set to `False` by default. For more details check this issue: https://github.com/huggingface/transformers/issues/31884\n",
      "  warnings.warn(\n"
     ]
    }
   ],
   "source": [
    "from PyPDF2 import PdfReader\n",
    "from langchain.text_splitter import RecursiveCharacterTextSplitter\n",
    "from langchain import FAISS\n",
    "from langchain_huggingface import HuggingFaceEmbeddings\n",
    "\n",
    "# create a faiss_vector_store\n",
    "pdf_reader = PdfReader(data_path)\n",
    "text = \"\"\n",
    "chunks=[]\n",
    "\n",
    "# read the pages\n",
    "for page in pdf_reader.pages:\n",
    "    text += page.extract_text()\n",
    "\n",
    "# text_splitter.create_documents() splits the text into chunks, then change each chunk into a 'Document' object of Langchain\n",
    "text_splitter = RecursiveCharacterTextSplitter(chunk_size=1500, chunk_overlap=100)\n",
    "chunks=text_splitter.create_documents([text])\n",
    "\n",
    "# embedding model\n",
    "embedding_model = HuggingFaceEmbeddings(model_name='sentence-transformers/all-mpnet-base-v2')\n",
    "\n",
    "# faiss_vector_store\n",
    "faiss_vector_store = FAISS.from_documents(chunks, embedding_model)"
   ]
  },
  {
   "cell_type": "code",
   "execution_count": 63,
   "id": "368f85dc-f3ff-4fb6-8e4d-b04c9ad9485a",
   "metadata": {},
   "outputs": [
    {
     "name": "stderr",
     "output_type": "stream",
     "text": [
      "/opt/conda/lib/python3.10/site-packages/transformers/tokenization_utils_base.py:1617: FutureWarning: `clean_up_tokenization_spaces` was not set. It will be set to `True` by default. This behavior will be deprecated in transformers v4.45, and will be then set to `False` by default. For more details check this issue: https://github.com/huggingface/transformers/issues/31884\n",
      "  warnings.warn(\n"
     ]
    }
   ],
   "source": [
    "rag_instance=RAG(pdf_path= data_path, chunking_method='recursive', faiss_vector_store=faiss_vector_store)"
   ]
  },
  {
   "cell_type": "code",
   "execution_count": 108,
   "id": "fef20899-dde5-48f6-9504-0df25b6567a6",
   "metadata": {
    "tags": []
   },
   "outputs": [],
   "source": [
    "# rag_instance.search(query=\"total revenue of NAF 2023\", method='ensemble')"
   ]
  },
  {
   "cell_type": "code",
   "execution_count": 65,
   "id": "a80e27e3-1659-400b-9ad5-7b5bc121233e",
   "metadata": {
    "tags": []
   },
   "outputs": [],
   "source": [
    "def search(query : str):\n",
    "    \"\"\"\n",
    "    This is a search function on a pre-exisiting financial knoweldge base, you can use this search function to search for financial information of specific companies you do not know, treat this function as a internal wiki search that you can use\n",
    "\n",
    "    Args:\n",
    "        query (str): input query            \n",
    "    \"\"\"\n",
    "    results = rag_instance.search(query, method='ensemble')\n",
    "    return json.dumps({\"relevant information in the auditor notes\": results})\n"
   ]
  },
  {
   "cell_type": "code",
   "execution_count": 109,
   "id": "09f85fa7-2f02-4720-8a3a-4237793e0f96",
   "metadata": {
    "tags": []
   },
   "outputs": [],
   "source": [
    "# search('total revenue of NAF 2023')"
   ]
  },
  {
   "cell_type": "code",
   "execution_count": 67,
   "id": "35ed36cf-6ab5-4fbe-9281-4908c98dc276",
   "metadata": {
    "tags": []
   },
   "outputs": [],
   "source": [
    "search_tool = convert_to_tool(search)"
   ]
  },
  {
   "cell_type": "code",
   "execution_count": 71,
   "id": "20f91f63-ee80-4ae7-92ea-f1802abff940",
   "metadata": {
    "tags": []
   },
   "outputs": [
    {
     "data": {
      "text/plain": [
       "'{\"name\": \"search\", \"description\": \"\\\\n    This is a search function on a pre-exisiting financial knoweldge base, you can use this search function to search for financial information of specific companies you do not know, treat this function as a internal wiki search that you can use\\\\n\\\\n    Args:\\\\n        query (str): input query            \\\\n    \", \"parameters\": {\"properties\": {\"query\": {\"type\": \"str\"}}}}'"
      ]
     },
     "execution_count": 71,
     "metadata": {},
     "output_type": "execute_result"
    }
   ],
   "source": [
    "search_tool.fn_signature"
   ]
  },
  {
   "cell_type": "code",
   "execution_count": 88,
   "id": "823b4e84-f666-43c6-812e-5d00ad674c25",
   "metadata": {
    "tags": []
   },
   "outputs": [
    {
     "data": {
      "text/plain": [
       "'{\"name\": \"get_current_weather\", \"description\": \"\\\\n    Get the current weather in a given location\\\\n    \\\\n    Args:\\\\n        location (str): The city and state, e.g. Madrid, Barcelona\\\\n        unit (str): The unit. It can take two values; \\\\\"Felsius\\\\\", \\\\\"Fahrenheit\\\\\"\\\\n    \", \"parameters\": {\"properties\": {\"location\": {\"type\": \"str\"}, \"unit\": {\"type\": \"str\"}}}}'"
      ]
     },
     "execution_count": 88,
     "metadata": {},
     "output_type": "execute_result"
    }
   ],
   "source": [
    "weather_tool.fn_signature"
   ]
  },
  {
   "cell_type": "code",
   "execution_count": 110,
   "id": "e6b33b36-e399-4c51-9684-e82c9f431708",
   "metadata": {
    "tags": []
   },
   "outputs": [],
   "source": [
    "tool_agent = ToolAgent(tools=[weather_tool, search_tool])\n"
   ]
  },
  {
   "cell_type": "code",
   "execution_count": 111,
   "id": "ca6557b3-2ebb-4032-bf05-4cfcad2d02eb",
   "metadata": {},
   "outputs": [
    {
     "name": "stdout",
     "output_type": "stream",
     "text": [
      "[role: \"user\"\n",
      "parts {\n",
      "  text: \"\\nYou are a function calling and questions answering AI model. You are provided with function signatures within <tools></tools> XML tags.\\nYou may call one or more functions to assist with the user query. Don\\'t make assumptions about what values to plug into functions. Pay special attention to the properties \\'types\\'. You should use those types as in a Python dict.\\n\\nFor each function call return a json object with function name and arguments within <tool_call></tool_call>\\nXML tags as follows:\\n\\n<tool_call>\\n{\\\"name\\\": <function-name>,\\\"arguments\\\": <args-dict>,  \\\"id\\\": <monotonically-increasing-id>}\\n</tool_call>\\n\\nHere are the available tools:\\n\\n<tools>\\n{\\\"name\\\": \\\"get_current_weather\\\", \\\"description\\\": \\\"\\\\n    Get the current weather in a given location\\\\n    \\\\n    Args:\\\\n        location (str): The city and state, e.g. Madrid, Barcelona\\\\n        unit (str): The unit. It can take two values; \\\\\\\"Felsius\\\\\\\", \\\\\\\"Fahrenheit\\\\\\\"\\\\n    \\\", \\\"parameters\\\": {\\\"properties\\\": {\\\"location\\\": {\\\"type\\\": \\\"str\\\"}, \\\"unit\\\": {\\\"type\\\": \\\"str\\\"}}}}{\\\"name\\\": \\\"search\\\", \\\"description\\\": \\\"\\\\n    This is a search function on a pre-exisiting financial knoweldge base, you can use this search function to search for financial information of specific companies you do not know, treat this function as a internal wiki search that you can use\\\\n\\\\n    Args:\\\\n        query (str): input query            \\\\n    \\\", \\\"parameters\\\": {\\\"properties\\\": {\\\"query\\\": {\\\"type\\\": \\\"str\\\"}}}}\\n</tools>\\n\\nif none of the functions is related to the question, answer the question using your own knowledge.\\nif you are provided with observations, you can answer the question based on that observation, that observation is often the executed results from the tools you just selected.\\n\"\n",
      "}\n",
      ", role: \"user\"\n",
      "parts {\n",
      "  text: \"What is total revenue of National Ataxia Foundation in 2023\"\n",
      "}\n",
      "]\n"
     ]
    },
    {
     "data": {
      "text/html": [
       "<span style=\"color: green;\">\n",
       " Parsed Tool is: search</span>"
      ],
      "text/plain": [
       "<IPython.core.display.HTML object>"
      ]
     },
     "metadata": {},
     "output_type": "display_data"
    },
    {
     "data": {
      "text/html": [
       "<span style=\"color: green;\">\n",
       "Tool call dict: \n",
       "{'name': 'search', 'arguments': {'query': 'National Ataxia Foundation 2023 total revenue'}, 'id': 1}</span>"
      ],
      "text/plain": [
       "<IPython.core.display.HTML object>"
      ]
     },
     "metadata": {},
     "output_type": "display_data"
    },
    {
     "data": {
      "text/html": [
       "<span style=\"color: green;\">\n",
       " Result to be added as observation: \n",
       "{\"relevant information in the auditor notes\": \"Revenue\\nConference income 264,816           -                        264,816           \\nEarned income 570,833           -                        570,833           \\nInvestment income 144,002           -                        144,002           \\nTotal Revenue 979,651           -                        979,651           \\nNet Assets Released from Restrictions 975,954           (975,954)          -                        \\nTotal Support and Revenue 3,546,026       638,761           4,184,787       \\nExpenses\\nProgram services\\nResearch 1,574,354       -                        1,574,354       \\nEducation and service 1,146,980       -                        1,146,980       \\nDrug Development Collaborative 1,188,427       -                        1,188,427       \\nTotal Program Services 3,909,761       -                        3,909,761       \\nSupporting services\\nManagement and general 538,079           -                        538,079           \\nFundraising 548,618           -                        548,618           \\nTotal Supporting Services 1,086,697       -                        1,086,697       \\nTotal Expenses 4,996,458       -                        4,996,458       \\nChange in Net Assets (1,450,432)      638,761           (811,671)          \\nBeginning Net Assets 2,384,811       2,041,806       4,426,617       \\nEnding Net Assets 934,379 $        2,680,567$      3,614,946$      2023National Ataxia Foundation\\nStatements of Activities\\nFor the Years Ended December 31, 2023 and 2022102023 2022\\nCash Flows from Operating Activities\\nChange in net assets (811,671) $      266,396 $   \\nAdjustment to reconcile change in net assets\\nto net cash provided by operating activities:\\nRealized and unrealized loss (gain) on investments (75,701)  194,093  \\nAmortization of right of use asset 31,714  30,992  \\nChanges in assets:\\nAccounts receivable 48,893  (23,917)  \\nPrepaid expenses (68,659)  (121,375)  \\nChanges in liabilities:\\nAccounts payable (141,982)  388,029  \\nAccrued payroll and related expenses 5,914 8,434 \\nDeferred revenue 87,519  (150,209)  \\nOperating lease liability (31,549)  (30,374)  \\nNet Cash Provided (Used) by Operating Activities (955,522)  562,069  \\nCash Flows from Investing Activities\\nPurchase of investments (1,283,625)  (1,221,776)  \\nProceeds from sale of investments 1,278,699  1,080,423  \\n(4,926)  (141,353)  \\n(960,448)  420,716  \\n1,969,164  1,548,448  \\n1,008,716$     1,969,164$   Net Cash Used by Investing Activities  \\nChange in Cash and Cash Equivalents\\nBeginning Cash and Cash Equivalents\\nEnding Cash and Cash EquivalentsNational Ataxia Foundation\\nStatements of Cash Flows\\nFor the Years Ended December 31, 2023 and 2022\\nSee Independent Auditor's Report and Notes to the Financial Statements.\\n11 \\n National Ataxia Foundation  \\nNotes to the Financial Statements  \\nDecember 31, 2023  and 2022  \\n \\nNote 1:  Summary of Significant Accounting Policies  \\n \\nA. Nature of ActivitiesPrinting, marketing and multimedia 15,155             118,687             -                        133,842           45,852             29,898             209,592           \\nProfessional services 61,747             27,313               12,140             101,200           100,196           22,859             224,255           \\nResearch grants 740,530           -                          982,290           1,722,820       -                        -                        1,722,820       \\nSupport grants -                        26,520               -                        26,520             -                        -                        26,520             \\n \\nTotal Expenses 1,574,354$     1,146,980 $       1,188,427$      3,909,761$      538,079 $         548,618 $         4,996,458$      National Ataxia Foundation\\nStatements of Functional Expenses\\nFor the Years Ended December 31, 2023 and 2022\\nSupporting Services2023\\nProgram Services\\nSee Independent Auditor's Report and Notes to the Financial Statements.\\n9Drug\\nEducation Development Total Program Management\\nResearch and Service Collaborative Services and General Fundraising Total\\nSalaries and Related Expenses\\nSalaries and wages 421,058 $        301,183 $         151,075 $         873,316 $         97,636 $           225,018 $         1,195,970$      \\nPayroll taxes 30,284             22,016             10,822             63,122             6,467                16,431             86,020\"}</span>"
      ],
      "text/plain": [
       "<IPython.core.display.HTML object>"
      ]
     },
     "metadata": {},
     "output_type": "display_data"
    },
    {
     "name": "stdout",
     "output_type": "stream",
     "text": [
      "The total revenue of the National Ataxia Foundation in 2023 was $979,651.  This includes conference income, earned income, and investment income.  The total support and revenue, which includes net assets released from restrictions, was $4,184,787.\n",
      "\n"
     ]
    }
   ],
   "source": [
    "temp=tool_agent.run(\"What is total revenue of National Ataxia Foundation in 2023\")\n",
    "print(temp)"
   ]
  },
  {
   "cell_type": "code",
   "execution_count": 113,
   "id": "f3d38b3f-11fb-43ee-a738-5cb5c2967a1b",
   "metadata": {
    "tags": []
   },
   "outputs": [
    {
     "name": "stdout",
     "output_type": "stream",
     "text": [
      "[role: \"user\"\n",
      "parts {\n",
      "  text: \"\\nYou are a function calling and questions answering AI model. You are provided with function signatures within <tools></tools> XML tags.\\nYou may call one or more functions to assist with the user query. Don\\'t make assumptions about what values to plug into functions. Pay special attention to the properties \\'types\\'. You should use those types as in a Python dict.\\n\\nFor each function call return a json object with function name and arguments within <tool_call></tool_call>\\nXML tags as follows:\\n\\n<tool_call>\\n{\\\"name\\\": <function-name>,\\\"arguments\\\": <args-dict>,  \\\"id\\\": <monotonically-increasing-id>}\\n</tool_call>\\n\\nHere are the available tools:\\n\\n<tools>\\n{\\\"name\\\": \\\"get_current_weather\\\", \\\"description\\\": \\\"\\\\n    Get the current weather in a given location\\\\n    \\\\n    Args:\\\\n        location (str): The city and state, e.g. Madrid, Barcelona\\\\n        unit (str): The unit. It can take two values; \\\\\\\"Felsius\\\\\\\", \\\\\\\"Fahrenheit\\\\\\\"\\\\n    \\\", \\\"parameters\\\": {\\\"properties\\\": {\\\"location\\\": {\\\"type\\\": \\\"str\\\"}, \\\"unit\\\": {\\\"type\\\": \\\"str\\\"}}}}{\\\"name\\\": \\\"search\\\", \\\"description\\\": \\\"\\\\n    This is a search function on a pre-exisiting financial knoweldge base, you can use this search function to search for financial information of specific companies you do not know, treat this function as a internal wiki search that you can use\\\\n\\\\n    Args:\\\\n        query (str): input query            \\\\n    \\\", \\\"parameters\\\": {\\\"properties\\\": {\\\"query\\\": {\\\"type\\\": \\\"str\\\"}}}}\\n</tools>\\n\\nif none of the functions is related to the question, answer the question using your own knowledge.\\nif you are provided with observations, you can answer the question based on that observation, that observation is often the executed results from the tools you just selected.\\n\"\n",
      "}\n",
      ", role: \"user\"\n",
      "parts {\n",
      "  text: \"What is the weather today in Charlotte\"\n",
      "}\n",
      "]\n"
     ]
    },
    {
     "data": {
      "text/html": [
       "<span style=\"color: green;\">\n",
       " Parsed Tool is: get_current_weather</span>"
      ],
      "text/plain": [
       "<IPython.core.display.HTML object>"
      ]
     },
     "metadata": {},
     "output_type": "display_data"
    },
    {
     "data": {
      "text/html": [
       "<span style=\"color: green;\">\n",
       "Tool call dict: \n",
       "{'name': 'get_current_weather', 'arguments': {'location': 'Charlotte', 'unit': 'Fahrenheit'}, 'id': 1}</span>"
      ],
      "text/plain": [
       "<IPython.core.display.HTML object>"
      ]
     },
     "metadata": {},
     "output_type": "display_data"
    },
    {
     "data": {
      "text/html": [
       "<span style=\"color: green;\">\n",
       " Result to be added as observation: \n",
       "{\"Retrieved data\": \"the temperature is 25 Fahrenheit\"}</span>"
      ],
      "text/plain": [
       "<IPython.core.display.HTML object>"
      ]
     },
     "metadata": {},
     "output_type": "display_data"
    },
    {
     "name": "stdout",
     "output_type": "stream",
     "text": [
      "```tool_code\n",
      "<tool_call>\n",
      "{\"name\": \"get_current_weather\", \"arguments\": {\"location\": \"Charlotte\", \"unit\": \"Fahrenheit\"}, \"id\": 1}\n",
      "</tool_call>\n",
      "```The temperature in Charlotte is 25 Fahrenheit.\n"
     ]
    }
   ],
   "source": [
    "temp=tool_agent.run(\"What is the weather today in Charlotte\")\n",
    "print(temp)"
   ]
  },
  {
   "cell_type": "code",
   "execution_count": 103,
   "id": "f1d15b83-78ee-4d3f-b029-185b8cec2d46",
   "metadata": {
    "tags": []
   },
   "outputs": [
    {
     "name": "stdout",
     "output_type": "stream",
     "text": [
      "[role: \"user\"\n",
      "parts {\n",
      "  text: \"\\nYou are a function calling and questions answering AI model. You are provided with function signatures within <tools></tools> XML tags.\\nYou may call one or more functions to assist with the user query. Don\\'t make assumptions about what values to plug into functions. Pay special attention to the properties \\'types\\'. You should use those types as in a Python dict.\\n\\nFor each function call return a json object with function name and arguments within <tool_call></tool_call>\\nXML tags as follows:\\n\\n<tool_call>\\n{\\\"name\\\": <function-name>,\\\"arguments\\\": <args-dict>,  \\\"id\\\": <monotonically-increasing-id>}\\n</tool_call>\\n\\nHere are the available tools:\\n\\n<tools>\\n{\\\"name\\\": \\\"get_current_weather\\\", \\\"description\\\": \\\"\\\\n    Get the current weather in a given location\\\\n    \\\\n    Args:\\\\n        location (str): The city and state, e.g. Madrid, Barcelona\\\\n        unit (str): The unit. It can take two values; \\\\\\\"Felsius\\\\\\\", \\\\\\\"Fahrenheit\\\\\\\"\\\\n    \\\", \\\"parameters\\\": {\\\"properties\\\": {\\\"location\\\": {\\\"type\\\": \\\"str\\\"}, \\\"unit\\\": {\\\"type\\\": \\\"str\\\"}}}}{\\\"name\\\": \\\"search\\\", \\\"description\\\": \\\"\\\\n    This is a search function on a pre-exisiting financial knoweldge base, you can use this search function to search for financial information of specific companies you do not know, treat this function as a internal wiki search that you can use\\\\n\\\\n    Args:\\\\n        query (str): input query            \\\\n    \\\", \\\"parameters\\\": {\\\"properties\\\": {\\\"query\\\": {\\\"type\\\": \\\"str\\\"}}}}\\n</tools>\\n\\nif none of the functions is related to the question, answer the question using your own knowledge.\\nif you are provided with observations, you may answer the question based on that observation.\\n\"\n",
      "}\n",
      ", role: \"user\"\n",
      "parts {\n",
      "  text: \"What is net assets of Wells Fargo in 2023\"\n",
      "}\n",
      "]\n"
     ]
    },
    {
     "data": {
      "text/html": [
       "<span style=\"color: green;\">\n",
       " Parsed Tool is: search</span>"
      ],
      "text/plain": [
       "<IPython.core.display.HTML object>"
      ]
     },
     "metadata": {},
     "output_type": "display_data"
    },
    {
     "data": {
      "text/html": [
       "<span style=\"color: green;\">\n",
       "Tool call dict: \n",
       "{'name': 'search', 'arguments': {'query': 'net assets of Wells Fargo in 2023'}, 'id': 1}</span>"
      ],
      "text/plain": [
       "<IPython.core.display.HTML object>"
      ]
     },
     "metadata": {},
     "output_type": "display_data"
    },
    {
     "data": {
      "text/html": [
       "<span style=\"color: green;\">\n",
       " Result to be added as observation: \n",
       "{\"relevant information in the auditor notes\": \"102023 2022\\nCash Flows from Operating Activities\\nChange in net assets (811,671) $      266,396 $   \\nAdjustment to reconcile change in net assets\\nto net cash provided by operating activities:\\nRealized and unrealized loss (gain) on investments (75,701)  194,093  \\nAmortization of right of use asset 31,714  30,992  \\nChanges in assets:\\nAccounts receivable 48,893  (23,917)  \\nPrepaid expenses (68,659)  (121,375)  \\nChanges in liabilities:\\nAccounts payable (141,982)  388,029  \\nAccrued payroll and related expenses 5,914 8,434 \\nDeferred revenue 87,519  (150,209)  \\nOperating lease liability (31,549)  (30,374)  \\nNet Cash Provided (Used) by Operating Activities (955,522)  562,069  \\nCash Flows from Investing Activities\\nPurchase of investments (1,283,625)  (1,221,776)  \\nProceeds from sale of investments 1,278,699  1,080,423  \\n(4,926)  (141,353)  \\n(960,448)  420,716  \\n1,969,164  1,548,448  \\n1,008,716$     1,969,164$   Net Cash Used by Investing Activities  \\nChange in Cash and Cash Equivalents\\nBeginning Cash and Cash Equivalents\\nEnding Cash and Cash EquivalentsNational Ataxia Foundation\\nStatements of Cash Flows\\nFor the Years Ended December 31, 2023 and 2022\\nSee Independent Auditor's Report and Notes to the Financial Statements.\\n11 \\n National Ataxia Foundation  \\nNotes to the Financial Statements  \\nDecember 31, 2023  and 2022  \\n \\nNote 1:  Summary of Significant Accounting Policies  \\n \\nA. Nature of ActivitiesGeneral Research (Includes stock) 394,144           385,387           \\nCSO Funding 360,800           450,588           \\nSCA3 Clementz 291,120           340,604           \\nAAC Travel Grant 122,635           138,542           \\nSCA3 13,143             138,333           \\nMSA 3,848               3,848               \\nFriedreich's Fund 2,204               6,279               \\nSCA27B Fund 379 -                        \\nCRC SCA I -                        44,415             \\nMillion $ Research Fund -                        33,810             \\nTotal 2,680,567$     2,041,806$     \\n \\n \\n \\nNote 7: Board Designated Net Assets  \\n \\nBoard designated net assets are designated for the purpose of an operating reserve. Board designated net assets are \\n$396,499 and $420,985 as of December 31, 2023  and 2022 , respectively.  \\n \\nNote 8:  Concentrations  \\n \\nFrom time to time, the Foundation\\u2019s cash balances at financial institutions exceed Federal Deposit Insurance Corporation \\n(\\u201cFDIC\\u201d) insurance limits of $250,000. In the years ending December 31, 2023  and 2022 , the Foundation exceeded that \\nlimit by $721,725  and $ 3,113,980 , respectively. Management does not believe this presents a significant risk to the \\nFoundation.  \\n \\nNote 9: In-kind Contributions  \\n \\nThe Foundation \\u2019s in-kind contributions consist of the following in 2023  and 2022 :  \\n \\n2023 2022Usage in \\nPrograms/Activities Fair Value Techniques\\n121,917 $        - $                     Programs and \\nFundraisingappropriate in the circumstances, but not for the purpose of expressing an opinion on the effectiveness of the  \\nFoundation\\u2019s  internal control. Accordingly, no such opinion is expressed.  \\n \\n\\u2022 Evaluate the appropriateness of accounting policies used and the reasonableness of significant accounting \\nestimates made by management, as well as evaluate the overall presentation of the financial statements.  \\n \\n\\u2022 Conclude whether, in our judgment, there are conditions or events, considered in the aggregate, that raise \\nsubstantial doubt about the Foundation\\u2019s  ability to continue as a going concern for a reasonable period of time.  \\n \\nWe are required to communicate with those charged with governance regarding, among other matters, the planned scope \\nand timing of the audit, significant audit findings, and certain internal control related matters that we identified during t he \\naudit.  \\n \\nAbdo  \\nMinneapolis, Minnesota  \\nApril 24, 2024  \\n4 \\n  \\n \\n \\n \\n \\n \\n \\n \\n \\n \\n \\n \\n \\n \\n \\n \\nFINANCIAL STATEMENTS  \\n52023 2022\\nAssets\\nCurrent Assets\\nCash and cash equivalents 1,008,716$     1,969,164$      \\nAccounts receivable 6,438               55,331             \\nPrepaid expenses 255,729           187,070           \\nTotal Current Assets 1,270,883       2,211,565       \\nNoncurrent Assets\\nRight-of-use asset 57,320 89,034\\nInvestments 2,788,623 2,707,996\\nTotal Noncurrent Assets 2,845,943       2,797,030       \\nTotal Assets 4,116,826$     5,008,595$      \\nLiabilities and Net Assets\\nCurrent Liabilities\"}</span>"
      ],
      "text/plain": [
       "<IPython.core.display.HTML object>"
      ]
     },
     "metadata": {},
     "output_type": "display_data"
    },
    {
     "name": "stdout",
     "output_type": "stream",
     "text": [
      "The provided text pertains to the National Ataxia Foundation, not Wells Fargo.  Therefore, I cannot answer your question about Wells Fargo's net assets using this information.  I need access to Wells Fargo's financial statements to provide that data.\n",
      "\n"
     ]
    }
   ],
   "source": [
    "tool_agent = ToolAgent(tools=[weather_tool, search_tool])\n",
    "temp=tool_agent.run(\"What is net assets of Wells Fargo in 2023\")\n",
    "print(temp)"
   ]
  },
  {
   "cell_type": "code",
   "execution_count": null,
   "id": "6d3023d7-7eb9-473e-895b-4e64cc54cf64",
   "metadata": {},
   "outputs": [],
   "source": []
  }
 ],
 "metadata": {
  "environment": {
   "kernel": "python3",
   "name": "common-cpu.m125",
   "type": "gcloud",
   "uri": "us-docker.pkg.dev/deeplearning-platform-release/gcr.io/base-cpu:m125"
  },
  "kernelspec": {
   "display_name": "Python 3 (Local)",
   "language": "python",
   "name": "python3"
  },
  "language_info": {
   "codemirror_mode": {
    "name": "ipython",
    "version": 3
   },
   "file_extension": ".py",
   "mimetype": "text/x-python",
   "name": "python",
   "nbconvert_exporter": "python",
   "pygments_lexer": "ipython3",
   "version": "3.10.15"
  }
 },
 "nbformat": 4,
 "nbformat_minor": 5
}
