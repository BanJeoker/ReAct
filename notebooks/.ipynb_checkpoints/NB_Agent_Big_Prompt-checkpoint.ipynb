{
 "cells": [
  {
   "cell_type": "code",
   "execution_count": 1,
   "id": "4153ddc4-f3b9-43ba-ac0c-3119414f5b69",
   "metadata": {
    "tags": []
   },
   "outputs": [],
   "source": [
    "import sys\n",
    "import os\n",
    "import importlib\n",
    "\n",
    "sys.path.append(os.path.abspath('../utils'))\n",
    "\n",
    "import big_prompt_agent\n",
    "importlib.reload(big_prompt_agent)\n",
    "from big_prompt_agent import BigPromptAgent"
   ]
  },
  {
   "cell_type": "code",
   "execution_count": 2,
   "id": "a7b310b2-f0f7-4b9c-98ff-1ea9af083c89",
   "metadata": {
    "tags": []
   },
   "outputs": [],
   "source": [
    "agent=BigPromptAgent(pdf_path='../data/naf23.pdf')"
   ]
  },
  {
   "cell_type": "code",
   "execution_count": 3,
   "id": "bf6e0435-bd72-4001-acf1-9396b7e02d6f",
   "metadata": {
    "tags": []
   },
   "outputs": [
    {
     "name": "stdout",
     "output_type": "stream",
     "text": [
      "The provided financial statements show that the National Ataxia Foundation's total support and revenue for the year ended December 31, 2023, was $4,184,787.  This includes $3,205,136 in total support and $979,651 in total revenue.\n"
     ]
    }
   ],
   "source": [
    "answer=agent.run(query=\"what is National Ataxia Foundation's total revenue in 2023?\")\n",
    "print(answer)"
   ]
  },
  {
   "cell_type": "code",
   "execution_count": null,
   "id": "75e896c8-32b9-4d93-a055-54b17b3adc66",
   "metadata": {},
   "outputs": [],
   "source": []
  }
 ],
 "metadata": {
  "environment": {
   "kernel": "python3",
   "name": "common-cpu.m125",
   "type": "gcloud",
   "uri": "us-docker.pkg.dev/deeplearning-platform-release/gcr.io/base-cpu:m125"
  },
  "kernelspec": {
   "display_name": "Python 3 (Local)",
   "language": "python",
   "name": "python3"
  },
  "language_info": {
   "codemirror_mode": {
    "name": "ipython",
    "version": 3
   },
   "file_extension": ".py",
   "mimetype": "text/x-python",
   "name": "python",
   "nbconvert_exporter": "python",
   "pygments_lexer": "ipython3",
   "version": "3.10.15"
  }
 },
 "nbformat": 4,
 "nbformat_minor": 5
}
