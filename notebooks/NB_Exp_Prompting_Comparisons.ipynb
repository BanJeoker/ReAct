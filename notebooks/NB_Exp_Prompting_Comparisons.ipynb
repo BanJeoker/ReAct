{
 "cells": [
  {
   "cell_type": "markdown",
   "id": "fb18d818-dbfd-4570-ad91-313f1c7fedea",
   "metadata": {},
   "source": [
    "# This notebook compares ReAct with One Big Prompt\n",
    "\n",
    "there are three variations to test\n",
    "* one big prompt\n",
    "* ReAct using RAG as the search function\n",
    "* ReAct with search function that returns the whole PDF (Part.from_data('pdf'))"
   ]
  },
  {
   "cell_type": "code",
   "execution_count": null,
   "id": "fd6e19ae-3447-4d40-a1e5-f4a64c70a733",
   "metadata": {},
   "outputs": [],
   "source": []
  }
 ],
 "metadata": {
  "environment": {
   "kernel": "python3",
   "name": "common-cpu.m125",
   "type": "gcloud",
   "uri": "us-docker.pkg.dev/deeplearning-platform-release/gcr.io/base-cpu:m125"
  },
  "kernelspec": {
   "display_name": "Python 3 (Local)",
   "language": "python",
   "name": "python3"
  },
  "language_info": {
   "codemirror_mode": {
    "name": "ipython",
    "version": 3
   },
   "file_extension": ".py",
   "mimetype": "text/x-python",
   "name": "python",
   "nbconvert_exporter": "python",
   "pygments_lexer": "ipython3",
   "version": "3.10.15"
  }
 },
 "nbformat": 4,
 "nbformat_minor": 5
}
