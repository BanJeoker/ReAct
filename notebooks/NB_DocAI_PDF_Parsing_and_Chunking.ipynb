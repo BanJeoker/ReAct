{
 "cells": [
  {
   "cell_type": "markdown",
   "id": "0aae8124-c4a2-41cf-8c60-704390a52b97",
   "metadata": {},
   "source": [
    "# NB_DocAI_PDF_Parsing_and_Chunking\n",
    "this notebook use DocAI to do the following task:\n",
    "\n",
    "* parsing and chunking pdf using DocAI batch_processing\n",
    "* convert the parsed and chunked pdf into JSONL files and saved it back to the bucket\n",
    "* load the JSONL files into text chunks to be used for RAG\n"
   ]
  },
  {
   "cell_type": "code",
   "execution_count": 5,
   "id": "06a03478-876a-4937-bf0d-04640ec3aaeb",
   "metadata": {
    "tags": []
   },
   "outputs": [],
   "source": [
    "import sys\n",
    "import json\n",
    "import os\n",
    "import importlib\n",
    "sys.path.append(os.path.abspath('../utils'))\n",
    "\n",
    "\n",
    "import doc_ai\n",
    "importlib.reload(doc_ai)\n",
    "from doc_ai import batch_process_documents, load_json_from_bucket, convert_json_to_jsonl, read_jsonl_to_json_list\n"
   ]
  },
  {
   "cell_type": "code",
   "execution_count": 2,
   "id": "6b869cc5-9fe8-44d7-9f73-1b166b4ec4e3",
   "metadata": {
    "tags": []
   },
   "outputs": [],
   "source": [
    "import json\n",
    "\n",
    "with open('../config.json', 'r') as file:\n",
    "    ids = json.load(file)\n",
    "project_id = ids['project_id']\n",
    "processor_id = ids['processor_id']\n",
    "bucket_name = ids['bucket_name']"
   ]
  },
  {
   "cell_type": "markdown",
   "id": "b7885247-28d3-4e4a-b65f-cd764f2c69b2",
   "metadata": {},
   "source": [
    "## DocAI chunking and parsing"
   ]
  },
  {
   "cell_type": "code",
   "execution_count": 26,
   "id": "33160a06-216c-47be-812f-c0c19342a001",
   "metadata": {
    "tags": []
   },
   "outputs": [],
   "source": [
    "location = \"us\"\n",
    "gcs_output_uri = \"gs://\"+bucket_name+\"/react_data/output/\" \n",
    "processor_version_id = \"pretrained-layout-parser-v1.0-2024-06-03\" \n",
    "gcs_input_uri = \"gs://\"+bucket_name+\"/react_data/public_auditor_notes/naf23.pdf\" \n",
    "input_mime_type = \"application/pdf\"\n",
    "gcs_input_prefix = \"gs://\"+bucket_name+\"/react_data/public_auditor_notes\""
   ]
  },
  {
   "cell_type": "code",
   "execution_count": 7,
   "id": "b8c8fe07-fcda-4bc3-b2c5-10b6e72090de",
   "metadata": {
    "tags": []
   },
   "outputs": [
    {
     "name": "stdout",
     "output_type": "stream",
     "text": [
      "Waiting for operation projects/984528513541/locations/us/operations/470041917927123113 to complete...\n",
      "success, all processing complete\n"
     ]
    }
   ],
   "source": [
    "batch_process_documents(\n",
    "    project_id=project_id,\n",
    "    location=location,\n",
    "    processor_id=processor_id,\n",
    "    gcs_output_uri=gcs_output_uri,\n",
    "    processor_version_id=processor_version_id,\n",
    "    gcs_input_uri=gcs_input_uri,\n",
    "    input_mime_type=input_mime_type,\n",
    "    chunk_size=800,\n",
    ")"
   ]
  },
  {
   "cell_type": "markdown",
   "id": "06f777c8-aefd-4722-8221-fd85637a9c5b",
   "metadata": {},
   "source": [
    "## Convert JSON to JSONL, save back to the bucket"
   ]
  },
  {
   "cell_type": "code",
   "execution_count": 8,
   "id": "dc35ba46-4d9f-4c13-bdc1-2fe4abff1abb",
   "metadata": {
    "tags": []
   },
   "outputs": [],
   "source": [
    "prefix='react_data/output/470041917927123113/0'"
   ]
  },
  {
   "cell_type": "code",
   "execution_count": 11,
   "id": "a812d403-9bf1-4be5-b6d2-154bd4f3e594",
   "metadata": {},
   "outputs": [
    {
     "name": "stdout",
     "output_type": "stream",
     "text": [
      "Fetching react_data/output/470041917927123113/0/naf23-0.json\n"
     ]
    }
   ],
   "source": [
    "pdf_json=load_json_from_bucket(bucket_name=bucket_name, prefix=prefix)"
   ]
  },
  {
   "cell_type": "code",
   "execution_count": 12,
   "id": "b32b89e1-db55-4947-9e6f-66c58f2dd1e0",
   "metadata": {
    "tags": []
   },
   "outputs": [
    {
     "data": {
      "text/plain": [
       "dict_keys(['chunkedDocument', 'documentLayout', 'shardInfo'])"
      ]
     },
     "execution_count": 12,
     "metadata": {},
     "output_type": "execute_result"
    }
   ],
   "source": [
    "pdf_json.keys()"
   ]
  },
  {
   "cell_type": "code",
   "execution_count": 13,
   "id": "3bd47051-7b17-4419-b745-e8a49474de14",
   "metadata": {
    "tags": []
   },
   "outputs": [
    {
     "data": {
      "text/plain": [
       "dict_keys(['chunks'])"
      ]
     },
     "execution_count": 13,
     "metadata": {},
     "output_type": "execute_result"
    }
   ],
   "source": [
    "pdf_json['chunkedDocument'].keys()"
   ]
  },
  {
   "cell_type": "code",
   "execution_count": 14,
   "id": "b59dce2a-8739-4b54-9398-263c02a3d68c",
   "metadata": {
    "tags": []
   },
   "outputs": [
    {
     "data": {
      "text/plain": [
       "14"
      ]
     },
     "execution_count": 14,
     "metadata": {},
     "output_type": "execute_result"
    }
   ],
   "source": [
    "len(pdf_json['chunkedDocument']['chunks'])"
   ]
  },
  {
   "cell_type": "code",
   "execution_count": 17,
   "id": "f4a38de3-a3a8-4247-a19e-a628f3a1dd83",
   "metadata": {
    "tags": []
   },
   "outputs": [
    {
     "data": {
      "text/plain": [
       "\"# Annual Financial Report\\n\\nNational Ataxia Foundation St. Louis Park, Minnesota For the years ended December 31, 2023 and 2022 Abdo Lighting the path forward Edina Office 5201 Eden Avenue, Ste 250 Edina, MN 55436 P 952.835.9090 Mankato Office 100 Warren Street, Ste 600 Mankato, MN 56001 P 507.625.2727 Scottsdale Office 14500 N Northsight Blvd, Ste 233 Scottsdale, AZ 85260 P 480.864.5579 National Ataxia Foundation Table of Contents December 31, 2023 and 2022 2\\n\\n|-|-|\\n|  | Page No. |\\n| Independent Auditor's Report | 3 |\\n| Financial Statements |  |\\n| Statements of Financial Position | 6 |\\n| Statements of Activities | 7 |\\n| Statements of Functional Expenses | 9 |\\n| Statements of Cash Flows | 11 |\\n| Notes to the Financial Statements | 12 |\\n\\nAbdo\\n\\n## INDEPENDENT AUDITOR'S REPORT\\n\\nBoard of Directors National Ataxia Foundation St. Louis Park, Minnesota\\n\\n## Opinion\\n\\nWe have audited the accompanying financial statements of National Ataxia Foundation (the Foundation), which comprise the statements of financial position as of December 31, 2023 and 2022, and the related statements of activities, functional expenses and cash flows for the years then ended, and the related notes to the financial statements. In our opinion, the financial statements referred to above present fairly, in all material respects, the financial position of the Foundation as of December 31, 2023 and 2022, and the changes in its net assets and its cash flows for the years then ended in accordance with accounting principles generally accepted in the United States of America.\\n\\n## Basis for Opinion\\n\\nWe conducted our audits in accordance with auditing standards generally accepted in the United States of America. Our responsibilities under those standards are further described in the Auditor's Responsibilities for the Audit of the Financial Statements section of our report. We are required to be independent of the Foundation and to meet our other ethical responsibilities in accordance with the relevant ethical requirements relating to our audit. We believe that the audit evidence we have obtained is sufficient and appropriate to provide a basis for our audit opinion.\\n\\n## Responsibilities of Management for the Financial Statements\\n\\nManagement is responsible for the preparation and fair presentation of the financial statements in accordance with accounting principles generally accepted in the United States of America, and for the design, implementation, and maintenance of internal control relevant to the preparation and fair presentation of financial statements that are free from material misstatement, whether due to fraud or error. In preparing the financial statements, management is required to evaluate whether there are conditions or events, considered in the aggregate, that raise substantial doubt about the Foundation's ability to continue as a going concern within one year after the date that the financial statements are available to be issued.\""
      ]
     },
     "metadata": {},
     "output_type": "display_data"
    }
   ],
   "source": [
    "# print a chunk to check first\n",
    "for chunk in pdf_json['chunkedDocument']['chunks']:\n",
    "    display(chunk['content'])\n",
    "    break"
   ]
  },
  {
   "cell_type": "code",
   "execution_count": null,
   "id": "f0754b80-cecc-4351-804b-b3e74901f532",
   "metadata": {},
   "outputs": [],
   "source": []
  },
  {
   "cell_type": "code",
   "execution_count": 23,
   "id": "6eb56cc8-5ce5-4109-8454-2fcad9571f3e",
   "metadata": {
    "tags": []
   },
   "outputs": [
    {
     "name": "stdout",
     "output_type": "stream",
     "text": [
      "number of lines: 14\n"
     ]
    }
   ],
   "source": [
    "output_json_fileName='naf23-0.json'\n",
    "fileNum='470041917927123113'\n",
    "output_jsonl_path='react_data/output/470041917927123113/0/naf23-0.jsonl'\n",
    "\n",
    "convert_json_to_jsonl(pdf_json=pdf_json, fileName=output_json_fileName, fileNum=fileNum, \n",
    "                      bucket_name=bucket_name, output_path=output_jsonl_path)\n",
    "\n",
    "\n"
   ]
  },
  {
   "cell_type": "markdown",
   "id": "0a40bb45-4d83-4b2f-91ae-3bb93d66f4fc",
   "metadata": {},
   "source": [
    "## read from jsonl on gcp to text chunks"
   ]
  },
  {
   "cell_type": "code",
   "execution_count": 3,
   "id": "106fb7f4-8855-4e7a-b6b3-f802f9411258",
   "metadata": {
    "tags": []
   },
   "outputs": [],
   "source": [
    "prefix='react_data/output/470041917927123113/0'"
   ]
  },
  {
   "cell_type": "code",
   "execution_count": 6,
   "id": "4a62d469-6d39-4509-8dc3-e310f5f00fdd",
   "metadata": {
    "tags": []
   },
   "outputs": [
    {
     "name": "stdout",
     "output_type": "stream",
     "text": [
      "current file name: react_data/output/470041917927123113/0/naf23-0.jsonl\n"
     ]
    }
   ],
   "source": [
    "chunk_json_list=read_jsonl_to_json_list(bucket_name, prefix)"
   ]
  },
  {
   "cell_type": "code",
   "execution_count": 7,
   "id": "60b21eda-fe79-4206-a5bb-7a2f4b764af8",
   "metadata": {
    "tags": []
   },
   "outputs": [
    {
     "data": {
      "text/plain": [
       "14"
      ]
     },
     "execution_count": 7,
     "metadata": {},
     "output_type": "execute_result"
    }
   ],
   "source": [
    "len(chunk_json_list)"
   ]
  },
  {
   "cell_type": "code",
   "execution_count": 8,
   "id": "53918561-d77d-4f7b-9b96-05a7f78d39bd",
   "metadata": {
    "tags": []
   },
   "outputs": [
    {
     "data": {
      "text/plain": [
       "{'chunkID': 'c1',\n",
       " 'fileName': 'naf23-0.json',\n",
       " 'fileNum': '470041917927123113',\n",
       " 'pageStart': 1,\n",
       " 'pageEnd': 7,\n",
       " 'content': \"# Annual Financial Report\\n\\nNational Ataxia Foundation St. Louis Park, Minnesota For the years ended December 31, 2023 and 2022 Abdo Lighting the path forward Edina Office 5201 Eden Avenue, Ste 250 Edina, MN 55436 P 952.835.9090 Mankato Office 100 Warren Street, Ste 600 Mankato, MN 56001 P 507.625.2727 Scottsdale Office 14500 N Northsight Blvd, Ste 233 Scottsdale, AZ 85260 P 480.864.5579 National Ataxia Foundation Table of Contents December 31, 2023 and 2022 2\\n\\n|-|-|\\n|  | Page No. |\\n| Independent Auditor's Report | 3 |\\n| Financial Statements |  |\\n| Statements of Financial Position | 6 |\\n| Statements of Activities | 7 |\\n| Statements of Functional Expenses | 9 |\\n| Statements of Cash Flows | 11 |\\n| Notes to the Financial Statements | 12 |\\n\\nAbdo\\n\\n## INDEPENDENT AUDITOR'S REPORT\\n\\nBoard of Directors National Ataxia Foundation St. Louis Park, Minnesota\\n\\n## Opinion\\n\\nWe have audited the accompanying financial statements of National Ataxia Foundation (the Foundation), which comprise the statements of financial position as of December 31, 2023 and 2022, and the related statements of activities, functional expenses and cash flows for the years then ended, and the related notes to the financial statements. In our opinion, the financial statements referred to above present fairly, in all material respects, the financial position of the Foundation as of December 31, 2023 and 2022, and the changes in its net assets and its cash flows for the years then ended in accordance with accounting principles generally accepted in the United States of America.\\n\\n## Basis for Opinion\\n\\nWe conducted our audits in accordance with auditing standards generally accepted in the United States of America. Our responsibilities under those standards are further described in the Auditor's Responsibilities for the Audit of the Financial Statements section of our report. We are required to be independent of the Foundation and to meet our other ethical responsibilities in accordance with the relevant ethical requirements relating to our audit. We believe that the audit evidence we have obtained is sufficient and appropriate to provide a basis for our audit opinion.\\n\\n## Responsibilities of Management for the Financial Statements\\n\\nManagement is responsible for the preparation and fair presentation of the financial statements in accordance with accounting principles generally accepted in the United States of America, and for the design, implementation, and maintenance of internal control relevant to the preparation and fair presentation of financial statements that are free from material misstatement, whether due to fraud or error. In preparing the financial statements, management is required to evaluate whether there are conditions or events, considered in the aggregate, that raise substantial doubt about the Foundation's ability to continue as a going concern within one year after the date that the financial statements are available to be issued.\"}"
      ]
     },
     "execution_count": 8,
     "metadata": {},
     "output_type": "execute_result"
    }
   ],
   "source": [
    "chunk_json_list[0]"
   ]
  },
  {
   "cell_type": "code",
   "execution_count": 9,
   "id": "2deef342-0289-44b8-892b-f4bf2c6dedad",
   "metadata": {
    "tags": []
   },
   "outputs": [],
   "source": [
    "text_chunks=[]\n",
    "for json_obj in chunk_json_list:\n",
    "    text_chunks.append(json_obj['content'])\n"
   ]
  },
  {
   "cell_type": "code",
   "execution_count": 10,
   "id": "cb08de16-9689-470b-96fa-213f014d2194",
   "metadata": {
    "tags": []
   },
   "outputs": [
    {
     "data": {
      "text/plain": [
       "\"# Annual Financial Report\\n\\nNational Ataxia Foundation St. Louis Park, Minnesota For the years ended December 31, 2023 and 2022 Abdo Lighting the path forward Edina Office 5201 Eden Avenue, Ste 250 Edina, MN 55436 P 952.835.9090 Mankato Office 100 Warren Street, Ste 600 Mankato, MN 56001 P 507.625.2727 Scottsdale Office 14500 N Northsight Blvd, Ste 233 Scottsdale, AZ 85260 P 480.864.5579 National Ataxia Foundation Table of Contents December 31, 2023 and 2022 2\\n\\n|-|-|\\n|  | Page No. |\\n| Independent Auditor's Report | 3 |\\n| Financial Statements |  |\\n| Statements of Financial Position | 6 |\\n| Statements of Activities | 7 |\\n| Statements of Functional Expenses | 9 |\\n| Statements of Cash Flows | 11 |\\n| Notes to the Financial Statements | 12 |\\n\\nAbdo\\n\\n## INDEPENDENT AUDITOR'S REPORT\\n\\nBoard of Directors National Ataxia Foundation St. Louis Park, Minnesota\\n\\n## Opinion\\n\\nWe have audited the accompanying financial statements of National Ataxia Foundation (the Foundation), which comprise the statements of financial position as of December 31, 2023 and 2022, and the related statements of activities, functional expenses and cash flows for the years then ended, and the related notes to the financial statements. In our opinion, the financial statements referred to above present fairly, in all material respects, the financial position of the Foundation as of December 31, 2023 and 2022, and the changes in its net assets and its cash flows for the years then ended in accordance with accounting principles generally accepted in the United States of America.\\n\\n## Basis for Opinion\\n\\nWe conducted our audits in accordance with auditing standards generally accepted in the United States of America. Our responsibilities under those standards are further described in the Auditor's Responsibilities for the Audit of the Financial Statements section of our report. We are required to be independent of the Foundation and to meet our other ethical responsibilities in accordance with the relevant ethical requirements relating to our audit. We believe that the audit evidence we have obtained is sufficient and appropriate to provide a basis for our audit opinion.\\n\\n## Responsibilities of Management for the Financial Statements\\n\\nManagement is responsible for the preparation and fair presentation of the financial statements in accordance with accounting principles generally accepted in the United States of America, and for the design, implementation, and maintenance of internal control relevant to the preparation and fair presentation of financial statements that are free from material misstatement, whether due to fraud or error. In preparing the financial statements, management is required to evaluate whether there are conditions or events, considered in the aggregate, that raise substantial doubt about the Foundation's ability to continue as a going concern within one year after the date that the financial statements are available to be issued.\""
      ]
     },
     "execution_count": 10,
     "metadata": {},
     "output_type": "execute_result"
    }
   ],
   "source": [
    "text_chunks[0]"
   ]
  },
  {
   "cell_type": "code",
   "execution_count": null,
   "id": "90ef84ee-143e-430d-903d-36dd58f0d00e",
   "metadata": {},
   "outputs": [],
   "source": []
  }
 ],
 "metadata": {
  "environment": {
   "kernel": "python3",
   "name": "common-cpu.m125",
   "type": "gcloud",
   "uri": "us-docker.pkg.dev/deeplearning-platform-release/gcr.io/base-cpu:m125"
  },
  "kernelspec": {
   "display_name": "Python 3 (Local)",
   "language": "python",
   "name": "python3"
  },
  "language_info": {
   "codemirror_mode": {
    "name": "ipython",
    "version": 3
   },
   "file_extension": ".py",
   "mimetype": "text/x-python",
   "name": "python",
   "nbconvert_exporter": "python",
   "pygments_lexer": "ipython3",
   "version": "3.10.15"
  }
 },
 "nbformat": 4,
 "nbformat_minor": 5
}
