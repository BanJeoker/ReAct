{
 "cells": [
  {
   "cell_type": "markdown",
   "id": "0aae8124-c4a2-41cf-8c60-704390a52b97",
   "metadata": {},
   "source": [
    "# NB_DocAI_PDF_Parsing_and_Chunking\n",
    "this notebook use DocAI to do the following task:\n",
    "\n",
    "* parsing and chunking pdf using DocAI batch_processing\n",
    "* convert the parsed and chunked pdf into JSONL files and saved it back to the bucket\n",
    "* load the JSONL files into text chunks to be used for RAG\n"
   ]
  },
  {
   "cell_type": "code",
   "execution_count": 1,
   "id": "06a03478-876a-4937-bf0d-04640ec3aaeb",
   "metadata": {
    "tags": []
   },
   "outputs": [],
   "source": [
    "import sys\n",
    "import json\n",
    "import os\n",
    "import importlib\n",
    "sys.path.append(os.path.abspath('../utils'))\n",
    "\n",
    "\n",
    "import doc_ai\n",
    "importlib.reload(doc_ai)\n",
    "from doc_ai import batch_process_documents, load_json_from_bucket, convert_json_to_jsonl, read_jsonl_to_json_list\n"
   ]
  },
  {
   "cell_type": "code",
   "execution_count": 2,
   "id": "6b869cc5-9fe8-44d7-9f73-1b166b4ec4e3",
   "metadata": {
    "tags": []
   },
   "outputs": [],
   "source": [
    "import json\n",
    "\n",
    "with open('../config.json', 'r') as file:\n",
    "    ids = json.load(file)\n",
    "project_id = ids['project_id']\n",
    "processor_id = ids['processor_id']\n",
    "bucket_name = ids['bucket_name']"
   ]
  },
  {
   "cell_type": "markdown",
   "id": "b7885247-28d3-4e4a-b65f-cd764f2c69b2",
   "metadata": {},
   "source": [
    "## DocAI chunking and parsing"
   ]
  },
  {
   "cell_type": "code",
   "execution_count": 3,
   "id": "33160a06-216c-47be-812f-c0c19342a001",
   "metadata": {
    "tags": []
   },
   "outputs": [],
   "source": [
    "pdf_name=\"naf23.pdf\"\n",
    "# pdf_name=\"stc.pdf\"\n",
    "\n",
    "location = \"us\"\n",
    "gcs_output_uri = \"gs://\"+bucket_name+\"/react_data/output/\" \n",
    "processor_version_id = \"pretrained-layout-parser-v1.0-2024-06-03\" \n",
    "gcs_input_uri = \"gs://\"+bucket_name+\"/react_data/public_auditor_notes/\"+pdf_name\n",
    "input_mime_type = \"application/pdf\"\n",
    "gcs_input_prefix = \"gs://\"+bucket_name+\"/react_data/public_auditor_notes\""
   ]
  },
  {
   "cell_type": "code",
   "execution_count": 4,
   "id": "b8c8fe07-fcda-4bc3-b2c5-10b6e72090de",
   "metadata": {
    "tags": []
   },
   "outputs": [
    {
     "name": "stdout",
     "output_type": "stream",
     "text": [
      "Waiting for operation projects/984528513541/locations/us/operations/6845398121975108687 to complete...\n",
      "success, all processing complete\n"
     ]
    }
   ],
   "source": [
    "chunk_size=200\n",
    "batch_process_documents(\n",
    "    project_id=project_id,\n",
    "    location=location,\n",
    "    processor_id=processor_id,\n",
    "    gcs_output_uri=gcs_output_uri,\n",
    "    processor_version_id=processor_version_id,\n",
    "    gcs_input_uri=gcs_input_uri,\n",
    "    input_mime_type=input_mime_type,\n",
    "    chunk_size=chunk_size,\n",
    ")"
   ]
  },
  {
   "cell_type": "markdown",
   "id": "06f777c8-aefd-4722-8221-fd85637a9c5b",
   "metadata": {},
   "source": [
    "## Convert JSON to JSONL, save back to the bucket"
   ]
  },
  {
   "cell_type": "code",
   "execution_count": 5,
   "id": "0647e6e1-fa81-4840-ac5f-038a3cd8bff3",
   "metadata": {
    "tags": []
   },
   "outputs": [],
   "source": [
    "fileNum='6845398121975108687'"
   ]
  },
  {
   "cell_type": "code",
   "execution_count": 6,
   "id": "dc35ba46-4d9f-4c13-bdc1-2fe4abff1abb",
   "metadata": {
    "tags": []
   },
   "outputs": [],
   "source": [
    "prefix='react_data/output/'+fileNum+'/0'"
   ]
  },
  {
   "cell_type": "code",
   "execution_count": 7,
   "id": "a812d403-9bf1-4be5-b6d2-154bd4f3e594",
   "metadata": {},
   "outputs": [
    {
     "name": "stdout",
     "output_type": "stream",
     "text": [
      "Fetching react_data/output/6845398121975108687/0/naf23-0.json\n"
     ]
    }
   ],
   "source": [
    "pdf_json=load_json_from_bucket(bucket_name=bucket_name, prefix=prefix)"
   ]
  },
  {
   "cell_type": "code",
   "execution_count": 8,
   "id": "b32b89e1-db55-4947-9e6f-66c58f2dd1e0",
   "metadata": {
    "tags": []
   },
   "outputs": [
    {
     "name": "stdout",
     "output_type": "stream",
     "text": [
      "dict_keys(['chunkedDocument', 'documentLayout', 'shardInfo'])\n",
      "dict_keys(['chunks'])\n",
      "53\n"
     ]
    }
   ],
   "source": [
    "print(pdf_json.keys())\n",
    "print(pdf_json['chunkedDocument'].keys())\n",
    "print(len(pdf_json['chunkedDocument']['chunks']))"
   ]
  },
  {
   "cell_type": "code",
   "execution_count": 9,
   "id": "f4a38de3-a3a8-4247-a19e-a628f3a1dd83",
   "metadata": {
    "tags": []
   },
   "outputs": [
    {
     "data": {
      "text/plain": [
       "\"# Annual Financial Report\\n\\nNational Ataxia Foundation St. Louis Park, Minnesota For the years ended December 31, 2023 and 2022 Abdo Lighting the path forward Edina Office 5201 Eden Avenue, Ste 250 Edina, MN 55436 P 952.835.9090 Mankato Office 100 Warren Street, Ste 600 Mankato, MN 56001 P 507.625.2727 Scottsdale Office 14500 N Northsight Blvd, Ste 233 Scottsdale, AZ 85260 P 480.864.5579 National Ataxia Foundation Table of Contents December 31, 2023 and 2022 2\\n\\n|-|-|\\n|  | Page No. |\\n| Independent Auditor's Report | 3 |\\n| Financial Statements |  |\\n| Statements of Financial Position | 6 |\\n| Statements of Activities | 7 |\\n| Statements of Functional Expenses | 9 |\\n| Statements of Cash Flows | 11 |\\n| Notes to the Financial Statements | 12 |\\n\\nAbdo\\n\\n## INDEPENDENT AUDITOR'S REPORT\\n\\nBoard of Directors National Ataxia Foundation St. Louis Park, Minnesota\""
      ]
     },
     "metadata": {},
     "output_type": "display_data"
    }
   ],
   "source": [
    "# print a chunk to check first\n",
    "for chunk in pdf_json['chunkedDocument']['chunks']:\n",
    "    display(chunk['content'])\n",
    "    break"
   ]
  },
  {
   "cell_type": "code",
   "execution_count": 10,
   "id": "6eb56cc8-5ce5-4109-8454-2fcad9571f3e",
   "metadata": {
    "tags": []
   },
   "outputs": [
    {
     "name": "stdout",
     "output_type": "stream",
     "text": [
      "react_data/output/6845398121975108687/0/naf23-0_ChunkSize200.jsonl\n",
      "number of lines: 53\n"
     ]
    }
   ],
   "source": [
    "# output_json_fileName='stc-0.json'\n",
    "output_json_fileName='naf23-0.json'\n",
    "output_jsonl_path='react_data/output/'+fileNum+'/0/naf23-0_'+'ChunkSize'+str(chunk_size)+'.jsonl'\n",
    "print(output_jsonl_path)\n",
    "convert_json_to_jsonl(pdf_json=pdf_json, fileName=output_json_fileName, fileNum=fileNum, \n",
    "                      bucket_name=bucket_name, output_path=output_jsonl_path)\n",
    "\n",
    "\n"
   ]
  },
  {
   "cell_type": "markdown",
   "id": "0a40bb45-4d83-4b2f-91ae-3bb93d66f4fc",
   "metadata": {},
   "source": [
    "## read from jsonl on gcp to text chunks"
   ]
  },
  {
   "cell_type": "code",
   "execution_count": 31,
   "id": "106fb7f4-8855-4e7a-b6b3-f802f9411258",
   "metadata": {
    "tags": []
   },
   "outputs": [
    {
     "name": "stdout",
     "output_type": "stream",
     "text": [
      "react_data/output/8630714554969055591/0\n"
     ]
    }
   ],
   "source": [
    "prefix='react_data/output/'+fileNum+'/0'\n",
    "print(prefix)"
   ]
  },
  {
   "cell_type": "code",
   "execution_count": 32,
   "id": "4a62d469-6d39-4509-8dc3-e310f5f00fdd",
   "metadata": {
    "tags": []
   },
   "outputs": [
    {
     "name": "stdout",
     "output_type": "stream",
     "text": [
      "current file name: react_data/output/8630714554969055591/0/stc-0_ChunkSize200.jsonl\n"
     ]
    }
   ],
   "source": [
    "chunk_json_list=read_jsonl_to_json_list(bucket_name, prefix)"
   ]
  },
  {
   "cell_type": "code",
   "execution_count": 33,
   "id": "60b21eda-fe79-4206-a5bb-7a2f4b764af8",
   "metadata": {
    "tags": []
   },
   "outputs": [
    {
     "data": {
      "text/plain": [
       "49"
      ]
     },
     "execution_count": 33,
     "metadata": {},
     "output_type": "execute_result"
    }
   ],
   "source": [
    "len(chunk_json_list)"
   ]
  },
  {
   "cell_type": "code",
   "execution_count": 34,
   "id": "53918561-d77d-4f7b-9b96-05a7f78d39bd",
   "metadata": {
    "tags": []
   },
   "outputs": [
    {
     "data": {
      "text/plain": [
       "{'chunkID': 'c1',\n",
       " 'fileName': 'stc-0.json',\n",
       " 'fileNum': '8630714554969055591',\n",
       " 'pageStart': 1,\n",
       " 'pageEnd': 1,\n",
       " 'content': 'TRANSPORT COMMUNITY 2021 Annual Financial Statements'}"
      ]
     },
     "execution_count": 34,
     "metadata": {},
     "output_type": "execute_result"
    }
   ],
   "source": [
    "chunk_json_list[0]"
   ]
  },
  {
   "cell_type": "code",
   "execution_count": 35,
   "id": "2deef342-0289-44b8-892b-f4bf2c6dedad",
   "metadata": {
    "tags": []
   },
   "outputs": [],
   "source": [
    "text_chunks=[]\n",
    "for json_obj in chunk_json_list:\n",
    "    text_chunks.append(json_obj['content'])\n"
   ]
  },
  {
   "cell_type": "code",
   "execution_count": 36,
   "id": "cb08de16-9689-470b-96fa-213f014d2194",
   "metadata": {
    "tags": []
   },
   "outputs": [
    {
     "data": {
      "text/plain": [
       "'TRANSPORT COMMUNITY 2021 Annual Financial Statements'"
      ]
     },
     "execution_count": 36,
     "metadata": {},
     "output_type": "execute_result"
    }
   ],
   "source": [
    "text_chunks[0]"
   ]
  },
  {
   "cell_type": "code",
   "execution_count": 37,
   "id": "90ef84ee-143e-430d-903d-36dd58f0d00e",
   "metadata": {},
   "outputs": [
    {
     "name": "stdout",
     "output_type": "stream",
     "text": [
      "TRANSPORT COMMUNITY 2021 Annual Financial Statements\n",
      "********************************************************************************\n",
      "# STATEMENT OF FINANCIAL POSITION AS AT 31 DECEMBER 2021\n",
      "\n",
      "1 II 1 II LIABILITIES A. Current liabilities 1. Accounts payable Trade payables Payables to staff Legal commitments Accruals Total accounts payables\n",
      "\n",
      "|-|-|-|-|-|\n",
      "|  |  |  | 31 December | 31 December |\n",
      "|  |  |  | 2021 | 2020 |\n",
      "|  | ASSETS | Notes | (in EUR) | (in EUR) |\n",
      "| A. | Current assets |  |  |  |\n",
      "| . | Cash and cash equivalents | 1 | 1,492,643.83 | 3,254,771.91 |\n",
      "| . | Receivables and prepayments | 2 | 1,464.48 |  |\n",
      "|  | Budget contributions receivables |  |  | 185,753.87 |\n",
      "|  | Total current assets |  | 1,494,108.31 | 3,440,525.78 |\n",
      "| B. | Non-current assets |  |  |  |\n",
      "| . | Intangible assets |  |  |  |\n",
      "|  | Software and licences | 3 | 27,116.40 |  |\n",
      "| . | Tangible assets |  |  |  |\n",
      "|  | Infrastructure, plant and equipment | 4 | 4,985.03 | 8,244.43 |\n",
      "|  | Total non-current assets |  | 32,101.43 | 8,244.43 |\n",
      "|  | TOTAL ASSETS |  | 1,526,209.73 | 3,448,770.20 |\n",
      "\n",
      "5 42,986.83 19,488.73 14,940.43 1,144.58 690,745.00 162,260.00 7,750.00 3,000.00\n",
      "********************************************************************************\n",
      "# STATEMENT OF FINANCIAL POSITION AS AT 31 DECEMBER 2021\n",
      "\n",
      "756,422.26 185,893.31 II. Unused budget appropriations 6 Unused appropriations 2019 (Contracting Parties) 1,178,304.41 Unused appropriations 2020 (Contracting Parties) 48,692.50 2,076,328.05 Unused appropriations 2021 (Contracting Parties) 688,993.55 Total unused budget appropriations 13 737,686.05 3,254,632.46 B. Non-current liabilities 1. Investments TOTAL LIABILITIES AND NET ASSETS 7 32,101.43 8,244.43 1,526,209.73 3,448,770.20 TRANSPORT COMMUNITY 2021 Annual Financial Statements\n",
      "********************************************************************************\n",
      "# STATEMENT OF FINANCIAL POSITION AS AT 31 DECEMBER 2021\n",
      "\n",
      "## STATEMENT OF FINANCIAL PERFORMANCE FOR THE YEAR ENDED 31 DECEMBER 2021\n",
      "\n",
      "|-|-|-|-|\n",
      "|  |  | 31 December 2021 | 31 December 2020 |\n",
      "|  | Notes | (in EUR) | (in EUR) |\n",
      "| REVENUE | 8 |  |  |\n",
      "| Budget contributions |  |  |  |\n",
      "| Budget contributions parties |  | 3,000,000.00 | 3,000,000.00 |\n",
      "| In kind contribution from EU |  |  | 10,991.18 |\n",
      "| Legal commitments, prior year |  | 162,260.00 | 55,316.72 |\n",
      "| Legal commitments, current year |  | (690,745.00) | (162,260.00) |\n",
      "| Allocation to investments |  | (37,556.88) | (6,335.22) |\n",
      "| Unused appropriations |  | (688,993.55) | (2,076,328.05) |\n",
      "| Total contributions |  | 1,744,964.57 | 821,384.63 |\n",
      "| TOTAL REVENUE |  | 1,744,964.57 | 821,384.63 |\n",
      "| EXPENSES | 9 |  |  |\n",
      "| Staff costs |  |  |  |\n",
      "| Staff salaries |  | 1,181,775.05 | 660,652.94 |\n",
      "| Health/Pension/Social security contr. Other staff costs |  | 113,169.16 90,895.36 | 49,100.47 964.58 |\n",
      "| Total staff costs |  | 1,385,839.57 | 710,717.99 |\n",
      "| Depreciation and Amortization Expense Fixed assets amortization charge Depreciation and amortization usage |\n",
      "\n",
      "\n",
      "********************************************************************************\n",
      "# STATEMENT OF FINANCIAL POSITION AS AT 31 DECEMBER 2021\n",
      "\n",
      "## STATEMENT OF FINANCIAL PERFORMANCE FOR THE YEAR ENDED 31 DECEMBER 2021\n",
      "\n",
      "|  | 13,699.88 | 16,136.92 |  | (13,699.88) | (16,136.92) |\n",
      "| Total fixed assets amortization |  |  |  |\n",
      "| Operating expenses |  |  |  |\n",
      "| Running costs |  | 350,390.24 | 87,091.87 |\n",
      "| Recruitment costs |  |  | 18,481.07 |\n",
      "| Finance costs |  | 8,734.76 | 5,093.70 |\n",
      "| Total operating expenses |  | 359,125.00 | 110,666.64 |\n",
      "| TOTAL EXPENSES |  | 1,744,964.57 | 821,384.63 |\n",
      "| NET SURPLUS FOR THE PERIOD |  | 0.00 | 0.00 |\n",
      "Indirect Method Cash Flow Statement (paragraph 27(b)) Cash Flow Statement for Year Ended December 31, 2021 TRANSPORT COMMUNITY 2021 Annual Financial Statements\n",
      "********************************************************************************\n",
      "# STATEMENT OF FINANCIAL POSITION AS AT 31 DECEMBER 2021\n",
      "\n",
      "## STATEMENT OF FINANCIAL PERFORMANCE FOR THE YEAR ENDED 31 DECEMBER 2021\n",
      "\n",
      "|-|-|-|\n",
      "|  | 2021 | 2020 |\n",
      "|  | in EUR | in EUR |\n",
      "| CASH FLOWS FROM OPERATING ACTIVITIES |  |  |\n",
      "| Surplus/(deficit) |  |  |\n",
      "| Non-cash movements |  |  |\n",
      "| Depreciation of non-current assets | 13,699.88 | 16,136.92 |\n",
      "| Usage of obligation dedicated to assets | (13,699.88) | (16,136.92) |\n",
      "| Decrease in receivables | 185,753.87 | 927,973.38 |\n",
      "| (Increase)/Decrease in prepayments | (1,464.48) | 648.13 |\n",
      "| Increase/(Decrease) in trade payables and other liabilities | 41,989.71 | (11,076.60) |\n",
      "| Increase in legal commitments | 528,485.00 | 106,943.28 |\n",
      "| Increase/(Decrease) in unused appropriations | (2,516,892.17) | 2,076,328.05 |\n",
      "| Net cash flows from operating activities | (1,762,128.07) | 3,100,816.24 |\n",
      "| CASH FLOWS FROM INVESTING ACTIVITIES Additions of non-current assets | (37,556.88) | (6,335.22) |\n",
      "| Net cash flows from investing activities | (37,556.88) | (6,335.22) |\n",
      "| CASH FLOWS FROM FINANCING ACTIVITIES |  |  |\n",
      "| Grant contribution for assets | 37,556.88 | 6,335.22 |\n",
      "| Net cash flows from financing activities | 37,556.88 | 6,335.22 |\n",
      "\n",
      "\n",
      "********************************************************************************\n",
      "# STATEMENT OF FINANCIAL POSITION AS AT 31 DECEMBER 2021\n",
      "\n",
      "## STATEMENT OF FINANCIAL PERFORMANCE FOR THE YEAR ENDED 31 DECEMBER 2021\n",
      "| Net increase/(decrease) in cash and cash equivalents | (1,762,128.07) | 3,100,816.24 |\n",
      "| Cash and cash equivalents at beginning of period | 3,254,771.91 | 153,955.66 |\n",
      "| Cash and cash equivalents at end of period | 1,492,643.83 | 3,254,771.91 |\n",
      "TRANSPORT COMMUNITY 2021 Annual Financial Statements\n",
      "********************************************************************************\n",
      "# STATEMENT OF FINANCIAL POSITION AS AT 31 DECEMBER 2021\n",
      "\n",
      "## Statement of Changes in Net Assets for the year ended December 31, 2021\n",
      "\n",
      "|-|-|-|-|-|\n",
      "|  | Budget Contributions | Repayments | Accumulated Surpluses / (Deficits) | Total Net Assets |\n",
      "| Balance as at January 1, 2021 | 3,254,632.46 |  |  | 3,254,632.46 |\n",
      "| Contributions | 3,000,000.00 |  |  | 3,000,000.00 |\n",
      "| Allocated budget expenditures Surplus for the period | (2,311,006.45) |  |  | (2,311,006.45) |\n",
      "|  |  | 688,993.55 | 688,993.55 |\n",
      "| Unused appropriations |  |  | (688,993.55) | (688,993.55) |\n",
      "| Repaid unused appropriations |  | (2,436,440.32) |  | (2,436,440.32) |\n",
      "| Offset unused appropriations |  | (769,499.63) |  | (769,499.63) |\n",
      "| Balance as at December 31, 2021 carried forward | 3,943,626.01 | (3,205,939.95) |  | 737,686.05 |\n",
      "\n",
      "J TRANSPORT COMMUNITY 2021 Annual Financial Statements (All figures in EUR) Statement of Comparison of Budget and Actual Amounts for the Year 2020\n",
      "********************************************************************************\n",
      "# STATEMENT OF FINANCIAL POSITION AS AT 31 DECEMBER 2021\n",
      "\n",
      "## Statement of Changes in Net Assets for the year ended December 31, 2021\n",
      "\n",
      "|-|-|-|-|-|-|-|-|-|\n",
      "| Budget Heading / Line | Initial Budget | Budget Transfers | Final Budget | Actual Amounts 2021 on a comparable basis | Legal Commitments 2021 | Actual Amounts 2021 on a comparable basis incl. Legal Commitments | Actual Amounts incl. Legal Commitments (%) | Unused Appropriations 2021 |\n",
      "| 1. Permanent Secretariat |  |  |  |  |  |  |  |  |\n",
      "| 1.1. Human Resources | 1,465,706.00 |  | 1,465,706.00 | 1,385,839.57 |  | 1,385,839.57 | 94.55% | 79,866.43 |\n",
      "| 1.2. Travel costs | 172,560.00 | (17,256.00) | 155,304.00 | 62,679.27 |  | 62,679.27 | 40.36% | 92,624.73 |\n",
      "| 1.3. Office costs, equipment and software | 303,080.00 | 72,419.63 | 375,499.63 | 13,916.52 | 345,685.00 | 359,601.52 | 95.77% | 15,898.11 |\n",
      "| 1.4. Other costs and services | 247,590.00 | (15,163.63) | 232,426.37 | 116,613.94 | 43,560.00 | 160,173.94 | 68.91% | 72,252.43 |\n",
      "| 1.5. STUDIES, Technical Assistance | 400,000.00 | (40,000.00) | 360,000.00 | 8,750.00 | 301,500.00 | 310,250.00 | 86.18% | 49,750.00 |\n",
      "| 2. Ministerial Council |\n",
      "\n",
      "\n",
      "********************************************************************************\n",
      "# STATEMENT OF FINANCIAL POSITION AS AT 31 DECEMBER 2021\n",
      "\n",
      "## Statement of Changes in Net Assets for the year ended December 31, 2021\n",
      "\n",
      "| 60,000.00 |  | 60,000.00 | 17,093.70 |  | 17,093.70 | 28.49% | 42,906.30 | 3. Regional Steering Committee | 20,950.00 |  | 20,950.00 | 6,524.65 |  | 6,524.65 | 31.14% | 14,425.35 |\n",
      "| 4. Technical Committees | 99,100.00 |  | 99,100.00 | 8,843.80 |  | 8,843.80 | 8.92% | 90,256.20 |\n",
      "| 5. Social Forum | 13,300.00 |  | 13,300.00 |  |  |  | 0.00% | 13,300.00 |\n",
      "| Sub Total | 2,782,286.00 |  | 2,782,286.00 | 1,620,261.45 | 690,745.00 | 2,311,006.45 | 83.06% | 471,279.55 |\n",
      "| Budget Reserve (approx. 5%) | 217,714.00 |  | 217,714.00 |  |  |  | 0.00% | 217,714.00 |\n",
      "| TOTAL | 3,000,000.00 |  | 3,000,000.00 | 1,620,261.45 | 690,745.00 | 2,311,006.45 | 77.03% | 688,993.55 |\n",
      "Signature of Director of the Transport Community Permanent Secretariat Belgrade, 31 May 2022 Mr. Matej Zakonjšek PERMANENT SECRETARIAT OF THE TRANSPORT COMMUNITY Notes to the Financial Statements - Fianncial Year 2021\n",
      "********************************************************************************\n",
      "# 1. INCORPORATION AND ACTIVITIES\n",
      "\n",
      "The Transport Community has been established based on the Treaty signed between the European Union (Official Journal of the European Union No. L 278 p.3-53) and the Republic of Albania, Bosnia and Herzegovina, the Republic of North Macedonia, Kosovo.\" (herein refered to as „Kosovo\"), Montenegro and the Republic of Serbia; (hereinafter ,,the South East European Parties\"). All the above-mentioned parties hereinafter referred to together as 'the Contracting Parties'. The aim of the Treaty is the creation of a Transport Community, (hereinafter the TCT\") in the field of road, rail, inland waterway and maritime transport as well as the development of the transport network between the European Union and the South East European Parties.\n",
      "********************************************************************************\n",
      "# 1. INCORPORATION AND ACTIVITIES\n",
      "\n",
      "In order to implement the Treaty provisions and make the Transport Community operational, a Permanent Secretariat (hereinafter 'the Secretariat') has been established. The seat of the Secretariat is in Belgrade as defined by the Agreement between the Transport Community and the Republic of Serbia signed on January 30, 2019. According to this Agreement, the Secretariat enjoys diplomatic privileges and immunities including exemption from any taxes such as VAT. The officials employed by the Secretariat are exempt from personal income taxes and social security contributions. The Organization's register number is 17921304 and its tax identification number is 111305000.\n",
      "********************************************************************************\n",
      "# 2. GENERAL INFORMATION\n",
      "\n",
      "The Transport Community is an international organisation in the field of mobility and transport, consisting of 33 participants - the entire EU and South East European Parties. The TCT is working on the integration of Western Balkans transport markets into the EU, by assisting the South East Europea Parties to adopt and implement the EU legislation in the field of transport and by supporting projects that are connecting Western Balkans regional partners among themselves and with the EU. The Institutions established under the Treaty are the Ministerial Council, the Regional Steering Committee and the Permanent Secretariat. Further bodies established in the course of Treaty implementation are Technical committees, the Budget Committee and Social forum. By the Decision No. 2020/02 of the Regional Steering Committee dated 29 July 2020, Mr. Matej Zakonjšek was appointed as Director of the Permanent Secretariat. Mr. Zakonjšek took office as of 01 August 2020. This designation is without prejudice to positions on status and is in line with UNSCR 1244 (1999) and the ICJ Opinion on the Kosovo declaration of independence. 1 Π PERMANENT SECRETARIAT OF THE TRANSPORT COMMUNITY Notes to the Financial Statements Financial Year 2021\n",
      "********************************************************************************\n",
      "# GENERAL INFORMATION (continued)\n",
      "\n",
      "In order to implement the Treaty provisions and make the Transport Community operational, a Permanent Secretariat has been established. The Permanent Secretariat of the Transport Community is one of the institutions set up under the Treaty and has its seat in Belgrade as per Agreement between the Republic of Serbia and the Transport Community regarding the seat of the Permanent Secretariat of the Transport Community (hereinafter the 'HQ Agreemeny') signed on January 30, 2019 by the Interim Director of The Secretariat and Deputy Prime Minister of Republic of Serbia. The Secretariat has been registered in the Republic of Serbia as a Legal Entity with attributions of privileges and immunities as defined by the HQ Agreement. Its inauguration took place on 13 September 2019. Tax number: ID No.: 111305000; VAT Exempted 17921304 The Secretariat is tasked to: provide administrative support to the Ministerial Council, the Regional Steering Committee, the Technical committees, Budget commitee and the Social Forum; act as a Transport Observatory to monitor the performance of the indicative TEN-T extension of the comprehensive and core networks to the Western Balkans;\n",
      "********************************************************************************\n",
      "# GENERAL INFORMATION (continued)\n",
      "\n",
      "support the implementation of WB6 Parties Connectivity Agenda aiming to improve links within the Western Balkans as well as between the region and the European Union. The establishment and functioning of the Transport Community and the Permanent Secretariat has been secured from the contributions of the European Union (80% of the Budget) and South East European Parties (20% of the Budget). The share of contributions among the South East European Parties is defined by the ANNEX V of the Treaty.\n",
      "********************************************************************************\n",
      "# GENERAL INFORMATION (continued)\n",
      "\n",
      "## 3. SIGNIFICANT ACCOUNTING POLICIES\n",
      "\n",
      "### Legal Basis of Preparation\n",
      "\n",
      "The financial statements comply with International Public Sector Accounting Standards for the accrual basis of accounting. The measurement base applied is historical cost adjusted for revaluations of assets. The financial statements have been prepared on a going concern basis, and the accounting policies have been applied consistently throughout the period. The accounts of the Transport Community are kept in euro based on a calendar year. The agreed Budget for the year 2021 was EUR 3,000,000.00 which needed to be spent for the operational functioning of the Permanent Secretariat, including staff remuneration, recruitment costs, organizing of meetings, running costs, purchase of equipment, studies and technical assistance; as well as the functioning of the other bodies of the TCT. In accordance with the International Public Sector Accounting Standards framework, the accounting treatment for each transaction has to follow the following rules: Understandability, Relevance, Materiality, Reliability, Substance over Form, Prudence, Completeness 2 PERMANENT SECRETARIAT OF THE TRANSPORT COMMUNITY Notes to the Financial Statements Financial Year 2021\n",
      "********************************************************************************\n",
      "# GENERAL INFORMATION (continued)\n",
      "\n",
      "## SIGNIFICANT ACCOUNTING POLICIES (continued)\n",
      "\n",
      "### Tax exemption\n",
      "\n",
      "In accordance with the provisions of Article 24 of the Law on Value Added Tax of the Republic of Serbia, as well as the provisions of Article 19 of the Law on Excise Duties of the Republic of Serbia, in connection with the provisions of Articles 10, 14 and 15.of the Law on Ratification of the Agreement between the Republic of Serbia and the Transport Community on the Headquarters of the Transport Community Permanent Secretariat confirms that the Transport Community Permanent Secretariat is exempt from VAT and excise duties. Officials of the Secretariat (Director, Deputy Directors and all other persons permanently employed in the Secretariat) are exempt from VAT and excise duties for the import of goods, including motor vehicles, for personal or family needs.\n",
      "********************************************************************************\n",
      "# GENERAL INFORMATION (continued)\n",
      "\n",
      "## SIGNIFICANT ACCOUNTING POLICIES (continued)\n",
      "\n",
      "### Tax exemption\n",
      "\n",
      "Import of excise goods (all types of motor gasoline, all types of diesel fuel, liquefied petroleum gas for motor vehicles; alcoholic beverages and tobacco products) into the Republic of Serbia, as well as purchase of excise goods on the local market in the Republic of Serbia without VAT and Excise are predetermined by quotas. The purchase of these products on the local market can be done only in the quantities listed in the Registar issued by the Secretariat, signed by the Director, and then verified in the General Secretariat of the Government of the Republic of Serbia. The Tax Exemption Certificate is valid for a calendar year and was issued on 14.10.2019.\n",
      "********************************************************************************\n",
      "# GENERAL INFORMATION (continued)\n",
      "\n",
      "## Depreciation method\n",
      "\n",
      "Accounting treatment for property, plant and equipment is prescribed in IPSAS 17. The principal issue in accounting for property, plant and equipment are timing of recognition of assets, the determination of their carrying amounts and the depreciation charges to be recognized in relation to them. Depreciation is the systematic allocation of the depreciable amount of an asset over its useful life. The depreciation method used must reflect the pattern in which the asset's future economic benefit of service potential is expected to be consumed by the entity. The depreciation charge for each period should be recognized as an expense. The Transport Community applies the straight-line method of depreciation. For specific classes of assets, the following useful lives are estimated: • Computer software and other intangible assets - 3 years • Computer hardware - 3 years • Electronic devices - 3 years • Technical equipment - 3 years • Furniture - 5 years Assets whose purchase price is below 400 Euros are fully depreciated in the year of purchase.\n",
      "********************************************************************************\n",
      "# GENERAL INFORMATION (continued)\n",
      "\n",
      "## Foreign Currency Transactions\n",
      "\n",
      "The functional currency of the Transport Community is euro and these financial statements are presented in euro. All transactions occurring in other currencies are translated in euro using a InforEuro rate.¹ as published under: https://ec.europa.eu/info/funding-tenders/how-eu-funding-works/information-contractors-and- beneficiaries/exchange-rate-inforeuro en Both realized and unrealized gains and losses resulting from the settlement of such transactions and from the translation at the reporting date of assets and liabilities denominated in currencies other than Transport Community's functional currency are recognized in the Statement of Financial Performance, in the net amount. 7 7 7 1 See https://ec.europa.eu/info/funding-tenders/how-eu-funding-works/information-contractors-and-beneficiaries/exchange-rate- inforeuro_en; the rates indicated are the market rates for penultimate day of the previous month quoted by the European Central Bank or, depending on availability, provided by the delegations or other appropriate sources close to that date 3 7 7 7 PERMANENT SECRETARIAT OF THE TRANSPORT COMMUNITY Notes to the Financial Statements Financial Year 2021\n",
      "********************************************************************************\n",
      "# GENERAL INFORMATION (continued)\n",
      "\n",
      "## SIGNIFICANT ACCOUNTING POLICIES (continued)\n",
      "\n",
      "### Unused commitments\n",
      "\n",
      "Unused commitments are budget contributions which have not been used (paid or invoiced) at the balance sheet date but for which commitments have been entered into in the current year or in prior years; they relate to the future periods and following IPSAS1 may not be shown as expenses.² therefore are accounted as deductions from revenue.\n",
      "********************************************************************************\n",
      "# GENERAL INFORMATION (continued)\n",
      "\n",
      "## SIGNIFICANT ACCOUNTING POLICIES (continued)\n",
      "\n",
      "### Unused budget appropriations\n",
      "\n",
      "Unused budget appropriations (not used and not committed at the end of the financial year) shall be proposed for repayment to the Contracting Parties. The repayment methodology is based on the budget report. The total calculated amount due shall equal/ be reconcilable with the amount of unused appropriations shown in the balance sheet as of 31 December. The table of repayments is subject to audit each year and shall be part of the Auditor's report. 2 They do not meet the definition of expanses as defined by IPSAS1: \"Expenses are decreases in economic benefits or service potential during the reporting period in the form of outflows or consumption of assets or incurrences of liabilities that result in decreases in net assets/equity, other than those relating to distributions to owners\" 4\n",
      "********************************************************************************\n",
      "# GENERAL INFORMATION (continued)\n",
      "\n",
      "## SIGNIFICANT ACCOUNTING POLICIES (continued)\n",
      "\n",
      "### PERMANENT SECRETARIAT OF THE TRANSPORT COMMUNITY Notes to the Financial Statements Financial Year 2021\n",
      "\n",
      "1. NOTES TO THE FINANCIAL STATEMENTSNote 1: Cash and cash equivalentsCash and cash equivalents are financial instruments and defined as current assets. They include cash at hand and deposits held at bank. Cash on hand is held in bank accounts with Raiffeisen Bank A.D. in Belgrade. Transport Community has one bank account in RSD and one bank account in EUR. 7 7 7 7\n",
      "\n",
      "|-|-|-|\n",
      "|  | 31 December 2021 | 31 December 2020 |\n",
      "|  | In EUR | In EUR |\n",
      "| Current RSD account | 1,491,124.42 | 3,857.16 |\n",
      "| Current EUR account | 1,519.41 | 3,250,914.75 |\n",
      "| Total | 1,492,643.83 | 3,254,771.91 |\n",
      "\n",
      "Total amount of cash and cash equivalents as at December 31, 2021 comprises of EUR 1,519.41 on current RSD account and EUR 1,491.42 on current EUR account.Note 2: Receivables and Prepayments\n",
      "********************************************************************************\n",
      "# GENERAL INFORMATION (continued)\n",
      "\n",
      "## SIGNIFICANT ACCOUNTING POLICIES (continued)\n",
      "\n",
      "### PERMANENT SECRETARIAT OF THE TRANSPORT COMMUNITY Notes to the Financial Statements Financial Year 2021\n",
      "\n",
      "Receivables are carried at original amount less write-off. Receivables are written off, when there is objective evidence that Transport Community will not be able to collect all amounts due according to the original terms of receivables. 7\n",
      "\n",
      "|-|-|-|\n",
      "| Budget contributions receivables: | 31 December 2021 In EUR | 31 December 2020 In EUR |\n",
      "| European Commission |  | 169,463.87 |\n",
      "| Albania |  | 16,290.00 |\n",
      "| Other receivables |  |  |\n",
      "| Receivables from staff | 604.79 |  |\n",
      "| Total | 604.79 | 185,753.87 |\n",
      "\n",
      "The other receivable amount includes costs which were recovered from staff members (for example private use of official phones and other costs) 7\n",
      "\n",
      "|-|-|-|\n",
      "|  | 31 December 2021 | 31 December 2020 |\n",
      "|  | In EUR | In EUR |\n",
      "| Prepayments |  |  |\n",
      "| Prepaid expenses | 859.69 |  |\n",
      "| Total: | 859.69 |  |\n",
      "\n",
      "The prepaid expenses include a payment to a supplier for an annual service extending beyond the financial year 2021 (staff related insurance). 7 5 7 L 7\n",
      "********************************************************************************\n",
      "# GENERAL INFORMATION (continued)\n",
      "\n",
      "## SIGNIFICANT ACCOUNTING POLICIES (continued)\n",
      "\n",
      "### PERMANENT SECRETARIAT OF THE TRANSPORT COMMUNITY Notes to the Financial Statements Financial Year 2021\n",
      "\n",
      "า 7\n",
      "********************************************************************************\n",
      "# Note 3: Intangible assets\n",
      "\n",
      "Acquired software and licences are capitalised on the basis of the costs incurred to acquire and bring them to use. These costs are amortised over their estimated useful lives (3 years). Full amortisation in the year of purchaase is applied in case of software and licence costing EUR 400 or less. Costs capitalisable include all directly attributable costs necessary to create, produce and prepare the asset to be capable of operating in the intended manner. Computer software and licences\n",
      "********************************************************************************\n",
      "# Note 3: Intangible assets\n",
      "\n",
      "|-|-|-|\n",
      "|  | 31 December 21 | 31 December 2020 |\n",
      "| Cost: | in EUR | in EUR |\n",
      "| Gross carrying amount 31 December previous year | 3,036.72 |  |\n",
      "| Additions | 36,974.63 | 3,036.72 |\n",
      "| Disposals |  |  |\n",
      "| Gross carrying amount at 31 December current year | 40,011.35 | 3,036.72 |\n",
      "| Accumulated amortization: |  |  |\n",
      "| As at 31 December previous year | 3,036.72 |  |\n",
      "| Depreciation charge for the current year | 9,858.23 | 3,036.72 |\n",
      "| Disposals |  |  |\n",
      "| Accumulated depreciation 31 December current year | 12,894.95 | 3,036.72 |\n",
      "| Net carrying amount: |  |  |\n",
      "| Net carrying amount at 31 December current year | 27,116.40 |  |\n",
      "| Net carrying amount at 31 December previous year |  |  |\n",
      "\n",
      "During 2021 additions made by the Transport Community amounted to EUR 36,974.63 (for 2020: EUR 3,036.72). Total amount of depreciation for 2021 is EUR 9,858.23 (For 2020: EUR 3,036.72). 6\n",
      "********************************************************************************\n",
      "# Note 4: Tangible assets\n",
      "\n",
      "## PERMANENT SECRETARIAT OF THE TRANSPORT COMMUNITY Notes to the Financial Statements Financial Year 2021\n",
      "\n",
      "All items of property, plant and equipment are presented by cost model. Repairs and maintenance are charged to the expenditure account during the financial period in which they incurred. The Transport Community applies the straight-line method of depreciation. For specific classes of assets, the following useful lives are estimated: • Computer hardware - 3 years • Electronic devices - 3 years • Technical equipment - 3 years • Furniture - 5 years Assets whose purchase price is below EUR 400.00 are fully depreciated in the year of purchase. 7 7 7 7 7 7 7 7\n",
      "********************************************************************************\n",
      "# Note 4: Tangible assets\n",
      "\n",
      "## PERMANENT SECRETARIAT OF THE TRANSPORT COMMUNITY Notes to the Financial Statements Financial Year 2021\n",
      "\n",
      "|-|-|\n",
      "| 31 December 2021 | 31 December 2020 |\n",
      "| Infrastructure, plant and equipment |\n",
      "| in EUR | in EUR |\n",
      "| Gross carrying amount 31 December previous year | 22,004.67 | 18,706.17 |\n",
      "| Additions Disposals | 582.25 | 3,298.51 |\n",
      "| Gross carrying amount 31 December current year | 22,586.94 | 22,004.68 |\n",
      "| Accumulated depreciation: |  |  |\n",
      "| As at 31 December previous year | 13,760.26 | 660.08 |\n",
      "| Depreciation charge for the current year | 3,841.65 | 13,100.20 |\n",
      "| Disposals |  |  |\n",
      "| Accumulated depreciation at 31 December current year | 17,601.91 | 13,760.28 |\n",
      "| Net carrying amount at 31 December current year | 4,985,03 | 8,244.40 |\n",
      "| Net carrying amount at 31 December prior year | 8,244,40 | 18,045.67 |\n",
      "\n",
      "During 2021 additions made by the Transport Community amounted to EUR 582.25 (for 2020: EUR 3,298.51). Total amount of depreciation for 2021 is EUR 3,841.65 (For 2020: EUR 13,100.20) 7 7 1 1 1 1 7 1 Π Π\n",
      "********************************************************************************\n",
      "# Note 4: Tangible assets\n",
      "\n",
      "## PERMANENT SECRETARIAT OF THE TRANSPORT COMMUNITY Notes to the Financial Statements Financial Year 2021\n",
      "\n",
      "### Note 5: Account payables\n",
      "\n",
      "|-|-|-|\n",
      "|  | 31 December 2021 | 31 December 2020 |\n",
      "|  | In EUR | In EUR |\n",
      "| Trade payables | 42,986.83 | 19,488.73 |\n",
      "| Staff payables | 14,940.43 | 1,144.58 |\n",
      "| Legal commitments | 690,745.00 | 162,260.00 |\n",
      "| Accruals | 7,750.00 | 3,000.00 |\n",
      "| Total | 756,422.26 | 185,893.31 |\n",
      "\n",
      "Trade payable include invoices received from suppliers for goods and services received by 31 December 2021 but not yet settled at the end of the year. Trade payables in total amout of EUR 42,986.83 are related to office running costs, travel costs, event participation costs etc. Payables to staff include liabilities for reimbursement of official travel expenses and relocation costs.\n",
      "********************************************************************************\n",
      "# Note 4: Tangible assets\n",
      "\n",
      "## PERMANENT SECRETARIAT OF THE TRANSPORT COMMUNITY Notes to the Financial Statements Financial Year 2021\n",
      "\n",
      "### Note 5: Account payables\n",
      "\n",
      "Legal commitments for the financial year 2021 refer to the contractual commitments entered by the Transport Community by 31 December 2021 without having received goods or services by the end of the year. The amount of Legal commitments for 2020 is EUR 690,745.00 which include contracts for: development of Transport Observatory, development of Road Safety Observatory, supply of video teleconferencing system, supply of a vehicle, services for public information campaign, consultancy services, technical assistance for e-freight deployment, technical assistance for e-tolling interoperability, services for development of a website, capacitby building for transport facilitation. The accruals related to the costs for external audit of 2021 Financial Statements.\n",
      "********************************************************************************\n",
      "# Note 6: Unused appropriations\n",
      "\n",
      "|-|-|-|\n",
      "|  | 31 December 2021 | 31 December 2020 |\n",
      "|  | In EUR | In EUR |\n",
      "| Unused appropriations (budget parties) | 737,686.05 | 3,254,632.46 |\n",
      "\n",
      "Unused budget appropriations (not used and not committed at the end of the financial year) are shown as liabilities towards the Contracting Parties. Total amount as at 31 Decemeber 2021 is EUR 737,686.05 representing unused appropriations from the financial year 2019 and 2020 of EUR 48,692.50 and EUR 688,993.55 from Fiscal Year 2021. The Budget Committee has recommended that the unused appropriations belonging to the South East Europe parties to be carried forward as Parties' contributions for the next Year's budget. Whereas the unused appropriations belonging to the Euroepan Union is to be repaid back. The calculation methodology is based on the budget report and made in accordance with the Annex V ('Contribution to the Budget of the Transport Community') of the Treaty. The table of Unused budget appropriations is shown under Note 13.\n",
      "********************************************************************************\n",
      "# Note 6: Unused appropriations\n",
      "\n",
      "## Note 7: Investments\n",
      "\n",
      "Given that the investments in tangible assets were made using the contributions of the Contracting Parties, the net carrying value of the tangible assets is also shown as an investment donations in the amount of EUR32,101.43 The carrying amount as at 31 December 2021 of investments consists of the carrying amount as at January 2021 amounting to EUR 8,244.43 and additions amounting to EUR 37,556.88 that were reduced by depreciation and amortization of EUR 13,699.88 The additions of 2021 include purchases of Enterprise Resource Planning software, other software licence and office equipment. 8\n",
      "********************************************************************************\n",
      "# Note 6: Unused appropriations\n",
      "\n",
      "## Note 8: Revenue\n",
      "\n",
      "|-|-|-|\n",
      "| Contributions | 2021 In EUR | 2020 In EUR |\n",
      "| Budget contributions parties | 3,000,000.00 | 3,000,000.00 |\n",
      "| In kind contribution from EU |  | 10,991.48 |\n",
      "| Allocation to investments | (37,556.88) | (6,335.23) |\n",
      "| Legal commitments, prior year | 162,260.00 | 55,316.72 |\n",
      "| Legal commitments, current year | (690,745.00) | (162,260.00) |\n",
      "| Unused appropriations | (688,993.55) | (2,076,328.05) |\n",
      "| Total contributions: | 1,744,964.57 | 821,384.63 |\n",
      "\n",
      "Amounts shown under budget contribution parties' represent total expected contributions related to the TCT budget of EUR3,000,000.00\n",
      "\n",
      "|-|-|-|\n",
      "| Parties | Contribution share in % | Contributions payable In EUR |\n",
      "| European Union | 80.00% | 2,400,000 |\n",
      "| Republic of Albania | 3.20% | 96,000 |\n",
      "| Bosnia and Herzegovina | 3.55% | 106,500 |\n",
      "| Republic of North Macedonia | 2.88% | 86,400 |\n",
      "| Kosovo | 2.57% | 77,100 |\n",
      "| Montenegro | 2.38% | 71,400 |\n",
      "| Republic of Serbia | 5.42% | 162,600 |\n",
      "| TOTAL | 100% | 3,000,000 |\n",
      "\n",
      "\n",
      "********************************************************************************\n",
      "# Note 6: Unused appropriations\n",
      "\n",
      "## Note 8: Revenue\n",
      "\n",
      "Revenue adjustments are related to the allocation to investments in the amount of EUR 37,556.88 invested in tangible and intangible assets, legal commitments for prior year EUR 162,260.00; legal commitments for the current year in the amount of EUR 690,745.00 (in 2020: EUR 162,260.00) unused appropriations in the amount of EUR 688,993.55 (in 2020: EUR 2,076,328.05). 9 7\n",
      "\n",
      "# Note 9: Expenses\n",
      "********************************************************************************\n",
      "# Staff remuneration\n",
      "\n",
      "|-|-|-|\n",
      "|  | 2021 | 2020 |\n",
      "|  | in EUR | in EUR |\n",
      "| Salaries | 1,181,775.05 | 660,652.94 |\n",
      "| Health/Pension/Social Security contributions | 113,169.16 | 49,100.47 |\n",
      "| Other staff costs | 90,895.36 | 964.58 |\n",
      "| Total | 1,385,839.57 | 710,717.99 |\n",
      "\n",
      "With exception of January 2021, the Permanent Secretariat was fully staffed with 21 employed officials. Staff remuneration costs in the total amount of EUR 1,385,839.57 (In 2020: EUR 710,717.99) include salaries in the amount of EUR 1,181,775.05 (in 2020: EUR 660,652.94); contributions for health and pension contributions in the amount of EUR 113,169.16 (In 2020: EUR 49,100.47). The other staff costs represent expenses for removal and rellocation allowances and costs in accordance with respective rules as adoped by the decision No. 2021/03 of the Regional Steering Commitee.\n",
      "********************************************************************************\n",
      "# Depreciation and amortization expense\n",
      "\n",
      "|-|-|-|\n",
      "|  | 2021 | 2020 |\n",
      "|  | In EUR | In EUR |\n",
      "| Office equipment - Information Technology Hardware | 3,656.16 | 11,825.32 |\n",
      "| Telecommunications equipment | 169.32 | 874.78 |\n",
      "| Other equipment | 16.17 | 400.10 |\n",
      "| Software licences | 9,858.23 | 3,036.72 |\n",
      "| Total | 13,699.88 | 16,136.92 |\n",
      "\n",
      "Depreciation and amortization expense include amortization expenses for Information Technology Hardware (laptops) in the amount of EUR 3,656.16; telecommunications equipment depreciation charge amounted to EUR 169.32; Other equipment EUR 16.17 while amortization costs for software licences amounted to EUR 9,858.23 Finance costs Finance costs in the total amount EUR 8,734.76 include bank charges EUR 8,015.52 (in 2020: EUR 4,757.76), foreign exchange losses EUR 721.28 (in 2020: EUR 335.94), Foreign exchange gains EUR 2.04 (in 2020: EUR 6,65).\n",
      "\n",
      "|-|-|-|\n",
      "|  | 2021 | 2020 |\n",
      "|  | In EUR | In EUR |\n",
      "| Bank charges | 8,015.52 | 4,757.76 |\n",
      "| Foreign exchange losses | 721.28 | 335.94 |\n",
      "| Foreign exchange gains | (2.04) | (6.65) |\n",
      "| Total | 8,734.76 | 5,093.70 |\n",
      "\n",
      "7 7 7 7 10\n",
      "********************************************************************************\n",
      "# PERMANENT SECRETARIAT OF THE TRANSPORT COMMUNITY Notes to the Financial Statements Financial Year 2021\n",
      "\n",
      "7 7 7 7 7 L\n",
      "\n",
      "|-|-|-|\n",
      "| Running costs of the Secretariat | 2021 | 2020 |\n",
      "|  | in EUR | in EUR |\n",
      "| Travel costs | 62,679.27 | 10,665.79 |\n",
      "| Office costs, equipment, and software | 10,859.64 | 4,343.70 |\n",
      "| Other costs and services | 114,139.18 | 72,082.38 |\n",
      "| Recruitment costs |  | 18,481.07 |\n",
      "| Total | 187,678.09 | 105,572.94 |\n",
      "| Studies and Technical Assistance | 2021 | 2020 |\n",
      "|  | in EUR | in EUR |\n",
      "| Studies and Technical Assistance | 130,250.00 |  |\n",
      "| Total | 130,250.00 |  |\n",
      "| Other Transport Community Bodies | 2021 | 2020 |\n",
      "|  | in EUR | in EUR |\n",
      "| Ministerial Council | 17,093.70 |  |\n",
      "| Regional Steering Committee | 6,524.65 |  |\n",
      "| Technical Committee Meetings | 8,843.80 |  |\n",
      "| Social Forum |  |  |\n",
      "| Total | 32,462.15 |  |\n",
      "\n",
      "Expenses arising from the purchase of goods and services are reported on an accrual basis, recognizing expenses when a transaction occurs, rather than when payment is made. L 7\n",
      "********************************************************************************\n",
      "# Note 10: Exchange gain and losses\n",
      "\n",
      "Transport Community realises exchange gains and losses on accounts payable and accounts receivable transactions incurred in currencies other than euro based on exchange rate in effect on the date of the transaction. The net effect of all exchanges gain and losses in 2021 is represented in Note 9 - Expenses (Finance costs). 7 7 1 1 11 1 Π PERMANENT SECRETARIAT OF THE TRANSPORT COMMUNITY Notes to the Financial Statements Financial Year 2021 Note 11: Reconciliation of Statement of Comparison of Budget and Actual Amounts and Statement of Financial Performance (In EUR)\n",
      "********************************************************************************\n",
      "# Note 10: Exchange gain and losses\n",
      "\n",
      "|-|-|-|-|-|\n",
      "| Budget Heading / Line | Actual Amounts Budget Report 2021 | Legal Commitments 2020 | Differences Budget Report vs Financial Statements | Actual Amounts Statement of Financial Performance |\n",
      "|  | (1) | (2) | (3) | (4)=(1)+(2)+(3) |\n",
      "| 1. Permanent Secretariat |  |  |  |  |\n",
      "| 1.1. Human Resources | 1,385,840 |  |  | 1,385,840 |\n",
      "| 1.2. Travel costs | 62,679 |  |  | 62,679 |\n",
      "| 1.3. Office costs, equipment and software | 13,917 | 34,500 | (37,557) | 10,860 |\n",
      "| 1.4. Other costs and services | 116,614 | 6,260 |  | 122,874 |\n",
      "| 1.5. Studies, technical assistance | 8,750 | 121,500 |  | 130,250 |\n",
      "| 2. Ministerial Council | 17,094 |  |  | 17,094 |\n",
      "| 3. Regional Steering Committee | 6,525 |  |  | 6,525 |\n",
      "| 4. Technical Committee Meetings | 8,844 |  |  | 8,844 |\n",
      "| 5. Social Forum |  |  |  |  |\n",
      "| Budget Reserve |  |  |  |  |\n",
      "| TOTAL | 1,620,261 | 162,260 | (37,557) | 1,744,965 |\n",
      "\n",
      "\n",
      "********************************************************************************\n",
      "# Note 10: Exchange gain and losses\n",
      "\n",
      "As required by IPSAS 24, a reconciliation is provided between the actual amounts on a comparable basis as presented in Statement of Comparison of Budget and Actual Amounts and the actual amounts in the Statement of Financial Performance identifying separately any basis, timing and entity differences. Basis differences occur when the approved budget is prepared on a basis other than the full accrual accounting basis. Basis differences include the depreciation of assets and the full recognition of legal commitments.\n",
      "\n",
      "# Column 2: Legal Commitments\n",
      "\n",
      "Through the approval of the Regional Steering Committee, the Permanent Secretariat is allowed to carry over budget appropriations from previous in future in future years for funds that were committed. This column shows the expenses incurred during 2021 which are related to the legal commitments attributable to open commitments at the end of 2020.\n",
      "********************************************************************************\n",
      "# Column 3: Differences between Actual Amounts in the Financial Statement and Actual Budget Amounts\n",
      "\n",
      "Budget basis requires that the capital expenditures are recorded as current year expenses at acquisition costs. Accounting basis requires that these expenditures are capitalized and depreciated over the useful life of the assets. The acquisition costs of additions to the assets in 2021 amount to EUR 37,556.88 12 Note 12: Statement of Budgetary Comparison: Explanation of material differences between the budget and actual amounts (In EUR)\n",
      "\n",
      "|-|-|-|-|-|-|-|\n",
      "| Budget Heading / Line | Final Budget | Actual Amounts 2021 on a comparable basis | Legal Commitments 2021 | Actual Amounts 2021 on a comparable basis incl. Legal Commitments | Actual Amounts incl. Legal Commitments (%) | Unused Appropriations 2021 |\n",
      "| 1. Permanent Secretariat |  |  |  |  |  |  |\n",
      "| 1.1. Human Resources | 1,465,706.00 | 1,385,839.57 |  | 1,385,839.57 | 94.55% | 79,866.43 |\n",
      "\n",
      "One post was vacant for one and half month (January - mid February 2021), and another post was vacant for one month (January 2021). See also Note 9 - Staff Remuneration above. 1.2. Travel costs 62,679.27 40.36%\n",
      "********************************************************************************\n",
      "# Column 3: Differences between Actual Amounts in the Financial Statement and Actual Budget Amounts\n",
      "\n",
      "155,304.00 62,679.27 92,624.73 The low implementation rate of 40.36% is explained by two main factors: a) the COVID-19 pandemic which made impossible to conduct all the planned official travel, and b) the actual travel cost per trip was lower than the planned based costs. Another cost saving factor was that for the destinations in the region frequently private cars of Permanent Secretariat officials were used against a reimbursement rate of EURO.22.22/km. 1.3. Office costs, equipment and software 375,499.63 13,916.52 345,685.00 359,601.52 95.77% 15,898.11 This budget line covers office costs as well as purchasing of equipment such as video teleconferencing system, a motor vehicle, and development of Transport Observatory and the Road Safety Observatory. Most of these costs were contracted by the end of 2021 for which the supply and services are expected in the course of 2022. 1.4. Other costs and services 232,426.37 116,613.94 43,560.00 160,173.94 68.91% Expenses include advertising, communication and visibility; financial costs and audit fees; meeting and conference costs; information technology and 72,252.43\n",
      "********************************************************************************\n",
      "# Column 3: Differences between Actual Amounts in the Financial Statement and Actual Budget Amounts\n",
      "\n",
      "communication costs. The low implementation rate of 68.91% is mainly attributed to the COVID-19 pandemic imposing organizing the meetings, conferences and workshops in hybrid mode with low physical presence of participants. 13 PERMANENT SECRETARIAT OF THE TRANSPORT COMMUNITY Notes to the Financial Statements Financial Year 2021 Note 12: Statement of Budgetary Comparison: Explanation of material differences between the budget and actual amounts (Continued)\n",
      "********************************************************************************\n",
      "# Column 3: Differences between Actual Amounts in the Financial Statement and Actual Budget Amounts\n",
      "\n",
      "|-|\n",
      "| 1.5. Studies, Technical Assistance 360,000.00 8,750.00 301,500.00 310,250.00 86.18% 49,750.00 |\n",
      "| The costs include studies and technical assistance / capacity building for: e-Freight deployment; e-tolling interoperability, capacity building in transport facilitation. The implementation rate below the target of 100% is due to savings in the procurement procedures. 2. Ministerial Council 60,000.00 17,093.70 17,093.70 28.49% Only one Ministerial Council with physical presence was organized as opposed to two planned ones. The 2nd meeting was organized virtually, whereas the one physical meeting took place under the auspices of the Slovenian Presidency in Brdo pri Kranju, Slovenia.    42,906.30 |\n",
      "| 3. Regional Steering Committee 20,950.00 6,524.65 6,524.65 31.14% 14,425.35 |\n",
      "| Not all the planed meetings of the Regional Steering Committee took place with physical presence. All of them were organized in hybrid mode with most of participants joining virtually and thereby incurring budget savings. |\n",
      "| 4. Technical Committees 99,100.00 8,843.80 8,843.80 8.92% 90,256.20 |\n",
      "|  |\n",
      "\n",
      "\n",
      "********************************************************************************\n",
      "# Column 3: Differences between Actual Amounts in the Financial Statement and Actual Budget Amounts\n",
      "\n",
      "Not all the planed meetings of the Technical Committees took place with physical presence. All of them were organized in hybrid mode with most of participants joining virtually and thereby incurring budget savings.\n",
      "| 5. Social Forum 13,300.00 0.00% 13,300.00 |\n",
      "| Due to COVID-19 pandemic, the Social Forum meeting was organized virtually. No costs were incurred. |\n",
      "| SUB TOTAL 2,782,286.00 1,620,261.45 690,745.00 2,311,006.45 83.06% 471,279.55 |\n",
      "| Budget Reserve (approx. 5%) 217,714.00 0.00% 217,714.00 |\n",
      "| TOTAL 3,000,000.00 1,620,261.45 690,745.00 2,311,006.45 77.03% 688,993.55 |\n",
      "14 Note 13: Calculation of unused appropriations and amounts repayable to Contracting Parties (In EUR)\n",
      "********************************************************************************\n",
      "# Column 3: Differences between Actual Amounts in the Financial Statement and Actual Budget Amounts\n",
      "\n",
      "|-|-|-|-|-|-|-|-|\n",
      "| Parties | Contribution share in % 2021 a | 2021 Contributions paid b | 2021 Share of costs c=a^{*}b | 2019 & 2020 Unused Appropriations d | Unused commitments 2020 E | 2021 Unused Appropriations f=b-c+e | TOTAL amounts repayable g=d+f |\n",
      "| European Union | 80.00% | 2,400,000.00 | 1,848,805.16 |  | 43.39 | 551,238.23 | 551,238.23 |\n",
      "| Republic of Albania | 3.20% | 96,000.00 | 73,952.21 | 7,706.52 | 1.74 | 22,049.53 | 29,756.05 |\n",
      "| Bosnia and Herzegovina | 3.55% | 106,500.00 | 82,040.73 | 8,649.25 | 1.93 | 24,461.20 | 33,110.45 |\n",
      "| Republic of North Macedonia | 2.88% | 86,400.00 | 66,556.99 | 7,016.86 | 1.56 | 19,844.58 | 26,861.43 |\n",
      "| Kosovo | 2.57% | 77,100.00 | 59,392.87 | 6,261.57 | 1.39 | 17,708.53 | 23,970.10 |\n",
      "| Montenegro | 2.38% | 71,400.00 | 55,001.95 | 5,798.65 | 1.29 | 16,399.34 | 22,197.99 |\n",
      "| Republic of Serbia | 5.42% | 162,600.00 | 125,256.55 | 13,205.34 | 2.94 | 37,346.39 | 50,551.73 |\n",
      "| TOTAL | 100% | 3,000,000.00 | 2,311,006.45 | 48,638.19 | 54.24 |\n",
      "\n",
      "\n",
      "********************************************************************************\n",
      "# Column 3: Differences between Actual Amounts in the Financial Statement and Actual Budget Amounts\n",
      "\n",
      "| 689,047.79 | 737,686.05 Note 14: Key management personnel The key management personnel (as defined by IPSAS 20) of the Transport Community Permanent Secretariat are the Directory and the Deputy Director. The aggregate remuneration of members of the management and the number of managers determined on a full-time equivalent basis receiving remuneration within this category are:\n",
      "\n",
      "|-|-|-|\n",
      "|  | 2021 | 2020 |\n",
      "| Aggregate remuneration | EUR 206,752.68 | EUR 77,190.00 |\n",
      "|  |  | 2 persons |\n",
      "| Number of persons | 2 persons | Note: During this year one person was employed for 5 months, and one person was |\n",
      "|  |  | employed for 4 months. |\n",
      "\n",
      "15 PERMANENT SECRETARIAT OF THE TRANSPORT COMMUNITY Notes to the Financial Statements Financial Year 2021\n",
      "\n",
      "# Note 15: Events after the reporting date\n",
      "\n",
      "At the date of signing of these accounts no major subsequent events occurred after the reporting date that have come to the attention of the Director and that would have to be recognized in the financial statements.\n",
      "********************************************************************************\n",
      "# Signature of Director of the Transport Community Permanent Secretariat\n",
      "\n",
      "Belgrade 31 May 2022 Mr. Matej Zakonjšek 16 コ\n",
      "********************************************************************************\n"
     ]
    }
   ],
   "source": [
    "for chunk in text_chunks:\n",
    "    print(chunk)\n",
    "    print(\"*\"*80)"
   ]
  },
  {
   "cell_type": "code",
   "execution_count": null,
   "id": "91a31010-4b24-47f5-a744-dded73397fc6",
   "metadata": {},
   "outputs": [],
   "source": []
  }
 ],
 "metadata": {
  "environment": {
   "kernel": "python3",
   "name": "common-cpu.m125",
   "type": "gcloud",
   "uri": "us-docker.pkg.dev/deeplearning-platform-release/gcr.io/base-cpu:m125"
  },
  "kernelspec": {
   "display_name": "Python 3 (Local)",
   "language": "python",
   "name": "python3"
  },
  "language_info": {
   "codemirror_mode": {
    "name": "ipython",
    "version": 3
   },
   "file_extension": ".py",
   "mimetype": "text/x-python",
   "name": "python",
   "nbconvert_exporter": "python",
   "pygments_lexer": "ipython3",
   "version": "3.10.15"
  }
 },
 "nbformat": 4,
 "nbformat_minor": 5
}
