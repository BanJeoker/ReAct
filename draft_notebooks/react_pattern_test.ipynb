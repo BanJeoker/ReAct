{
 "cells": [
  {
   "cell_type": "code",
   "execution_count": 45,
   "id": "ca84a516-af5b-46b7-a42f-44ec724897b5",
   "metadata": {
    "tags": []
   },
   "outputs": [],
   "source": [
    "from vertexai.generative_models import GenerationConfig, GenerativeModel, Content, GenerativeModel, Part  \n",
    "from google.cloud import aiplatform  \n",
    "from IPython.display import Markdown,display,HTML\n",
    "import sys\n",
    "import json\n",
    "import os\n",
    "import importlib\n",
    "import math\n",
    "import html\n",
    "\n",
    "sys.path.append(os.path.abspath('../utils'))\n",
    "\n",
    "import chat_functions\n",
    "importlib.reload(chat_functions)\n",
    "from chat_functions import execute, create_single_text_Content,update_chat_history, ChatHistory  \n",
    "\n",
    "import parser\n",
    "importlib.reload(parser)\n",
    "from parser import extract_tag_content\n",
    "\n",
    "import tool_functions\n",
    "importlib.reload(tool_functions)\n",
    "from tool_functions import get_fn_signature, validate_arguments, Tool, convert_to_tool\n"
   ]
  },
  {
   "cell_type": "code",
   "execution_count": 26,
   "id": "44526158-c0e5-4fab-ab5f-e1a26d863cea",
   "metadata": {
    "tags": []
   },
   "outputs": [],
   "source": [
    "def sum_two_elements(a: int, b: int) -> int:\n",
    "    \"\"\"\n",
    "    Computes the sum of two integers.\n",
    "\n",
    "    Args:\n",
    "        a (int): The first integer to be summed.\n",
    "        b (int): The second integer to be summed.\n",
    "\n",
    "    Returns:\n",
    "        int: The sum of `a` and `b`.\n",
    "    \"\"\"\n",
    "    return a + b\n",
    "\n",
    "\n",
    "def multiply_two_elements(a: int, b: int) -> int:\n",
    "    \"\"\"\n",
    "    Multiplies two integers.\n",
    "\n",
    "    Args:\n",
    "        a (int): The first integer to multiply.\n",
    "        b (int): The second integer to multiply.\n",
    "\n",
    "    Returns:\n",
    "        int: The product of `a` and `b`.\n",
    "    \"\"\"\n",
    "    return a * b\n",
    "\n",
    "def compute_log(x: int) -> float | str:\n",
    "    \"\"\"\n",
    "    Computes the logarithm of an integer `x` with an optional base.\n",
    "\n",
    "    Args:\n",
    "        x (int): The integer value for which the logarithm is computed. Must be greater than 0.\n",
    "\n",
    "    Returns:\n",
    "        float: The logarithm of `x` to the specified `base`.\n",
    "    \"\"\"\n",
    "    if x <= 0:\n",
    "        return \"Logarithm is undefined for values less than or equal to 0.\"\n",
    "    \n",
    "    return math.log(x)\n",
    "\n",
    "\n",
    "sum_two_elements_tool=convert_to_tool(sum_two_elements)\n",
    "multiply_two_elements_tool=convert_to_tool(multiply_two_elements)\n",
    "compute_log_tool=convert_to_tool(compute_log)\n"
   ]
  },
  {
   "cell_type": "code",
   "execution_count": null,
   "id": "125afab9-0f8b-402e-80eb-6a2bee5b301b",
   "metadata": {},
   "outputs": [],
   "source": []
  },
  {
   "cell_type": "markdown",
   "id": "12788961-6e15-4f90-b418-585fd6dbbd63",
   "metadata": {
    "tags": []
   },
   "source": [
    "## Use a very basic prompt to test basic questions first"
   ]
  },
  {
   "cell_type": "code",
   "execution_count": 30,
   "id": "d35fc4c0-2a05-46b0-a46d-759f7b596c4b",
   "metadata": {
    "tags": []
   },
   "outputs": [],
   "source": [
    "REACT_SYSTEM_PROMPT = \"\"\"\n",
    "You operate by running a loop with the following steps: Thought, Action, Observation.\n",
    "You are provided with function signatures within <tools></tools> XML tags.\n",
    "You may call one or more functions to assist with the user query. Don' make assumptions about what values to plug\n",
    "into functions. Pay special attention to the properties 'types'. You should use those types as in a Python dict.\n",
    "\n",
    "For each function call return a json object with function name and arguments within <tool_call></tool_call> XML tags as follows:\n",
    "\n",
    "<tool_call>\n",
    "{\"name\": <function-name>,\"arguments\": <args-dict>, \"id\": <monotonically-increasing-id>}\n",
    "</tool_call>\n",
    "\n",
    "Here are the available tools / actions:\n",
    "\n",
    "<tools>\n",
    "%s\n",
    "</tools>\n",
    "\n",
    "Example session:\n",
    "\n",
    "<question>What's the current temperature in Madrid?</question>\n",
    "<thought>I need to get the current weather in Madrid</thought>\n",
    "<tool_call>{\"name\": \"get_current_weather\",\"arguments\": {\"location\": \"Madrid\", \"unit\": \"celsius\"}, \"id\": 0}</tool_call>\n",
    "\n",
    "You will be called again with this:\n",
    "\n",
    "<observation>{0: {\"Retrieved data\": f\"the temperature is 25 Celsius\"}}</observation>\n",
    "\n",
    "You then output:\n",
    "\n",
    "<answer>The current temperature in Madrid is 25 degrees Celsius</answer>\n",
    "\n",
    "Additional constraints:\n",
    "\n",
    "- If the user asks you something unrelated to any of the tools above, answer freely enclosing your answer with <answer></answer> tags.\n",
    "\"\"\""
   ]
  },
  {
   "cell_type": "code",
   "execution_count": 42,
   "id": "a4ca3ec0-cad1-492e-a0a1-1e60871aa4a0",
   "metadata": {
    "tags": []
   },
   "outputs": [
    {
     "name": "stdout",
     "output_type": "stream",
     "text": [
      "---------------------------------------- iteration 0  ----------------------------------------\n"
     ]
    },
    {
     "data": {
      "text/html": [
       "<span style=\"color: red;\">thought and action\n",
       ":&lt;thought&gt;I will first calculate the sum of 1234 and 5678 using the `sum_two_elements` tool. Then, I will multiply the result by 5 using the `multiply_two_elements` tool. Finally, I will compute the logarithm of the final result using the `compute_log` tool.&lt;/thought&gt;\n",
       "&lt;tool_call&gt;\n",
       "{&quot;name&quot;: &quot;sum_two_elements&quot;, &quot;arguments&quot;: {&quot;a&quot;: 1234, &quot;b&quot;: 5678}, &quot;id&quot;: 1}\n",
       "&lt;/tool_call&gt;\n",
       "</span>"
      ],
      "text/plain": [
       "<IPython.core.display.HTML object>"
      ]
     },
     "metadata": {},
     "output_type": "display_data"
    },
    {
     "data": {
      "text/html": [
       "<span style=\"color: green;\">\n",
       " Parsed Tool is: sum_two_elements</span>"
      ],
      "text/plain": [
       "<IPython.core.display.HTML object>"
      ]
     },
     "metadata": {},
     "output_type": "display_data"
    },
    {
     "data": {
      "text/html": [
       "<span style=\"color: green;\">\n",
       " Tool calling details: \n",
       "{&#x27;name&#x27;: &#x27;sum_two_elements&#x27;, &#x27;arguments&#x27;: {&#x27;a&#x27;: 1234, &#x27;b&#x27;: 5678}, &#x27;id&#x27;: 1}</span>"
      ],
      "text/plain": [
       "<IPython.core.display.HTML object>"
      ]
     },
     "metadata": {},
     "output_type": "display_data"
    },
    {
     "data": {
      "text/html": [
       "<span style=\"color: blue;\">observation: {1: 6912}</span>"
      ],
      "text/plain": [
       "<IPython.core.display.HTML object>"
      ]
     },
     "metadata": {},
     "output_type": "display_data"
    },
    {
     "name": "stdout",
     "output_type": "stream",
     "text": [
      "---------------------------------------- iteration 1  ----------------------------------------\n"
     ]
    },
    {
     "data": {
      "text/html": [
       "<span style=\"color: red;\">thought and action\n",
       ":&lt;thought&gt;Now I will multiply the sum, 6912, by 5 using the `multiply_two_elements` tool.&lt;/thought&gt;\n",
       "&lt;tool_call&gt;\n",
       "{&quot;name&quot;: &quot;multiply_two_elements&quot;, &quot;arguments&quot;: {&quot;a&quot;: 6912, &quot;b&quot;: 5}, &quot;id&quot;: 2}\n",
       "&lt;/tool_call&gt;\n",
       "\n",
       "</span>"
      ],
      "text/plain": [
       "<IPython.core.display.HTML object>"
      ]
     },
     "metadata": {},
     "output_type": "display_data"
    },
    {
     "data": {
      "text/html": [
       "<span style=\"color: green;\">\n",
       " Parsed Tool is: multiply_two_elements</span>"
      ],
      "text/plain": [
       "<IPython.core.display.HTML object>"
      ]
     },
     "metadata": {},
     "output_type": "display_data"
    },
    {
     "data": {
      "text/html": [
       "<span style=\"color: green;\">\n",
       " Tool calling details: \n",
       "{&#x27;name&#x27;: &#x27;multiply_two_elements&#x27;, &#x27;arguments&#x27;: {&#x27;a&#x27;: 6912, &#x27;b&#x27;: 5}, &#x27;id&#x27;: 2}</span>"
      ],
      "text/plain": [
       "<IPython.core.display.HTML object>"
      ]
     },
     "metadata": {},
     "output_type": "display_data"
    },
    {
     "data": {
      "text/html": [
       "<span style=\"color: blue;\">observation: {2: 34560}</span>"
      ],
      "text/plain": [
       "<IPython.core.display.HTML object>"
      ]
     },
     "metadata": {},
     "output_type": "display_data"
    },
    {
     "name": "stdout",
     "output_type": "stream",
     "text": [
      "---------------------------------------- iteration 2  ----------------------------------------\n"
     ]
    },
    {
     "data": {
      "text/html": [
       "<span style=\"color: red;\">thought and action\n",
       ":&lt;thought&gt;Finally, I will calculate the logarithm of the product, 34560, using the `compute_log` tool.&lt;/thought&gt;\n",
       "&lt;tool_call&gt;\n",
       "{&quot;name&quot;: &quot;compute_log&quot;, &quot;arguments&quot;: {&quot;x&quot;: 34560}, &quot;id&quot;: 3}\n",
       "&lt;/tool_call&gt;\n",
       "\n",
       "</span>"
      ],
      "text/plain": [
       "<IPython.core.display.HTML object>"
      ]
     },
     "metadata": {},
     "output_type": "display_data"
    },
    {
     "data": {
      "text/html": [
       "<span style=\"color: green;\">\n",
       " Parsed Tool is: compute_log</span>"
      ],
      "text/plain": [
       "<IPython.core.display.HTML object>"
      ]
     },
     "metadata": {},
     "output_type": "display_data"
    },
    {
     "data": {
      "text/html": [
       "<span style=\"color: green;\">\n",
       " Tool calling details: \n",
       "{&#x27;name&#x27;: &#x27;compute_log&#x27;, &#x27;arguments&#x27;: {&#x27;x&#x27;: 34560}, &#x27;id&#x27;: 3}</span>"
      ],
      "text/plain": [
       "<IPython.core.display.HTML object>"
      ]
     },
     "metadata": {},
     "output_type": "display_data"
    },
    {
     "data": {
      "text/html": [
       "<span style=\"color: blue;\">observation: {3: 10.450452222917992}</span>"
      ],
      "text/plain": [
       "<IPython.core.display.HTML object>"
      ]
     },
     "metadata": {},
     "output_type": "display_data"
    },
    {
     "name": "stdout",
     "output_type": "stream",
     "text": [
      "---------------------------------------- iteration 3  ----------------------------------------\n"
     ]
    },
    {
     "data": {
      "text/html": [
       "<span style=\"color: red;\">thought and action\n",
       ":&lt;thought&gt;I have calculated the sum of 1234 and 5678, multiplied the result by 5, and then taken the logarithm of the final result.&lt;/thought&gt;\n",
       "&lt;answer&gt;The final result is approximately 10.45.&lt;/answer&gt;\n",
       "</span>"
      ],
      "text/plain": [
       "<IPython.core.display.HTML object>"
      ]
     },
     "metadata": {},
     "output_type": "display_data"
    },
    {
     "data": {
      "text/plain": [
       "'The final result is approximately 10.45.'"
      ]
     },
     "execution_count": 42,
     "metadata": {},
     "output_type": "execute_result"
    }
   ],
   "source": [
    "# def print_in_color(text, color):\n",
    "#     escaped_text = html.escape(text)\n",
    "#     display(HTML(f'<span style=\"color: {color};\">{escaped_text}</span>'))\n",
    "    \n",
    "# class ReactAgent:\n",
    "#     \"\"\"\n",
    "#     A class that represents an agent using the ReAct logic that interacts with tools to process\n",
    "#     user inputs, make decisions, and execute tool calls. The agent can run interactive sessions,\n",
    "#     collect tool signatures, and process multiple tool calls in a given round of interaction.\n",
    "#     \"\"\"\n",
    "\n",
    "#     def __init__(self, tools: Tool | list[Tool], system_prompt : str = None, print_system_prompt = False) -> None:  \n",
    "        \n",
    "#         self.client = GenerativeModel(\"gemini-1.5-pro-002\")\n",
    "#         self.tools = tools if isinstance(tools, list) else [tools]\n",
    "#         self.tools_dict = {tool.name: tool for tool in self.tools}\n",
    "#         self.system_prompt =  REACT_SYSTEM_PROMPT % self.add_tool_signatures()\n",
    "#         if system_prompt:\n",
    "#             self.system_prompt=system_prompt\n",
    "#         self.print_system_prompt=print_system_prompt\n",
    "            \n",
    "#     def add_tool_signatures(self) -> str:\n",
    "#         \"\"\"\n",
    "#         Collects the function signatures of all available tools.\n",
    "\n",
    "#         Returns:\n",
    "#             str: A concatenated string of all tool function signatures in JSON format.\n",
    "#         \"\"\"\n",
    "#         return \"\".join([tool.fn_signature for tool in self.tools])\n",
    "    \n",
    "#     def process_tool_calls(self, tool_calls_content: list) -> dict:\n",
    "#         \"\"\"\n",
    "#         Processes each tool call, validates arguments, executes the tools, and collects results.\n",
    "\n",
    "#         Args:\n",
    "#             tool_calls_content (list): List of strings, each representing a tool call in JSON format.\n",
    "\n",
    "#         Returns:\n",
    "#             dict: A dictionary where the keys are tool call IDs and values are the results from the tools.\n",
    "#         \"\"\"\n",
    "#         observations = {}\n",
    "#         # again, there might be several tool_calls\n",
    "        \n",
    "#         for tool_call_str in tool_calls_content:\n",
    "            \n",
    "#             tool_call = json.loads(tool_call_str)\n",
    "\n",
    "#             # get the parased tool name\n",
    "#             tool_name = tool_call[\"name\"]            \n",
    "#             print_in_color(text=f\"\\n Parsed Tool is: {tool_name}\", color='green')\n",
    "            \n",
    "#             # get the actual tool, the physical existing function\n",
    "#             actual_tool = self.tools_dict[tool_name]\n",
    "\n",
    "#             # validate or transform the argument, for example, if the function need integer, we have to manually convert numbers in string returned by LLM to the actual integer        \n",
    "#             validated_tool_call = validate_arguments(\n",
    "#                 tool_call, json.loads(actual_tool.fn_signature)\n",
    "#             )\n",
    "#             print_in_color(text=f\"\\n Tool calling details: \\n{validated_tool_call}\", color='green')\n",
    "\n",
    "#             # run the tool\n",
    "#             result = actual_tool.run(**validated_tool_call[\"arguments\"])\n",
    "            \n",
    "            \n",
    "#             # add the result to the observations map using id, because there might be multiple tools to execute\n",
    "#             observations[validated_tool_call[\"id\"]] = result\n",
    "\n",
    "#         return observations\n",
    "            \n",
    "#     def run(self, user_msg: str, max_iterations: int = 10,) -> str:\n",
    "                        \n",
    "#         chat_history = ChatHistory(\n",
    "#             [\n",
    "#                 create_single_text_Content(\n",
    "#                     text=self.system_prompt,\n",
    "#                     role=\"user\",\n",
    "                    \n",
    "#                 ),\n",
    "#                 create_single_text_Content(\n",
    "#                     text=user_msg, \n",
    "#                     role=\"user\",\n",
    "#                     added_tag='question'\n",
    "#                 ),\n",
    "#             ]\n",
    "#         )\n",
    "        \n",
    "#         if self.print_system_prompt:\n",
    "#             print(self.system_prompt)\n",
    "            \n",
    "#         for i in range(max_iterations):\n",
    "#             print('-'*40,f'iteration {i} ', '-'*40)\n",
    "#             response = execute(self.client, messages=chat_history)   \n",
    "            \n",
    "#             print_in_color(text=\"thought and action\\n:\"+str(response), color='red')     \n",
    "            \n",
    "#             answer = extract_tag_content(str(response), \"answer\")\n",
    "#             if answer.found:\n",
    "#                 return answer.content[0]\n",
    "            \n",
    "#             # thought = extract_tag_content(str(response), \"thought\")\n",
    "#             tool_calls = extract_tag_content(str(response), \"tool_call\")\n",
    "#             update_chat_history(history=chat_history, msg=response, role=\"model\")\n",
    "            \n",
    "#             if tool_calls.found:\n",
    "#                 observations = self.process_tool_calls(tool_calls.content)\n",
    "#                 print_in_color(text=f\"observation: {observations}\", color='blue')\n",
    "#                 update_chat_history(history=chat_history, msg=observations, role=\"user\", added_tag='observation')\n",
    "#             else:\n",
    "#                 temp_msg=\"\\nObservations: tool not found, think again, choose another tool\"\n",
    "#                 print_in_color(text=f\"{temp_msg}\", color='blue')\n",
    "#                 update_chat_history(history=chat_history, msg=temp_msg, role=\"user\", added_tag='observation')\n",
    "                        \n",
    "#         print(\"max iterations reached\")\n",
    "#         return None\n",
    "\n",
    "# agent = ReactAgent(tools=[sum_two_elements_tool, multiply_two_elements_tool, compute_log_tool],\n",
    "#                   print_system_prompt=False)\n",
    "\n",
    "# agent.run(user_msg='I want to calculate the sum of 1234 and 5678 and multiply the result by 5. Then, I want to take the logarithm of this result',\n",
    "#          max_iterations=10)    "
   ]
  },
  {
   "cell_type": "code",
   "execution_count": null,
   "id": "039be327-8bb2-4f74-be19-cb4a4c5bca91",
   "metadata": {},
   "outputs": [],
   "source": []
  },
  {
   "cell_type": "code",
   "execution_count": null,
   "id": "5bceded7-8ab6-4ea1-b696-2af6177c6aed",
   "metadata": {},
   "outputs": [],
   "source": []
  },
  {
   "cell_type": "markdown",
   "id": "b44cb07e-d89d-4c6c-a9b5-4200f85752dd",
   "metadata": {
    "tags": []
   },
   "source": [
    "## Use a very specific financial prompt to test our questions"
   ]
  },
  {
   "cell_type": "markdown",
   "id": "0c61d00e-e4ea-457d-b186-134b7083a7ce",
   "metadata": {},
   "source": [
    "### Load the RAG first"
   ]
  },
  {
   "cell_type": "code",
   "execution_count": null,
   "id": "4dcc94f6-7cea-4f00-b86a-259e8d485ef3",
   "metadata": {
    "tags": []
   },
   "outputs": [],
   "source": [
    "# read the data, create an RAG class on that data, create the search function\n",
    "data_path='../data/naf23.pdf'\n",
    "\n",
    "from PyPDF2 import PdfReader\n",
    "from langchain.text_splitter import RecursiveCharacterTextSplitter\n",
    "from langchain import FAISS\n",
    "from langchain_huggingface import HuggingFaceEmbeddings\n",
    "\n",
    "# create a faiss_vector_store\n",
    "pdf_reader = PdfReader(data_path)\n",
    "text = \"\"\n",
    "chunks=[]\n",
    "\n",
    "# read the pages\n",
    "for page in pdf_reader.pages:\n",
    "    text += page.extract_text()\n",
    "\n",
    "# text_splitter.create_documents() splits the text into chunks, then change each chunk into a 'Document' object of Langchain\n",
    "text_splitter = RecursiveCharacterTextSplitter(chunk_size=1500, chunk_overlap=100)\n",
    "chunks=text_splitter.create_documents([text])\n",
    "\n",
    "# embedding model\n",
    "embedding_model = HuggingFaceEmbeddings(model_name='sentence-transformers/all-mpnet-base-v2')\n",
    "\n",
    "# faiss_vector_store\n",
    "faiss_vector_store = FAISS.from_documents(chunks, embedding_model)\n",
    "\n"
   ]
  },
  {
   "cell_type": "code",
   "execution_count": 46,
   "id": "1f2e71c1-e70e-4e56-bfcf-5033b817ef0e",
   "metadata": {
    "tags": []
   },
   "outputs": [
    {
     "name": "stderr",
     "output_type": "stream",
     "text": [
      "/opt/conda/lib/python3.10/site-packages/transformers/tokenization_utils_base.py:1617: FutureWarning: `clean_up_tokenization_spaces` was not set. It will be set to `True` by default. This behavior will be deprecated in transformers v4.45, and will be then set to `False` by default. For more details check this issue: https://github.com/huggingface/transformers/issues/31884\n",
      "  warnings.warn(\n"
     ]
    }
   ],
   "source": [
    "rag_instance=RAG(pdf_path= data_path, chunking_method='recursive', faiss_vector_store=faiss_vector_store)\n",
    "\n",
    "def search(query : str):\n",
    "    \"\"\"\n",
    "    This is a search function on a pre-exisiting financial knoweldge base, you can use this search function to search for financial information of specific companies you do not know, treat this function as a internal wiki search that you can use\n",
    "\n",
    "    Args:\n",
    "        query (str): input query            \n",
    "    \"\"\"\n",
    "    results = rag_instance.search(query, method='ensemble')\n",
    "    return json.dumps({\"relevant information in the auditor notes\": results})\n",
    "\n",
    "search_tool = convert_to_tool(search)"
   ]
  },
  {
   "cell_type": "code",
   "execution_count": 47,
   "id": "4bfc824c-49ce-4437-bbe6-ba541aacf15a",
   "metadata": {
    "tags": []
   },
   "outputs": [],
   "source": [
    "REACT_SYSTEM_PROMPT = \"\"\"\n",
    "you are a financial expert and an underwriter working for the commerical banking sector of the bank.\n",
    "You operate by running a loop with the following steps: Thought, Action, Observation.\n",
    "You are provided with function signatures within <tools></tools> XML tags.\n",
    "You may call one or more functions to assist with the user query. Don' make assumptions about what values to plug\n",
    "into functions. Pay special attention to the properties 'types'. You should use those types as in a Python dict.\n",
    "\n",
    "For each function call return a json object with function name and arguments within <tool_call></tool_call> XML tags as follows:\n",
    "\n",
    "<tool_call>\n",
    "{\"name\": <function-name>,\"arguments\": <args-dict>, \"id\": <monotonically-increasing-id>}\n",
    "</tool_call>\n",
    "\n",
    "Here are the available tools / actions:\n",
    "\n",
    "<tools>\n",
    "%s\n",
    "</tools>\n",
    "\n",
    "Example session number 1:\n",
    "<question>What's the current temperature in Madrid?</question>\n",
    "<thought>I need to get the current weather in Madrid</thought>\n",
    "<tool_call>{\"name\": \"get_current_weather\",\"arguments\": {\"location\": \"Madrid\", \"unit\": \"celsius\"}, \"id\": 0}</tool_call>\n",
    "You will be called again with this:\n",
    "<observation>{0: {\"Retrieved data\": f\"the temperature is 25 Celsius\"}}</observation>\n",
    "Now you have the answer, you then output:\n",
    "<answer>The current temperature in Madrid is 25 degrees Celsius</answer>\n",
    "\n",
    "Example session number 2:\n",
    "<question>analyze financial performance of Apple Inc in 2023 and potential drivers</question>\n",
    "<thought>to analyse finanial performance, I need to know Apple's total revenue, so I need to search its total revenue in my knowledge base</thought>\n",
    "<tool_call>{\"name\": \"search\",\"arguments\": {\"query\": \"Apple Inc total revenue 2023\"}, \"id\": 0}</tool_call>\n",
    "You will be called again with this:\n",
    "<observation>{0: {\"Retrieved data\": \"Total Revenue 123,456......\"}}</observation>\n",
    "You then run another iteration:\n",
    "<thought>to know the potential drivers, I need to know the buisness compositions of Apple Inc, so I need to search its buisness compositions</answer>\n",
    "<tool_call>{\"name\": \"search\",\"arguments\": {\"query\": \"Apple Inc buisness composition\"}, \"id\": 0}</tool_call>\n",
    "You will be called again with this:\n",
    "<observation>{0: {\"Retrieved data\": \"Apple's business composition includes iPhone: Major revenue driver. Mac: Laptops and desktops......\"}}</observation>\n",
    "Now you have the answer, you then output:\n",
    "<answer>Apple's financial performance is strong with a total revenue of 123,456, which is drived by iPhone sales.</response>\n",
    "\n",
    "\n",
    "Additional constraints:\n",
    "\n",
    "- If the user asks you something unrelated to any of the tools above, answer the question freely using your own knowledge, enclosing your answer with <answer></answer> tags.\n",
    "\"\"\""
   ]
  },
  {
   "cell_type": "code",
   "execution_count": 66,
   "id": "e5b9f12c-2fbe-4c51-bb35-6960745db9ce",
   "metadata": {
    "tags": []
   },
   "outputs": [],
   "source": [
    "def print_in_color(text, color, escape=False):\n",
    "    if escape:\n",
    "        text = html.escape(text)\n",
    "    display(HTML(f'<span style=\"color: {color};\">{text}</span>'))\n",
    "    \n",
    "class ReactAgent:\n",
    "    \"\"\"\n",
    "    A class that represents an agent using the ReAct logic that interacts with tools to process\n",
    "    user inputs, make decisions, and execute tool calls. The agent can run interactive sessions,\n",
    "    collect tool signatures, and process multiple tool calls in a given round of interaction.\n",
    "    \"\"\"\n",
    "\n",
    "    def __init__(self, tools: Tool | list[Tool], system_prompt : str = None, print_system_prompt = False) -> None:  \n",
    "        \n",
    "        self.client = GenerativeModel(\"gemini-1.5-pro-002\")\n",
    "        self.tools = tools if isinstance(tools, list) else [tools]\n",
    "        self.tools_dict = {tool.name: tool for tool in self.tools}\n",
    "        self.system_prompt =  REACT_SYSTEM_PROMPT % self.add_tool_signatures()\n",
    "        if system_prompt:\n",
    "            self.system_prompt=system_prompt\n",
    "        self.print_system_prompt=print_system_prompt\n",
    "            \n",
    "    def add_tool_signatures(self) -> str:\n",
    "        \"\"\"\n",
    "        Collects the function signatures of all available tools.\n",
    "\n",
    "        Returns:\n",
    "            str: A concatenated string of all tool function signatures in JSON format.\n",
    "        \"\"\"\n",
    "        return \"\".join([tool.fn_signature for tool in self.tools])\n",
    "    \n",
    "    def process_tool_calls(self, tool_calls_content: list) -> dict:\n",
    "        \"\"\"\n",
    "        Processes each tool call, validates arguments, executes the tools, and collects results.\n",
    "\n",
    "        Args:\n",
    "            tool_calls_content (list): List of strings, each representing a tool call in JSON format.\n",
    "\n",
    "        Returns:\n",
    "            dict: A dictionary where the keys are tool call IDs and values are the results from the tools.\n",
    "        \"\"\"\n",
    "        observations = {}\n",
    "        # again, there might be several tool_calls\n",
    "        \n",
    "        for tool_call_str in tool_calls_content:\n",
    "            \n",
    "            tool_call = json.loads(tool_call_str)\n",
    "\n",
    "            # get the parased tool name\n",
    "            tool_name = tool_call[\"name\"]            \n",
    "            print_in_color(text=f\"\\n Parsed Tool is: {tool_name}\", color='green')\n",
    "            \n",
    "            # get the actual tool, the physical existing function\n",
    "            actual_tool = self.tools_dict[tool_name]\n",
    "\n",
    "            # validate or transform the argument, for example, if the function need integer, we have to manually convert numbers in string returned by LLM to the actual integer        \n",
    "            validated_tool_call = validate_arguments(\n",
    "                tool_call, json.loads(actual_tool.fn_signature)\n",
    "            )\n",
    "            print_in_color(text=f\"\\n Tool calling details: \\n{validated_tool_call}\", color='green')\n",
    "\n",
    "            # run the tool\n",
    "            result = actual_tool.run(**validated_tool_call[\"arguments\"])\n",
    "            \n",
    "            \n",
    "            # add the result to the observations map using id, because there might be multiple tools to execute\n",
    "            observations[validated_tool_call[\"id\"]] = result\n",
    "\n",
    "        return observations\n",
    "            \n",
    "    def run(self, user_msg: str, max_iterations: int = 10,) -> str:\n",
    "                        \n",
    "        chat_history = ChatHistory(\n",
    "            [\n",
    "                create_single_text_Content(\n",
    "                    text=self.system_prompt,\n",
    "                    role=\"user\",\n",
    "                    \n",
    "                ),\n",
    "                create_single_text_Content(\n",
    "                    text=user_msg, \n",
    "                    role=\"user\",\n",
    "                    added_tag='question'\n",
    "                ),\n",
    "            ]\n",
    "        )\n",
    "        \n",
    "        if self.print_system_prompt:\n",
    "            print(self.system_prompt)\n",
    "            \n",
    "        for i in range(max_iterations):\n",
    "            print('-'*40,f'iteration {i} ', '-'*40)\n",
    "            response = execute(self.client, messages=chat_history)   \n",
    "            \n",
    "            print_in_color(text=\"thought and action\\n:\"+str(response), color='red', escape=True)     \n",
    "            \n",
    "            answer = extract_tag_content(str(response), \"answer\")\n",
    "            if answer.found:\n",
    "                return answer.content[0]\n",
    "            \n",
    "            # thought = extract_tag_content(str(response), \"thought\")\n",
    "            tool_calls = extract_tag_content(str(response), \"tool_call\")\n",
    "            update_chat_history(history=chat_history, msg=response, role=\"model\")\n",
    "            \n",
    "            if tool_calls.found:\n",
    "                observations = self.process_tool_calls(tool_calls.content)\n",
    "                print_in_color(text=f\"observation:\\n\", color='blue')\n",
    "                for observation in observations.values():\n",
    "                    print(observation)\n",
    "                update_chat_history(history=chat_history, msg=observations, role=\"user\", added_tag='observation')\n",
    "            else:\n",
    "                temp_msg=\"\\nObservations: tool not found, think again, choose another tool\"\n",
    "                print_in_color(text=f\"{temp_msg}\", color='blue')\n",
    "                update_chat_history(history=chat_history, msg=temp_msg, role=\"user\", added_tag='observation')\n",
    "                        \n",
    "        print(\"max iterations reached\")\n",
    "        return chat_history\n",
    "\n",
    "agent = ReactAgent(tools=[search_tool, sum_two_elements_tool, multiply_two_elements_tool, compute_log_tool],\n",
    "                  print_system_prompt=False)\n",
    "\n",
    "# agent.run(user_msg='I want to calculate the sum of 1234 and 5678 and multiply the result by 5. Then, I want to take the logarithm of this result',\n",
    "#          max_iterations=10)    \n",
    "# agent.run(user_msg='What is total revenue of National Ataxia Foundation in 2023',\n",
    "#          max_iterations=10) "
   ]
  },
  {
   "cell_type": "markdown",
   "id": "c370b83b-8e35-43c9-9380-0a431d5cc68c",
   "metadata": {
    "tags": []
   },
   "source": [
    "## <font color='red'>results are different each time for Gemini</font>"
   ]
  },
  {
   "cell_type": "code",
   "execution_count": 67,
   "id": "25b371f3-56e2-4ace-a097-10c9f1f18d5f",
   "metadata": {
    "tags": []
   },
   "outputs": [
    {
     "name": "stdout",
     "output_type": "stream",
     "text": [
      "---------------------------------------- iteration 0  ----------------------------------------\n"
     ]
    },
    {
     "data": {
      "text/html": [
       "<span style=\"color: red;\">thought and action\n",
       ":&lt;thought&gt;I need to search for information on the specific organization&#x27;s net assets with donor restrictions for 2022 and 2023 to understand the changes.&lt;/thought&gt;\n",
       "&lt;tool_call&gt;{&quot;name&quot;: &quot;search&quot;,&quot;arguments&quot;: {&quot;query&quot;: &quot;net assets with donor restrictions 2022 and 2023&quot;}, &quot;id&quot;: 0}&lt;/tool_call&gt;\n",
       "</span>"
      ],
      "text/plain": [
       "<IPython.core.display.HTML object>"
      ]
     },
     "metadata": {},
     "output_type": "display_data"
    },
    {
     "data": {
      "text/html": [
       "<span style=\"color: green;\">\n",
       " Parsed Tool is: search</span>"
      ],
      "text/plain": [
       "<IPython.core.display.HTML object>"
      ]
     },
     "metadata": {},
     "output_type": "display_data"
    },
    {
     "data": {
      "text/html": [
       "<span style=\"color: green;\">\n",
       " Tool calling details: \n",
       "{'name': 'search', 'arguments': {'query': 'net assets with donor restrictions 2022 and 2023'}, 'id': 0}</span>"
      ],
      "text/plain": [
       "<IPython.core.display.HTML object>"
      ]
     },
     "metadata": {},
     "output_type": "display_data"
    },
    {
     "data": {
      "text/html": [
       "<span style=\"color: blue;\">observation:\n",
       "</span>"
      ],
      "text/plain": [
       "<IPython.core.display.HTML object>"
      ]
     },
     "metadata": {},
     "output_type": "display_data"
    },
    {
     "name": "stdout",
     "output_type": "stream",
     "text": [
      "{\"relevant information in the auditor notes\": \"Money market funds 10,009             -                        -                        10,009             \\nMutual funds and stocks 1,066,325       -                        -                        1,066,325       \\nTotal Assets at Fair Value 2,788,623$     - $                     - $                     2,788,623$     \\nTotal Assets\\nMeasured at\\nLevel 1 Level 2 Level 3 Fair Value\\nCash 76,823 $          - $                     - $                     76,823 $          \\nMoney market funds 1,642,051       -                        -                        1,642,051       \\nMutual funds and stocks 989,122           -                        -                        989,122           \\nTotal Assets at Fair Value 2,707,996$     - $                     - $                     2,707,996$     Fair Value Measurements Using\\nFair Value Measurements Using2023\\n2022\\n \\n \\nThe Foundation does not have any liabilities measured at fair value on a recurring basis nor any assets or liabilities \\nmeasured at fair value on a nonrecurring basis.   \\n18 \\n National Ataxia Foundation  \\nNotes to the Financial Statements  \\nDecember 31, 2023  and 2022  \\n \\nNote 4: Retirement Plan  \\n \\nThe Foundation maintains a 401k matching plan  for US employees . For December 31, 2023  and 2022 , the amount of 401k \\nmatching expense was $58,358  and $52,528, respectively.  The Foundation also matches deferrals for a Canadian121,917 $        - $                     Programs and \\nFundraising\\nWebsite Services -                        9,870               Management and \\nGeneralEstimated wholesale price of \\nidentical or similar products\\nTotal In-kind Contributions 121,917 $        9,870 $            Google and                         \\nMicrosoft Advertising GrantsEstimated wholesale price of \\nidentical or similar products\\n \\nThe in -kind contributions as of December 31, 2023  and 2022  had no donor restrictions.  \\n  \\n20 \\n National Ataxia Foundation  \\nNotes to the Financial Statements  \\nDecember 31, 2023  and 2022  \\n \\nNote 10: Liquidity and Availability of Financial Assets  \\n \\nFinancial assets available for general expenditure, that is, without donor or other restrictions limiting their use, within o ne \\nyear of the statement of financial position dates, comprise the following:  \\n \\n2023 2022\\nCash and cash equivalents 1,008,716$     1,969,164$     \\nInvestments 2,788,623       2,707,996       \\nAccounts receivable 6,438               55,331             \\nTotal Financial Assets Available Within One Year 3,803,777       4,732,491       \\nLess: Amounts unavailable for general expenditures within one year due to:\\nBoard designated (396,499)          (420,985)          \\nRestricted by donors (2,680,567)      (2,041,806)      \\nFinancial assets available to meet general expenditures within one year 726,711 $        2,269,700$Total Assets 4,116,826$     5,008,595$      \\nLiabilities and Net Assets\\nCurrent Liabilities\\nAccounts payable 298,827 $        440,809 $         \\nAccrued payroll and related expenses 35,140             29,226             \\nDeferred revenue 109,810 22,291\\nOperating lease liability, current portion 32,750 31,548\\nTotal Current Liabilities 476,527           523,874           \\nLong-term Operating Lease Liability, Less Current Portion 25,353 58,104\\nTotal Liabilities 501,880           581,978           \\nNet Assets\\nWithout donor restriction\\nBoard designated - operating reserve 396,499           420,985           \\nUndesignated 537,880           1,963,826       \\nTotal Net Assets Without Donor Restriction 934,379           2,384,811       \\nWith donor restriction 2,680,567       2,041,806       \\nTotal Net Assets 3,614,946       4,426,617       \\nTotal Liabilities and Net Assets 4,116,826$     5,008,595$      National Ataxia Foundation\\nStatements of Financial Position\\nDecember 31, 2023 and 2022\\nSee Independent Auditor's Report and Notes to the Financial Statements.\\n6Without Donor With Donor\\nRestriction Restriction Total\\nSupport and Revenue\\nSupport\\nContributions, memorials and honorariums 1,468,504$     1,614,715$      3,083,219$      \\nIn-kind contributions 121,917           -                        121,917           \\nTotal Support 1,590,421       1,614,715       3,205,136       \\nRevenue\\nConference income 264,816           -                        264,816\"}\n",
      "---------------------------------------- iteration 1  ----------------------------------------\n"
     ]
    },
    {
     "data": {
      "text/html": [
       "<span style=\"color: red;\">thought and action\n",
       ":&lt;thought&gt;The provided financial statement information shows Net Assets With Donor Restrictions of $2,680,567 in 2023 and $2,041,806 in 2022.  This is an increase of $638,761. To determine the cause of this change, I need to look for information related to changes in donor restrictions, such as new restricted contributions or the release of restrictions.  The information provided does not give a detailed breakdown of changes in donor restrictions. I need to search for more specific information explaining the change.&lt;/thought&gt;\n",
       "&lt;tool_call&gt;{&quot;name&quot;: &quot;search&quot;,&quot;arguments&quot;: {&quot;query&quot;: &quot;Explanation of change in net assets with donor restrictions 2022 to 2023&quot;}, &quot;id&quot;: 1}&lt;/tool_call&gt;\n",
       "</span>"
      ],
      "text/plain": [
       "<IPython.core.display.HTML object>"
      ]
     },
     "metadata": {},
     "output_type": "display_data"
    },
    {
     "data": {
      "text/html": [
       "<span style=\"color: green;\">\n",
       " Parsed Tool is: search</span>"
      ],
      "text/plain": [
       "<IPython.core.display.HTML object>"
      ]
     },
     "metadata": {},
     "output_type": "display_data"
    },
    {
     "data": {
      "text/html": [
       "<span style=\"color: green;\">\n",
       " Tool calling details: \n",
       "{'name': 'search', 'arguments': {'query': 'Explanation of change in net assets with donor restrictions 2022 to 2023'}, 'id': 1}</span>"
      ],
      "text/plain": [
       "<IPython.core.display.HTML object>"
      ]
     },
     "metadata": {},
     "output_type": "display_data"
    },
    {
     "data": {
      "text/html": [
       "<span style=\"color: blue;\">observation:\n",
       "</span>"
      ],
      "text/plain": [
       "<IPython.core.display.HTML object>"
      ]
     },
     "metadata": {},
     "output_type": "display_data"
    },
    {
     "name": "stdout",
     "output_type": "stream",
     "text": [
      "{\"relevant information in the auditor notes\": \"of America requires management to make estimates and assumptions that affect certain reported amounts and \\ndisclosures. Accordingly, actual results could differ from those estimates.  \\n \\nD. Cash and Cash Equivalents  \\n \\nFor purposes of the statement of cash flows, the Foundation considers short -term, highly liquid investments and \\ninvestments purchased with a maturity of three months or less to be cash equivalents. The Foundation\\u2019s cash balances \\nheld in bank depositories m ay exceed federally insured limits at times.  \\n \\nE. Investments  \\n \\nInvestments are measured at fair value in the statements of financial position. Investment income or loss (including \\nrealized  and unrealized  gains and losses on investments, interest/ dividends , and investment advisory fees) is included in \\nnon-donor -restricted revenue and support unless the income or loss is restricted by donor or law.  \\n \\nF. Accounts Receivable  \\n \\nAccounts receivable consist primarily of amounts billed for services, are unsecured, and are stated at the amount \\nmanagement expects to collect from outstanding balances. Management provides for probable uncollectible amounts \\nthrough a provision for bad de bt expense and an adjustment to a valuation allowance based on the assessment of the \\ncurrent status of individual accounts.  \\n \\nThe allowance estimate is derived from a review of the Foundation\\u2019s historical losses based on the aging of receivables.121,917 $        - $                     Programs and \\nFundraising\\nWebsite Services -                        9,870               Management and \\nGeneralEstimated wholesale price of \\nidentical or similar products\\nTotal In-kind Contributions 121,917 $        9,870 $            Google and                         \\nMicrosoft Advertising GrantsEstimated wholesale price of \\nidentical or similar products\\n \\nThe in -kind contributions as of December 31, 2023  and 2022  had no donor restrictions.  \\n  \\n20 \\n National Ataxia Foundation  \\nNotes to the Financial Statements  \\nDecember 31, 2023  and 2022  \\n \\nNote 10: Liquidity and Availability of Financial Assets  \\n \\nFinancial assets available for general expenditure, that is, without donor or other restrictions limiting their use, within o ne \\nyear of the statement of financial position dates, comprise the following:  \\n \\n2023 2022\\nCash and cash equivalents 1,008,716$     1,969,164$     \\nInvestments 2,788,623       2,707,996       \\nAccounts receivable 6,438               55,331             \\nTotal Financial Assets Available Within One Year 3,803,777       4,732,491       \\nLess: Amounts unavailable for general expenditures within one year due to:\\nBoard designated (396,499)          (420,985)          \\nRestricted by donors (2,680,567)      (2,041,806)      \\nFinancial assets available to meet general expenditures within one year 726,711 $        2,269,700$Money market funds 10,009             -                        -                        10,009             \\nMutual funds and stocks 1,066,325       -                        -                        1,066,325       \\nTotal Assets at Fair Value 2,788,623$     - $                     - $                     2,788,623$     \\nTotal Assets\\nMeasured at\\nLevel 1 Level 2 Level 3 Fair Value\\nCash 76,823 $          - $                     - $                     76,823 $          \\nMoney market funds 1,642,051       -                        -                        1,642,051       \\nMutual funds and stocks 989,122           -                        -                        989,122           \\nTotal Assets at Fair Value 2,707,996$     - $                     - $                     2,707,996$     Fair Value Measurements Using\\nFair Value Measurements Using2023\\n2022\\n \\n \\nThe Foundation does not have any liabilities measured at fair value on a recurring basis nor any assets or liabilities \\nmeasured at fair value on a nonrecurring basis.   \\n18 \\n National Ataxia Foundation  \\nNotes to the Financial Statements  \\nDecember 31, 2023  and 2022  \\n \\nNote 4: Retirement Plan  \\n \\nThe Foundation maintains a 401k matching plan  for US employees . For December 31, 2023  and 2022 , the amount of 401k \\nmatching expense was $58,358  and $52,528, respectively.  The Foundation also matches deferrals for a Canadian\"}\n",
      "---------------------------------------- iteration 2  ----------------------------------------\n"
     ]
    },
    {
     "data": {
      "text/html": [
       "<span style=\"color: red;\">thought and action\n",
       ":&lt;thought&gt;Unfortunately, the additional information provided still doesn&#x27;t explain the specific reasons for the $638,761 increase in net assets with donor restrictions. The notes mention details about investments, cash, and accounts receivable, but not how donor restrictions changed.  Without more specific information from the financial statements or related disclosures, I can&#x27;t pinpoint the exact cause.  I can offer some general potential reasons, but these are not based on the provided data.&lt;/thought&gt;\n",
       "\n",
       "&lt;answer&gt;The provided financial information confirms an increase in net assets with donor restrictions of $638,761 between 2022 and 2023. However, the available information does not detail the specific transactions driving this change.  Potential reasons could include new contributions with donor-imposed restrictions, the reclassification of net assets from unrestricted to restricted, or investment earnings on restricted funds.  A review of the full financial statements, including the statement of activities and related disclosures, would be necessary to determine the precise cause of the increase.&lt;/answer&gt;\n",
       "</span>"
      ],
      "text/plain": [
       "<IPython.core.display.HTML object>"
      ]
     },
     "metadata": {},
     "output_type": "display_data"
    },
    {
     "data": {
      "text/plain": [
       "'The provided financial information confirms an increase in net assets with donor restrictions of $638,761 between 2022 and 2023. However, the available information does not detail the specific transactions driving this change.  Potential reasons could include new contributions with donor-imposed restrictions, the reclassification of net assets from unrestricted to restricted, or investment earnings on restricted funds.  A review of the full financial statements, including the statement of activities and related disclosures, would be necessary to determine the precise cause of the increase.'"
      ]
     },
     "execution_count": 67,
     "metadata": {},
     "output_type": "execute_result"
    }
   ],
   "source": [
    "agent.run(user_msg='What caused the significant change in net assets with donor restrictions between 2022 and 2023?',\n",
    "         max_iterations=10)"
   ]
  },
  {
   "cell_type": "code",
   "execution_count": 69,
   "id": "587afd1e-0af2-4c12-a9d7-23082a9dd703",
   "metadata": {
    "tags": []
   },
   "outputs": [
    {
     "name": "stdout",
     "output_type": "stream",
     "text": [
      "---------------------------------------- iteration 0  ----------------------------------------\n"
     ]
    },
    {
     "data": {
      "text/html": [
       "<span style=\"color: red;\">thought and action\n",
       ":&lt;thought&gt;I need to search for information on the specific organization&#x27;s net assets with donor restrictions for 2022 and 2023 to understand the changes.&lt;/thought&gt;\n",
       "&lt;tool_call&gt;\n",
       "{&quot;name&quot;: &quot;search&quot;, &quot;arguments&quot;: {&quot;query&quot;: &quot;net assets with donor restrictions 2022 and 2023 changes&quot;}, &quot;id&quot;: 0}\n",
       "&lt;/tool_call&gt;\n",
       "</span>"
      ],
      "text/plain": [
       "<IPython.core.display.HTML object>"
      ]
     },
     "metadata": {},
     "output_type": "display_data"
    },
    {
     "data": {
      "text/html": [
       "<span style=\"color: green;\">\n",
       " Parsed Tool is: search</span>"
      ],
      "text/plain": [
       "<IPython.core.display.HTML object>"
      ]
     },
     "metadata": {},
     "output_type": "display_data"
    },
    {
     "data": {
      "text/html": [
       "<span style=\"color: green;\">\n",
       " Tool calling details: \n",
       "{'name': 'search', 'arguments': {'query': 'net assets with donor restrictions 2022 and 2023 changes'}, 'id': 0}</span>"
      ],
      "text/plain": [
       "<IPython.core.display.HTML object>"
      ]
     },
     "metadata": {},
     "output_type": "display_data"
    },
    {
     "data": {
      "text/html": [
       "<span style=\"color: blue;\">observation:\n",
       "</span>"
      ],
      "text/plain": [
       "<IPython.core.display.HTML object>"
      ]
     },
     "metadata": {},
     "output_type": "display_data"
    },
    {
     "name": "stdout",
     "output_type": "stream",
     "text": [
      "{\"relevant information in the auditor notes\": \"Total Assets 4,116,826$     5,008,595$      \\nLiabilities and Net Assets\\nCurrent Liabilities\\nAccounts payable 298,827 $        440,809 $         \\nAccrued payroll and related expenses 35,140             29,226             \\nDeferred revenue 109,810 22,291\\nOperating lease liability, current portion 32,750 31,548\\nTotal Current Liabilities 476,527           523,874           \\nLong-term Operating Lease Liability, Less Current Portion 25,353 58,104\\nTotal Liabilities 501,880           581,978           \\nNet Assets\\nWithout donor restriction\\nBoard designated - operating reserve 396,499           420,985           \\nUndesignated 537,880           1,963,826       \\nTotal Net Assets Without Donor Restriction 934,379           2,384,811       \\nWith donor restriction 2,680,567       2,041,806       \\nTotal Net Assets 3,614,946       4,426,617       \\nTotal Liabilities and Net Assets 4,116,826$     5,008,595$      National Ataxia Foundation\\nStatements of Financial Position\\nDecember 31, 2023 and 2022\\nSee Independent Auditor's Report and Notes to the Financial Statements.\\n6Without Donor With Donor\\nRestriction Restriction Total\\nSupport and Revenue\\nSupport\\nContributions, memorials and honorariums 1,468,504$     1,614,715$      3,083,219$      \\nIn-kind contributions 121,917           -                        121,917           \\nTotal Support 1,590,421       1,614,715       3,205,136       \\nRevenue\\nConference income 264,816           -                        264,816and stored at the NINDS SCA -BRAC biorepository. Both de-identified clinical data and biofluids are available \\nfor request from non -participating investigators for approved research projects.  \\n  \\n13 \\n National Ataxia Foundation  \\nNotes to the Financial Statements  \\nDecember 31, 2023  and 2022  \\n \\nNote 1:  Summary of Significant Accounting Policies (Continued)  \\n \\nB. Basis of Accounting and Presentation  \\n \\nThe accompanying financial statements have been prepared using  the accrual basis of accounting in accordance with \\naccounting principles generally accepted in the United States of America.   \\n \\nRevenues are recorded when earned and expenses are recorded when a liability is incurred. Contributions received are \\nrecorded as an increase in non -donor -restricted or donor -restricted support depending on the existence or nature of any \\ndonor restrictions.  Accordingly, net assets of the Foundation and changes therein are classified and reported as follows:  \\n \\nNet Assets Without Donor Restriction  - Those resources over which the Foundation has discretionary control.  \\n \\nNet Assets With Donor Restriction  - Those resources subject to donor imposed restrictions, which are satisfied by \\nactions of the Foundation or passage of time, or are to be maintained permanently.  \\n \\nC. Use of Estimates  \\n \\nThe preparation of financial statements in conformity with accounting principles generally accepted in the United StatesMoney market funds 10,009             -                        -                        10,009             \\nMutual funds and stocks 1,066,325       -                        -                        1,066,325       \\nTotal Assets at Fair Value 2,788,623$     - $                     - $                     2,788,623$     \\nTotal Assets\\nMeasured at\\nLevel 1 Level 2 Level 3 Fair Value\\nCash 76,823 $          - $                     - $                     76,823 $          \\nMoney market funds 1,642,051       -                        -                        1,642,051       \\nMutual funds and stocks 989,122           -                        -                        989,122           \\nTotal Assets at Fair Value 2,707,996$     - $                     - $                     2,707,996$     Fair Value Measurements Using\\nFair Value Measurements Using2023\\n2022\\n \\n \\nThe Foundation does not have any liabilities measured at fair value on a recurring basis nor any assets or liabilities \\nmeasured at fair value on a nonrecurring basis.   \\n18 \\n National Ataxia Foundation  \\nNotes to the Financial Statements  \\nDecember 31, 2023  and 2022  \\n \\nNote 4: Retirement Plan  \\n \\nThe Foundation maintains a 401k matching plan  for US employees . For December 31, 2023  and 2022 , the amount of 401k \\nmatching expense was $58,358  and $52,528, respectively.  The Foundation also matches deferrals for a Canadian\"}\n",
      "---------------------------------------- iteration 1  ----------------------------------------\n"
     ]
    },
    {
     "data": {
      "text/html": [
       "<span style=\"color: red;\">thought and action\n",
       ":&lt;thought&gt;The observation provides financial statements including information on net assets with and without donor restrictions.  I need to extract the relevant figures for 2022 and 2023 and calculate the change.  The provided text is a bit messy, so I&#x27;ll focus on the &quot;Statements of Financial Position&quot; section.&lt;/thought&gt;\n",
       "&lt;tool_call&gt;\n",
       "{&quot;name&quot;: &quot;search&quot;, &quot;arguments&quot;: {&quot;query&quot;: &quot;Extract values for &#x27;Net Assets With Donor Restriction&#x27; for 2022 and 2023 from the provided text.&quot;}, &quot;id&quot;: 1}\n",
       "&lt;/tool_call&gt;\n",
       "</span>"
      ],
      "text/plain": [
       "<IPython.core.display.HTML object>"
      ]
     },
     "metadata": {},
     "output_type": "display_data"
    },
    {
     "data": {
      "text/html": [
       "<span style=\"color: green;\">\n",
       " Parsed Tool is: search</span>"
      ],
      "text/plain": [
       "<IPython.core.display.HTML object>"
      ]
     },
     "metadata": {},
     "output_type": "display_data"
    },
    {
     "data": {
      "text/html": [
       "<span style=\"color: green;\">\n",
       " Tool calling details: \n",
       "{'name': 'search', 'arguments': {'query': \"Extract values for 'Net Assets With Donor Restriction' for 2022 and 2023 from the provided text.\"}, 'id': 1}</span>"
      ],
      "text/plain": [
       "<IPython.core.display.HTML object>"
      ]
     },
     "metadata": {},
     "output_type": "display_data"
    },
    {
     "data": {
      "text/html": [
       "<span style=\"color: blue;\">observation:\n",
       "</span>"
      ],
      "text/plain": [
       "<IPython.core.display.HTML object>"
      ]
     },
     "metadata": {},
     "output_type": "display_data"
    },
    {
     "name": "stdout",
     "output_type": "stream",
     "text": [
      "{\"relevant information in the auditor notes\": \"Total Assets 4,116,826$     5,008,595$      \\nLiabilities and Net Assets\\nCurrent Liabilities\\nAccounts payable 298,827 $        440,809 $         \\nAccrued payroll and related expenses 35,140             29,226             \\nDeferred revenue 109,810 22,291\\nOperating lease liability, current portion 32,750 31,548\\nTotal Current Liabilities 476,527           523,874           \\nLong-term Operating Lease Liability, Less Current Portion 25,353 58,104\\nTotal Liabilities 501,880           581,978           \\nNet Assets\\nWithout donor restriction\\nBoard designated - operating reserve 396,499           420,985           \\nUndesignated 537,880           1,963,826       \\nTotal Net Assets Without Donor Restriction 934,379           2,384,811       \\nWith donor restriction 2,680,567       2,041,806       \\nTotal Net Assets 3,614,946       4,426,617       \\nTotal Liabilities and Net Assets 4,116,826$     5,008,595$      National Ataxia Foundation\\nStatements of Financial Position\\nDecember 31, 2023 and 2022\\nSee Independent Auditor's Report and Notes to the Financial Statements.\\n6Without Donor With Donor\\nRestriction Restriction Total\\nSupport and Revenue\\nSupport\\nContributions, memorials and honorariums 1,468,504$     1,614,715$      3,083,219$      \\nIn-kind contributions 121,917           -                        121,917           \\nTotal Support 1,590,421       1,614,715       3,205,136       \\nRevenue\\nConference income 264,816           -                        264,816Statements of Activities\\nFor the Years Ended December 31, 2023 and 2022\\nSee Independent Auditor's Report and Notes to the Financial Statements.\\n7Without Donor With Donor\\nRestriction Restriction Total\\nSupport and Revenue\\nSupport\\nContributions, memorials and honorariums 1,638,224$     1,767,801$      3,406,025$      \\nIn-kind contributions 9,870               -                        9,870               \\nTotal Support 1,648,094       1,767,801       3,415,895       \\nRevenue\\nConference income 309,574           -                        309,574           \\nEarned income 800,000           -                        800,000           \\nInvestment loss (127,884)          -                        (127,884)          \\nTotal Revenue 981,690           -                        981,690           \\nNet Assets Released from Restrictions 1,278,770       (1,278,770)      -                        \\n \\nTotal Support and Revenue 3,908,554       489,031           4,397,585       \\nExpenses\\nProgram services\\nResearch 1,837,520       -                        1,837,520       \\nEducation and service 579,104           -                        579,104           \\nDrug Development Collaborative 943,904           -                        943,904           \\nTotal Program Services 3,360,528       -                        3,360,528       \\nSupporting services\\nManagement and general 377,042           -                        377,042           \\nFundraising 393,619           -                        393,619102023 2022\\nCash Flows from Operating Activities\\nChange in net assets (811,671) $      266,396 $   \\nAdjustment to reconcile change in net assets\\nto net cash provided by operating activities:\\nRealized and unrealized loss (gain) on investments (75,701)  194,093  \\nAmortization of right of use asset 31,714  30,992  \\nChanges in assets:\\nAccounts receivable 48,893  (23,917)  \\nPrepaid expenses (68,659)  (121,375)  \\nChanges in liabilities:\\nAccounts payable (141,982)  388,029  \\nAccrued payroll and related expenses 5,914 8,434 \\nDeferred revenue 87,519  (150,209)  \\nOperating lease liability (31,549)  (30,374)  \\nNet Cash Provided (Used) by Operating Activities (955,522)  562,069  \\nCash Flows from Investing Activities\\nPurchase of investments (1,283,625)  (1,221,776)  \\nProceeds from sale of investments 1,278,699  1,080,423  \\n(4,926)  (141,353)  \\n(960,448)  420,716  \\n1,969,164  1,548,448  \\n1,008,716$     1,969,164$   Net Cash Used by Investing Activities  \\nChange in Cash and Cash Equivalents\\nBeginning Cash and Cash Equivalents\\nEnding Cash and Cash EquivalentsNational Ataxia Foundation\\nStatements of Cash Flows\\nFor the Years Ended December 31, 2023 and 2022\\nSee Independent Auditor's Report and Notes to the Financial Statements.\\n11 \\n National Ataxia Foundation  \\nNotes to the Financial Statements  \\nDecember 31, 2023  and 2022  \\n \\nNote 1:  Summary of Significant Accounting Policies  \\n \\nA. Nature of Activities\"}\n",
      "---------------------------------------- iteration 2  ----------------------------------------\n"
     ]
    },
    {
     "data": {
      "text/html": [
       "<span style=\"color: red;\">thought and action\n",
       ":&lt;thought&gt;I was able to extract the values for &quot;Net Assets With Donor Restriction.&quot; Now I need to calculate the difference between the 2023 and 2022 values.&lt;/thought&gt;\n",
       "&lt;tool_call&gt;\n",
       "{&quot;name&quot;: &quot;sum_two_elements&quot;, &quot;arguments&quot;: {&quot;a&quot;: 2041806, &quot;b&quot;: -2680567}, &quot;id&quot;: 2}\n",
       "&lt;/tool_call&gt;\n",
       "\n",
       "\n",
       "</span>"
      ],
      "text/plain": [
       "<IPython.core.display.HTML object>"
      ]
     },
     "metadata": {},
     "output_type": "display_data"
    },
    {
     "data": {
      "text/html": [
       "<span style=\"color: green;\">\n",
       " Parsed Tool is: sum_two_elements</span>"
      ],
      "text/plain": [
       "<IPython.core.display.HTML object>"
      ]
     },
     "metadata": {},
     "output_type": "display_data"
    },
    {
     "data": {
      "text/html": [
       "<span style=\"color: green;\">\n",
       " Tool calling details: \n",
       "{'name': 'sum_two_elements', 'arguments': {'a': 2041806, 'b': -2680567}, 'id': 2}</span>"
      ],
      "text/plain": [
       "<IPython.core.display.HTML object>"
      ]
     },
     "metadata": {},
     "output_type": "display_data"
    },
    {
     "data": {
      "text/html": [
       "<span style=\"color: blue;\">observation:\n",
       "</span>"
      ],
      "text/plain": [
       "<IPython.core.display.HTML object>"
      ]
     },
     "metadata": {},
     "output_type": "display_data"
    },
    {
     "name": "stdout",
     "output_type": "stream",
     "text": [
      "-638761\n",
      "---------------------------------------- iteration 3  ----------------------------------------\n"
     ]
    },
    {
     "data": {
      "text/html": [
       "<span style=\"color: red;\">thought and action\n",
       ":&lt;answer&gt;Net assets with donor restrictions decreased by $638,761 between 2022 and 2023.&lt;/answer&gt;\n",
       "</span>"
      ],
      "text/plain": [
       "<IPython.core.display.HTML object>"
      ]
     },
     "metadata": {},
     "output_type": "display_data"
    },
    {
     "data": {
      "text/plain": [
       "'Net assets with donor restrictions decreased by $638,761 between 2022 and 2023.'"
      ]
     },
     "execution_count": 69,
     "metadata": {},
     "output_type": "execute_result"
    }
   ],
   "source": [
    "agent.run(user_msg='What caused the significant change in net assets with donor restrictions between 2022 and 2023?',\n",
    "         max_iterations=10)"
   ]
  },
  {
   "cell_type": "code",
   "execution_count": 70,
   "id": "f3b51686-c60e-4b1b-b269-362527e437be",
   "metadata": {
    "tags": []
   },
   "outputs": [
    {
     "name": "stdout",
     "output_type": "stream",
     "text": [
      "---------------------------------------- iteration 0  ----------------------------------------\n"
     ]
    },
    {
     "data": {
      "text/html": [
       "<span style=\"color: red;\">thought and action\n",
       ":&lt;thought&gt;I need to search for information on the specific organization&#x27;s net assets with donor restrictions for 2022 and 2023 to understand the changes.&lt;/thought&gt;\n",
       "&lt;tool_call&gt;\n",
       "{&quot;name&quot;: &quot;search&quot;, &quot;arguments&quot;: {&quot;query&quot;: &quot;net assets with donor restrictions 2022 and 2023 changes&quot;}, &quot;id&quot;: 0}\n",
       "&lt;/tool_call&gt;\n",
       "</span>"
      ],
      "text/plain": [
       "<IPython.core.display.HTML object>"
      ]
     },
     "metadata": {},
     "output_type": "display_data"
    },
    {
     "data": {
      "text/html": [
       "<span style=\"color: green;\">\n",
       " Parsed Tool is: search</span>"
      ],
      "text/plain": [
       "<IPython.core.display.HTML object>"
      ]
     },
     "metadata": {},
     "output_type": "display_data"
    },
    {
     "data": {
      "text/html": [
       "<span style=\"color: green;\">\n",
       " Tool calling details: \n",
       "{'name': 'search', 'arguments': {'query': 'net assets with donor restrictions 2022 and 2023 changes'}, 'id': 0}</span>"
      ],
      "text/plain": [
       "<IPython.core.display.HTML object>"
      ]
     },
     "metadata": {},
     "output_type": "display_data"
    },
    {
     "data": {
      "text/html": [
       "<span style=\"color: blue;\">observation:\n",
       "</span>"
      ],
      "text/plain": [
       "<IPython.core.display.HTML object>"
      ]
     },
     "metadata": {},
     "output_type": "display_data"
    },
    {
     "name": "stdout",
     "output_type": "stream",
     "text": [
      "{\"relevant information in the auditor notes\": \"Total Assets 4,116,826$     5,008,595$      \\nLiabilities and Net Assets\\nCurrent Liabilities\\nAccounts payable 298,827 $        440,809 $         \\nAccrued payroll and related expenses 35,140             29,226             \\nDeferred revenue 109,810 22,291\\nOperating lease liability, current portion 32,750 31,548\\nTotal Current Liabilities 476,527           523,874           \\nLong-term Operating Lease Liability, Less Current Portion 25,353 58,104\\nTotal Liabilities 501,880           581,978           \\nNet Assets\\nWithout donor restriction\\nBoard designated - operating reserve 396,499           420,985           \\nUndesignated 537,880           1,963,826       \\nTotal Net Assets Without Donor Restriction 934,379           2,384,811       \\nWith donor restriction 2,680,567       2,041,806       \\nTotal Net Assets 3,614,946       4,426,617       \\nTotal Liabilities and Net Assets 4,116,826$     5,008,595$      National Ataxia Foundation\\nStatements of Financial Position\\nDecember 31, 2023 and 2022\\nSee Independent Auditor's Report and Notes to the Financial Statements.\\n6Without Donor With Donor\\nRestriction Restriction Total\\nSupport and Revenue\\nSupport\\nContributions, memorials and honorariums 1,468,504$     1,614,715$      3,083,219$      \\nIn-kind contributions 121,917           -                        121,917           \\nTotal Support 1,590,421       1,614,715       3,205,136       \\nRevenue\\nConference income 264,816           -                        264,816and stored at the NINDS SCA -BRAC biorepository. Both de-identified clinical data and biofluids are available \\nfor request from non -participating investigators for approved research projects.  \\n  \\n13 \\n National Ataxia Foundation  \\nNotes to the Financial Statements  \\nDecember 31, 2023  and 2022  \\n \\nNote 1:  Summary of Significant Accounting Policies (Continued)  \\n \\nB. Basis of Accounting and Presentation  \\n \\nThe accompanying financial statements have been prepared using  the accrual basis of accounting in accordance with \\naccounting principles generally accepted in the United States of America.   \\n \\nRevenues are recorded when earned and expenses are recorded when a liability is incurred. Contributions received are \\nrecorded as an increase in non -donor -restricted or donor -restricted support depending on the existence or nature of any \\ndonor restrictions.  Accordingly, net assets of the Foundation and changes therein are classified and reported as follows:  \\n \\nNet Assets Without Donor Restriction  - Those resources over which the Foundation has discretionary control.  \\n \\nNet Assets With Donor Restriction  - Those resources subject to donor imposed restrictions, which are satisfied by \\nactions of the Foundation or passage of time, or are to be maintained permanently.  \\n \\nC. Use of Estimates  \\n \\nThe preparation of financial statements in conformity with accounting principles generally accepted in the United StatesMoney market funds 10,009             -                        -                        10,009             \\nMutual funds and stocks 1,066,325       -                        -                        1,066,325       \\nTotal Assets at Fair Value 2,788,623$     - $                     - $                     2,788,623$     \\nTotal Assets\\nMeasured at\\nLevel 1 Level 2 Level 3 Fair Value\\nCash 76,823 $          - $                     - $                     76,823 $          \\nMoney market funds 1,642,051       -                        -                        1,642,051       \\nMutual funds and stocks 989,122           -                        -                        989,122           \\nTotal Assets at Fair Value 2,707,996$     - $                     - $                     2,707,996$     Fair Value Measurements Using\\nFair Value Measurements Using2023\\n2022\\n \\n \\nThe Foundation does not have any liabilities measured at fair value on a recurring basis nor any assets or liabilities \\nmeasured at fair value on a nonrecurring basis.   \\n18 \\n National Ataxia Foundation  \\nNotes to the Financial Statements  \\nDecember 31, 2023  and 2022  \\n \\nNote 4: Retirement Plan  \\n \\nThe Foundation maintains a 401k matching plan  for US employees . For December 31, 2023  and 2022 , the amount of 401k \\nmatching expense was $58,358  and $52,528, respectively.  The Foundation also matches deferrals for a Canadian\"}\n",
      "---------------------------------------- iteration 1  ----------------------------------------\n"
     ]
    },
    {
     "data": {
      "text/html": [
       "<span style=\"color: red;\">thought and action\n",
       ":&lt;thought&gt;The observation provides information from the auditor&#x27;s notes, including details about net assets with and without donor restrictions for 2022 and 2023.  I need to extract the relevant figures to determine the change and the reasons for it.&lt;/thought&gt;\n",
       "&lt;tool_call&gt;\n",
       "{&quot;name&quot;: &quot;search&quot;, &quot;arguments&quot;: {&quot;query&quot;: &quot;reasons for change in net assets with donor restrictions&quot;}, &quot;id&quot;: 1}\n",
       "&lt;/tool_call&gt;\n",
       "</span>"
      ],
      "text/plain": [
       "<IPython.core.display.HTML object>"
      ]
     },
     "metadata": {},
     "output_type": "display_data"
    },
    {
     "data": {
      "text/html": [
       "<span style=\"color: green;\">\n",
       " Parsed Tool is: search</span>"
      ],
      "text/plain": [
       "<IPython.core.display.HTML object>"
      ]
     },
     "metadata": {},
     "output_type": "display_data"
    },
    {
     "data": {
      "text/html": [
       "<span style=\"color: green;\">\n",
       " Tool calling details: \n",
       "{'name': 'search', 'arguments': {'query': 'reasons for change in net assets with donor restrictions'}, 'id': 1}</span>"
      ],
      "text/plain": [
       "<IPython.core.display.HTML object>"
      ]
     },
     "metadata": {},
     "output_type": "display_data"
    },
    {
     "data": {
      "text/html": [
       "<span style=\"color: blue;\">observation:\n",
       "</span>"
      ],
      "text/plain": [
       "<IPython.core.display.HTML object>"
      ]
     },
     "metadata": {},
     "output_type": "display_data"
    },
    {
     "name": "stdout",
     "output_type": "stream",
     "text": [
      "{\"relevant information in the auditor notes\": \"of America requires management to make estimates and assumptions that affect certain reported amounts and \\ndisclosures. Accordingly, actual results could differ from those estimates.  \\n \\nD. Cash and Cash Equivalents  \\n \\nFor purposes of the statement of cash flows, the Foundation considers short -term, highly liquid investments and \\ninvestments purchased with a maturity of three months or less to be cash equivalents. The Foundation\\u2019s cash balances \\nheld in bank depositories m ay exceed federally insured limits at times.  \\n \\nE. Investments  \\n \\nInvestments are measured at fair value in the statements of financial position. Investment income or loss (including \\nrealized  and unrealized  gains and losses on investments, interest/ dividends , and investment advisory fees) is included in \\nnon-donor -restricted revenue and support unless the income or loss is restricted by donor or law.  \\n \\nF. Accounts Receivable  \\n \\nAccounts receivable consist primarily of amounts billed for services, are unsecured, and are stated at the amount \\nmanagement expects to collect from outstanding balances. Management provides for probable uncollectible amounts \\nthrough a provision for bad de bt expense and an adjustment to a valuation allowance based on the assessment of the \\ncurrent status of individual accounts.  \\n \\nThe allowance estimate is derived from a review of the Foundation\\u2019s historical losses based on the aging of receivables.121,917 $        - $                     Programs and \\nFundraising\\nWebsite Services -                        9,870               Management and \\nGeneralEstimated wholesale price of \\nidentical or similar products\\nTotal In-kind Contributions 121,917 $        9,870 $            Google and                         \\nMicrosoft Advertising GrantsEstimated wholesale price of \\nidentical or similar products\\n \\nThe in -kind contributions as of December 31, 2023  and 2022  had no donor restrictions.  \\n  \\n20 \\n National Ataxia Foundation  \\nNotes to the Financial Statements  \\nDecember 31, 2023  and 2022  \\n \\nNote 10: Liquidity and Availability of Financial Assets  \\n \\nFinancial assets available for general expenditure, that is, without donor or other restrictions limiting their use, within o ne \\nyear of the statement of financial position dates, comprise the following:  \\n \\n2023 2022\\nCash and cash equivalents 1,008,716$     1,969,164$     \\nInvestments 2,788,623       2,707,996       \\nAccounts receivable 6,438               55,331             \\nTotal Financial Assets Available Within One Year 3,803,777       4,732,491       \\nLess: Amounts unavailable for general expenditures within one year due to:\\nBoard designated (396,499)          (420,985)          \\nRestricted by donors (2,680,567)      (2,041,806)      \\nFinancial assets available to meet general expenditures within one year 726,711 $        2,269,700$Money market funds 10,009             -                        -                        10,009             \\nMutual funds and stocks 1,066,325       -                        -                        1,066,325       \\nTotal Assets at Fair Value 2,788,623$     - $                     - $                     2,788,623$     \\nTotal Assets\\nMeasured at\\nLevel 1 Level 2 Level 3 Fair Value\\nCash 76,823 $          - $                     - $                     76,823 $          \\nMoney market funds 1,642,051       -                        -                        1,642,051       \\nMutual funds and stocks 989,122           -                        -                        989,122           \\nTotal Assets at Fair Value 2,707,996$     - $                     - $                     2,707,996$     Fair Value Measurements Using\\nFair Value Measurements Using2023\\n2022\\n \\n \\nThe Foundation does not have any liabilities measured at fair value on a recurring basis nor any assets or liabilities \\nmeasured at fair value on a nonrecurring basis.   \\n18 \\n National Ataxia Foundation  \\nNotes to the Financial Statements  \\nDecember 31, 2023  and 2022  \\n \\nNote 4: Retirement Plan  \\n \\nThe Foundation maintains a 401k matching plan  for US employees . For December 31, 2023  and 2022 , the amount of 401k \\nmatching expense was $58,358  and $52,528, respectively.  The Foundation also matches deferrals for a Canadian\"}\n",
      "---------------------------------------- iteration 2  ----------------------------------------\n"
     ]
    },
    {
     "data": {
      "text/html": [
       "<span style=\"color: red;\">thought and action\n",
       ":&lt;thought&gt;The provided information doesn&#x27;t directly explain the change in net assets with donor restrictions.  The notes discuss accounting practices, investments, and liquidity, but not the specific reasons for the change in donor-restricted assets. I need to look for information specifically addressing changes in donor restrictions, such as releases of restrictions or new restricted donations.&lt;/thought&gt;\n",
       "&lt;tool_call&gt;\n",
       "{&quot;name&quot;: &quot;search&quot;, &quot;arguments&quot;: {&quot;query&quot;: &quot;changes in donor restrictions, releases of restrictions, or new restricted donations 2022 and 2023&quot;}, &quot;id&quot;: 2}\n",
       "&lt;/tool_call&gt;\n",
       "</span>"
      ],
      "text/plain": [
       "<IPython.core.display.HTML object>"
      ]
     },
     "metadata": {},
     "output_type": "display_data"
    },
    {
     "data": {
      "text/html": [
       "<span style=\"color: green;\">\n",
       " Parsed Tool is: search</span>"
      ],
      "text/plain": [
       "<IPython.core.display.HTML object>"
      ]
     },
     "metadata": {},
     "output_type": "display_data"
    },
    {
     "data": {
      "text/html": [
       "<span style=\"color: green;\">\n",
       " Tool calling details: \n",
       "{'name': 'search', 'arguments': {'query': 'changes in donor restrictions, releases of restrictions, or new restricted donations 2022 and 2023'}, 'id': 2}</span>"
      ],
      "text/plain": [
       "<IPython.core.display.HTML object>"
      ]
     },
     "metadata": {},
     "output_type": "display_data"
    },
    {
     "data": {
      "text/html": [
       "<span style=\"color: blue;\">observation:\n",
       "</span>"
      ],
      "text/plain": [
       "<IPython.core.display.HTML object>"
      ]
     },
     "metadata": {},
     "output_type": "display_data"
    },
    {
     "name": "stdout",
     "output_type": "stream",
     "text": [
      "{\"relevant information in the auditor notes\": \"Statements of Activities\\nFor the Years Ended December 31, 2023 and 2022\\nSee Independent Auditor's Report and Notes to the Financial Statements.\\n7Without Donor With Donor\\nRestriction Restriction Total\\nSupport and Revenue\\nSupport\\nContributions, memorials and honorariums 1,638,224$     1,767,801$      3,406,025$      \\nIn-kind contributions 9,870               -                        9,870               \\nTotal Support 1,648,094       1,767,801       3,415,895       \\nRevenue\\nConference income 309,574           -                        309,574           \\nEarned income 800,000           -                        800,000           \\nInvestment loss (127,884)          -                        (127,884)          \\nTotal Revenue 981,690           -                        981,690           \\nNet Assets Released from Restrictions 1,278,770       (1,278,770)      -                        \\n \\nTotal Support and Revenue 3,908,554       489,031           4,397,585       \\nExpenses\\nProgram services\\nResearch 1,837,520       -                        1,837,520       \\nEducation and service 579,104           -                        579,104           \\nDrug Development Collaborative 943,904           -                        943,904           \\nTotal Program Services 3,360,528       -                        3,360,528       \\nSupporting services\\nManagement and general 377,042           -                        377,042           \\nFundraising 393,619           -                        393,619and stored at the NINDS SCA -BRAC biorepository. Both de-identified clinical data and biofluids are available \\nfor request from non -participating investigators for approved research projects.  \\n  \\n13 \\n National Ataxia Foundation  \\nNotes to the Financial Statements  \\nDecember 31, 2023  and 2022  \\n \\nNote 1:  Summary of Significant Accounting Policies (Continued)  \\n \\nB. Basis of Accounting and Presentation  \\n \\nThe accompanying financial statements have been prepared using  the accrual basis of accounting in accordance with \\naccounting principles generally accepted in the United States of America.   \\n \\nRevenues are recorded when earned and expenses are recorded when a liability is incurred. Contributions received are \\nrecorded as an increase in non -donor -restricted or donor -restricted support depending on the existence or nature of any \\ndonor restrictions.  Accordingly, net assets of the Foundation and changes therein are classified and reported as follows:  \\n \\nNet Assets Without Donor Restriction  - Those resources over which the Foundation has discretionary control.  \\n \\nNet Assets With Donor Restriction  - Those resources subject to donor imposed restrictions, which are satisfied by \\nactions of the Foundation or passage of time, or are to be maintained permanently.  \\n \\nC. Use of Estimates  \\n \\nThe preparation of financial statements in conformity with accounting principles generally accepted in the United StatesGeneral Research (Includes stock) 394,144           385,387           \\nCSO Funding 360,800           450,588           \\nSCA3 Clementz 291,120           340,604           \\nAAC Travel Grant 122,635           138,542           \\nSCA3 13,143             138,333           \\nMSA 3,848               3,848               \\nFriedreich's Fund 2,204               6,279               \\nSCA27B Fund 379 -                        \\nCRC SCA I -                        44,415             \\nMillion $ Research Fund -                        33,810             \\nTotal 2,680,567$     2,041,806$     \\n \\n \\n \\nNote 7: Board Designated Net Assets  \\n \\nBoard designated net assets are designated for the purpose of an operating reserve. Board designated net assets are \\n$396,499 and $420,985 as of December 31, 2023  and 2022 , respectively.  \\n \\nNote 8:  Concentrations  \\n \\nFrom time to time, the Foundation\\u2019s cash balances at financial institutions exceed Federal Deposit Insurance Corporation \\n(\\u201cFDIC\\u201d) insurance limits of $250,000. In the years ending December 31, 2023  and 2022 , the Foundation exceeded that \\nlimit by $721,725  and $ 3,113,980 , respectively. Management does not believe this presents a significant risk to the \\nFoundation.  \\n \\nNote 9: In-kind Contributions  \\n \\nThe Foundation \\u2019s in-kind contributions consist of the following in 2023  and 2022 :  \\n \\n2023 2022Usage in \\nPrograms/Activities Fair Value Techniques\\n121,917 $        - $                     Programs and \\nFundraising\"}\n",
      "---------------------------------------- iteration 3  ----------------------------------------\n"
     ]
    },
    {
     "data": {
      "text/html": [
       "<span style=\"color: red;\">thought and action\n",
       ":&lt;thought&gt;This observation provides a key piece of information: &quot;Net Assets Released from Restrictions 1,278,770       (1,278,770)&quot;. This indicates that during 2022, net assets with donor restrictions were reduced by $1,278,770 due to the release of restrictions. This likely means that the conditions placed on those donations by the donors were met, allowing the organization to use the funds for general purposes. This is the primary driver of the change in net assets with donor restrictions between 2022 and 2023.&lt;/thought&gt;\n",
       "&lt;answer&gt;The significant change in net assets with donor restrictions between 2022 and 2023 is primarily due to $1,278,770 being released from restrictions in 2022. This means that the conditions tied to those donations were met, allowing the organization to utilize the funds for general operations.&lt;/answer&gt;\n",
       "</span>"
      ],
      "text/plain": [
       "<IPython.core.display.HTML object>"
      ]
     },
     "metadata": {},
     "output_type": "display_data"
    },
    {
     "data": {
      "text/plain": [
       "'The significant change in net assets with donor restrictions between 2022 and 2023 is primarily due to $1,278,770 being released from restrictions in 2022. This means that the conditions tied to those donations were met, allowing the organization to utilize the funds for general operations.'"
      ]
     },
     "execution_count": 70,
     "metadata": {},
     "output_type": "execute_result"
    }
   ],
   "source": [
    "agent.run(user_msg='What caused the significant change in net assets with donor restrictions between 2022 and 2023?',\n",
    "         max_iterations=10)"
   ]
  },
  {
   "cell_type": "code",
   "execution_count": 64,
   "id": "b9af8615-9a1f-4112-aa2e-6e3e19e561b9",
   "metadata": {
    "tags": []
   },
   "outputs": [
    {
     "name": "stdout",
     "output_type": "stream",
     "text": [
      "---------------------------------------- iteration 0  ----------------------------------------\n"
     ]
    },
    {
     "data": {
      "text/html": [
       "<span style=\"color: red;\">thought and action\n",
       ":&lt;thought&gt;I can use the `sum_two_elements` tool to add the two numbers, then `multiply_two_elements` to multiply the result by 5, and finally `compute_log` to calculate the logarithm.&lt;/thought&gt;\n",
       "&lt;tool_call&gt;{&quot;name&quot;: &quot;sum_two_elements&quot;,&quot;arguments&quot;: {&quot;a&quot;: 1234, &quot;b&quot;: 5678}, &quot;id&quot;: 0}&lt;/tool_call&gt;\n",
       "</span>"
      ],
      "text/plain": [
       "<IPython.core.display.HTML object>"
      ]
     },
     "metadata": {},
     "output_type": "display_data"
    },
    {
     "data": {
      "text/html": [
       "<span style=\"color: green;\">\n",
       " Parsed Tool is: sum_two_elements</span>"
      ],
      "text/plain": [
       "<IPython.core.display.HTML object>"
      ]
     },
     "metadata": {},
     "output_type": "display_data"
    },
    {
     "data": {
      "text/html": [
       "<span style=\"color: green;\">\n",
       " Tool calling details: \n",
       "{'name': 'sum_two_elements', 'arguments': {'a': 1234, 'b': 5678}, 'id': 0}</span>"
      ],
      "text/plain": [
       "<IPython.core.display.HTML object>"
      ]
     },
     "metadata": {},
     "output_type": "display_data"
    },
    {
     "data": {
      "text/html": [
       "<span style=\"color: blue;\">observation:\n",
       "</span>"
      ],
      "text/plain": [
       "<IPython.core.display.HTML object>"
      ]
     },
     "metadata": {},
     "output_type": "display_data"
    },
    {
     "name": "stdout",
     "output_type": "stream",
     "text": [
      "6912\n",
      "---------------------------------------- iteration 1  ----------------------------------------\n"
     ]
    },
    {
     "data": {
      "text/html": [
       "<span style=\"color: red;\">thought and action\n",
       ":&lt;thought&gt;Now I will multiply the sum (6912) by 5 using the `multiply_two_elements` tool.&lt;/thought&gt;\n",
       "&lt;tool_call&gt;{&quot;name&quot;: &quot;multiply_two_elements&quot;,&quot;arguments&quot;: {&quot;a&quot;: 6912, &quot;b&quot;: 5}, &quot;id&quot;: 1}&lt;/tool_call&gt;\n",
       "\n",
       "</span>"
      ],
      "text/plain": [
       "<IPython.core.display.HTML object>"
      ]
     },
     "metadata": {},
     "output_type": "display_data"
    },
    {
     "data": {
      "text/html": [
       "<span style=\"color: green;\">\n",
       " Parsed Tool is: multiply_two_elements</span>"
      ],
      "text/plain": [
       "<IPython.core.display.HTML object>"
      ]
     },
     "metadata": {},
     "output_type": "display_data"
    },
    {
     "data": {
      "text/html": [
       "<span style=\"color: green;\">\n",
       " Tool calling details: \n",
       "{'name': 'multiply_two_elements', 'arguments': {'a': 6912, 'b': 5}, 'id': 1}</span>"
      ],
      "text/plain": [
       "<IPython.core.display.HTML object>"
      ]
     },
     "metadata": {},
     "output_type": "display_data"
    },
    {
     "data": {
      "text/html": [
       "<span style=\"color: blue;\">observation:\n",
       "</span>"
      ],
      "text/plain": [
       "<IPython.core.display.HTML object>"
      ]
     },
     "metadata": {},
     "output_type": "display_data"
    },
    {
     "name": "stdout",
     "output_type": "stream",
     "text": [
      "34560\n",
      "---------------------------------------- iteration 2  ----------------------------------------\n"
     ]
    },
    {
     "data": {
      "text/html": [
       "<span style=\"color: red;\">thought and action\n",
       ":&lt;thought&gt;Finally, I will compute the logarithm of the product (34560) using the `compute_log` tool.&lt;/thought&gt;\n",
       "&lt;tool_call&gt;{&quot;name&quot;: &quot;compute_log&quot;,&quot;arguments&quot;: {&quot;x&quot;: 34560}, &quot;id&quot;: 2}&lt;/tool_call&gt;\n",
       "\n",
       "</span>"
      ],
      "text/plain": [
       "<IPython.core.display.HTML object>"
      ]
     },
     "metadata": {},
     "output_type": "display_data"
    },
    {
     "data": {
      "text/html": [
       "<span style=\"color: green;\">\n",
       " Parsed Tool is: compute_log</span>"
      ],
      "text/plain": [
       "<IPython.core.display.HTML object>"
      ]
     },
     "metadata": {},
     "output_type": "display_data"
    },
    {
     "data": {
      "text/html": [
       "<span style=\"color: green;\">\n",
       " Tool calling details: \n",
       "{'name': 'compute_log', 'arguments': {'x': 34560}, 'id': 2}</span>"
      ],
      "text/plain": [
       "<IPython.core.display.HTML object>"
      ]
     },
     "metadata": {},
     "output_type": "display_data"
    },
    {
     "data": {
      "text/html": [
       "<span style=\"color: blue;\">observation:\n",
       "</span>"
      ],
      "text/plain": [
       "<IPython.core.display.HTML object>"
      ]
     },
     "metadata": {},
     "output_type": "display_data"
    },
    {
     "name": "stdout",
     "output_type": "stream",
     "text": [
      "10.450452222917992\n",
      "---------------------------------------- iteration 3  ----------------------------------------\n"
     ]
    },
    {
     "data": {
      "text/html": [
       "<span style=\"color: red;\">thought and action\n",
       ":&lt;answer&gt;The final result, after summing 1234 and 5678, multiplying by 5, and taking the logarithm, is approximately 10.45.&lt;/answer&gt;\n",
       "</span>"
      ],
      "text/plain": [
       "<IPython.core.display.HTML object>"
      ]
     },
     "metadata": {},
     "output_type": "display_data"
    },
    {
     "data": {
      "text/plain": [
       "'The final result, after summing 1234 and 5678, multiplying by 5, and taking the logarithm, is approximately 10.45.'"
      ]
     },
     "execution_count": 64,
     "metadata": {},
     "output_type": "execute_result"
    }
   ],
   "source": [
    "agent.run(user_msg='I want to calculate the sum of 1234 and 5678 and multiply the result by 5. Then, I want to take the logarithm of this result',\n",
    "         max_iterations=10) "
   ]
  },
  {
   "cell_type": "code",
   "execution_count": null,
   "id": "6852357a-43af-4604-92f7-d314c22961dd",
   "metadata": {},
   "outputs": [],
   "source": []
  }
 ],
 "metadata": {
  "environment": {
   "kernel": "python3",
   "name": "common-cpu.m125",
   "type": "gcloud",
   "uri": "us-docker.pkg.dev/deeplearning-platform-release/gcr.io/base-cpu:m125"
  },
  "kernelspec": {
   "display_name": "Python 3 (Local)",
   "language": "python",
   "name": "python3"
  },
  "language_info": {
   "codemirror_mode": {
    "name": "ipython",
    "version": 3
   },
   "file_extension": ".py",
   "mimetype": "text/x-python",
   "name": "python",
   "nbconvert_exporter": "python",
   "pygments_lexer": "ipython3",
   "version": "3.10.15"
  }
 },
 "nbformat": 4,
 "nbformat_minor": 5
}
