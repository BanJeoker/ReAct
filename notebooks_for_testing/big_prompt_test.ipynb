{
 "cells": [
  {
   "cell_type": "code",
   "execution_count": 1,
   "id": "db0bdfbc-6f63-4825-9231-d8c7e5dd1bdd",
   "metadata": {
    "tags": []
   },
   "outputs": [],
   "source": [
    "from vertexai.generative_models import GenerationConfig, GenerativeModel, Content, GenerativeModel, Part  \n"
   ]
  },
  {
   "cell_type": "code",
   "execution_count": 2,
   "id": "1df58e6b-b2e0-4cff-9cc0-6ddf5ca88f99",
   "metadata": {
    "tags": []
   },
   "outputs": [],
   "source": [
    "pdf_path='../data/naf23.pdf'\n",
    "with open(pdf_path, 'rb') as fp:\n",
    "    pdf_doc=Part.from_data(data=fp.read(),mime_type='application/pdf')\n"
   ]
  },
  {
   "cell_type": "code",
   "execution_count": 4,
   "id": "8ed3c592-33c0-4a30-ac12-d4798424d43a",
   "metadata": {
    "tags": []
   },
   "outputs": [
    {
     "data": {
      "text/plain": [
       "vertexai.generative_models._generative_models.Part"
      ]
     },
     "execution_count": 4,
     "metadata": {},
     "output_type": "execute_result"
    }
   ],
   "source": [
    "type(pdf_doc)"
   ]
  },
  {
   "cell_type": "code",
   "execution_count": 10,
   "id": "4cd05acc-374c-4272-a830-5f031051749b",
   "metadata": {
    "tags": []
   },
   "outputs": [],
   "source": [
    "def create_big_prompt(query):\n",
    "    prompt=f\"\"\"\n",
    "    You are a financial expert and an underwriter working for the commerical banking sector of the bank.\n",
    "    You will be asked a financiall question based on the income statement, balance sheet, and cash flow information of a company.\n",
    "    You are provided with auditor notes of that company where you can find actual numbers and potential drivers for the input question.\n",
    "    You need to answer the question based on the auditor notes. Do not make assumptions. Ground you answer truthfully to the auditor notes provided.\n",
    "    Now the questions is {query}.\n",
    "    The auditor note is attached as follows:\n",
    "    \"\"\"\n",
    "    return prompt"
   ]
  },
  {
   "cell_type": "code",
   "execution_count": 11,
   "id": "6e758789-ecdc-4711-9b87-f2221e409af4",
   "metadata": {
    "tags": []
   },
   "outputs": [
    {
     "name": "stdout",
     "output_type": "stream",
     "text": [
      "The Statement of Activities shows that net assets with donor restrictions decreased by $638,761 in 2023.  Note 6 details the changes in specific restricted funds, with some increasing and some decreasing.  The largest change was a decrease in the SCA2 Fund of $400,000.\n"
     ]
    }
   ],
   "source": [
    "query=\"what is National Ataxia Foundation's total revenue in 2023?\"\n",
    "create_big_prompt(query)\n",
    "client=GenerativeModel(\"gemini-1.5-pro-002\")\n",
    "response = client.generate_content(contents=[prompt,pdf_doc], generation_config={\"temperature\":0})\n",
    "print(response.text)"
   ]
  },
  {
   "cell_type": "code",
   "execution_count": 9,
   "id": "f6587b94-d14b-469e-8c80-83c9843a9912",
   "metadata": {
    "tags": []
   },
   "outputs": [
    {
     "name": "stdout",
     "output_type": "stream",
     "text": [
      "The notes to the financial statements show that net assets with donor restrictions decreased by $361,261 between 2022 and 2023.  This is due to the release of temporarily restricted net assets for research and other programs.  The statement of activities shows that $975,954 of temporarily restricted net assets were released from restrictions in 2023.  This was offset by $638,761 of new contributions with donor restrictions, resulting in the net decrease of $361,261.\n"
     ]
    }
   ],
   "source": [
    "question=\"What caused the significant change in net assets with donor restrictions between 2022 and 2023?\"\n",
    "create_big_prompt(question)\n",
    "client=GenerativeModel(\"gemini-1.5-pro-002\")\n",
    "response = client.generate_content(contents=[prompt,pdf_doc], generation_config={\"temperature\":0})\n",
    "print(response.text)"
   ]
  },
  {
   "cell_type": "markdown",
   "id": "566b6694-09b0-4f13-9fca-9fb1fc7c30ff",
   "metadata": {},
   "source": [
    "## Use py"
   ]
  },
  {
   "cell_type": "code",
   "execution_count": 17,
   "id": "8d5bbb41-8ea9-4d7c-bf06-302f806828c3",
   "metadata": {
    "tags": []
   },
   "outputs": [],
   "source": [
    "import sys\n",
    "import os\n",
    "import importlib\n",
    "\n",
    "sys.path.append(os.path.abspath('../utils'))\n",
    "\n",
    "import big_prompt_agent\n",
    "importlib.reload(big_prompt_agent)\n",
    "from big_prompt_agent import BigPromptAgent"
   ]
  },
  {
   "cell_type": "code",
   "execution_count": 18,
   "id": "706f4aa7-7979-4408-9b30-ec385a8f626e",
   "metadata": {
    "tags": []
   },
   "outputs": [],
   "source": [
    "agent=BigPromptAgent(pdf_path='../data/naf23.pdf')"
   ]
  },
  {
   "cell_type": "code",
   "execution_count": 19,
   "id": "44f7d95d-1826-4b9d-9f47-23c5f53a1344",
   "metadata": {
    "tags": []
   },
   "outputs": [
    {
     "name": "stdout",
     "output_type": "stream",
     "text": [
      "The provided financial statements are for the years ended December 31, 2023 *and* 2022.  The Statement of Activities shows the following total support and revenue for 2023:\n",
      "\n",
      "* **Total Support:** $3,205,136\n",
      "* **Total Revenue:** $979,651\n",
      "* **Net Assets Released from Restrictions:** ($975,954) - Note that this is a *decrease* in temporarily restricted net assets.\n",
      "* **Total Support and Revenue:** $4,184,787\n"
     ]
    }
   ],
   "source": [
    "answer=agent.run(query=\"what is National Ataxia Foundation's total revenue in 2023?\")\n",
    "print(answer)"
   ]
  },
  {
   "cell_type": "code",
   "execution_count": null,
   "id": "bf846667-b02e-4cda-a130-a072a31002b1",
   "metadata": {},
   "outputs": [],
   "source": []
  }
 ],
 "metadata": {
  "environment": {
   "kernel": "python3",
   "name": "common-cpu.m125",
   "type": "gcloud",
   "uri": "us-docker.pkg.dev/deeplearning-platform-release/gcr.io/base-cpu:m125"
  },
  "kernelspec": {
   "display_name": "Python 3 (Local)",
   "language": "python",
   "name": "python3"
  },
  "language_info": {
   "codemirror_mode": {
    "name": "ipython",
    "version": 3
   },
   "file_extension": ".py",
   "mimetype": "text/x-python",
   "name": "python",
   "nbconvert_exporter": "python",
   "pygments_lexer": "ipython3",
   "version": "3.10.15"
  }
 },
 "nbformat": 4,
 "nbformat_minor": 5
}
